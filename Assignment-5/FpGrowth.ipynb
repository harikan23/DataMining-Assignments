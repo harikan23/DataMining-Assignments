{
  "nbformat": 4,
  "nbformat_minor": 0,
  "metadata": {
    "colab": {
      "name": "Untitled14.ipynb",
      "provenance": []
    },
    "kernelspec": {
      "name": "python3",
      "display_name": "Python 3"
    },
    "language_info": {
      "name": "python"
    }
  },
  "cells": [
    {
      "cell_type": "markdown",
      "metadata": {
        "id": "HL1-LSpj2Kxr"
      },
      "source": [
        "Fp Growth algorithm"
      ]
    },
    {
      "cell_type": "code",
      "metadata": {
        "id": "8w8w06GHg11H"
      },
      "source": [
        "import numpy as np\n",
        "import matplotlib.pyplot as plt\n",
        "import pandas as pd"
      ],
      "execution_count": 1,
      "outputs": []
    },
    {
      "cell_type": "code",
      "metadata": {
        "colab": {
          "base_uri": "https://localhost:8080/"
        },
        "id": "FsUo7xuYhKRV",
        "outputId": "ee1e0f7a-58c2-4a24-f405-6896184efc2f"
      },
      "source": [
        "from google.colab import drive\n",
        "drive.mount('/content/gdrive')"
      ],
      "execution_count": 2,
      "outputs": [
        {
          "output_type": "stream",
          "name": "stdout",
          "text": [
            "Mounted at /content/gdrive\n"
          ]
        }
      ]
    },
    {
      "cell_type": "code",
      "metadata": {
        "colab": {
          "base_uri": "https://localhost:8080/",
          "height": 206
        },
        "id": "iabQMoLJhOLt",
        "outputId": "ef5862e2-5127-489b-c13f-5ce1bf80724e"
      },
      "source": [
        "transaction_train = pd.read_csv('/content/gdrive/MyDrive/TRAIN-ARULES.csv', header=None)\n",
        "transaction_train.head()"
      ],
      "execution_count": 3,
      "outputs": [
        {
          "output_type": "execute_result",
          "data": {
            "text/html": [
              "<div>\n",
              "<style scoped>\n",
              "    .dataframe tbody tr th:only-of-type {\n",
              "        vertical-align: middle;\n",
              "    }\n",
              "\n",
              "    .dataframe tbody tr th {\n",
              "        vertical-align: top;\n",
              "    }\n",
              "\n",
              "    .dataframe thead th {\n",
              "        text-align: right;\n",
              "    }\n",
              "</style>\n",
              "<table border=\"1\" class=\"dataframe\">\n",
              "  <thead>\n",
              "    <tr style=\"text-align: right;\">\n",
              "      <th></th>\n",
              "      <th>0</th>\n",
              "      <th>1</th>\n",
              "      <th>2</th>\n",
              "    </tr>\n",
              "  </thead>\n",
              "  <tbody>\n",
              "    <tr>\n",
              "      <th>0</th>\n",
              "      <td>order_id</td>\n",
              "      <td>user_id</td>\n",
              "      <td>product_name</td>\n",
              "    </tr>\n",
              "    <tr>\n",
              "      <th>1</th>\n",
              "      <td>1483</td>\n",
              "      <td>90</td>\n",
              "      <td>Organic Pink Lemonade Bunny Fruit Snacks</td>\n",
              "    </tr>\n",
              "    <tr>\n",
              "      <th>2</th>\n",
              "      <td>1483</td>\n",
              "      <td>90</td>\n",
              "      <td>Dark Chocolate Minis</td>\n",
              "    </tr>\n",
              "    <tr>\n",
              "      <th>3</th>\n",
              "      <td>1483</td>\n",
              "      <td>90</td>\n",
              "      <td>Sparkling Water, Natural Mango Essenced</td>\n",
              "    </tr>\n",
              "    <tr>\n",
              "      <th>4</th>\n",
              "      <td>1483</td>\n",
              "      <td>90</td>\n",
              "      <td>Peach-Pear Sparkling Water</td>\n",
              "    </tr>\n",
              "  </tbody>\n",
              "</table>\n",
              "</div>"
            ],
            "text/plain": [
              "          0        1                                         2\n",
              "0  order_id  user_id                              product_name\n",
              "1      1483       90  Organic Pink Lemonade Bunny Fruit Snacks\n",
              "2      1483       90                      Dark Chocolate Minis\n",
              "3      1483       90   Sparkling Water, Natural Mango Essenced\n",
              "4      1483       90                Peach-Pear Sparkling Water"
            ]
          },
          "metadata": {},
          "execution_count": 3
        }
      ]
    },
    {
      "cell_type": "code",
      "metadata": {
        "id": "N3XV-8Jsh1Dr"
      },
      "source": [
        "column_names = [\"transaction_id\", \"items\"]\n",
        "dataset = pd.DataFrame()"
      ],
      "execution_count": 6,
      "outputs": []
    },
    {
      "cell_type": "code",
      "metadata": {
        "id": "SJepm5Ibhvj4"
      },
      "source": [
        "transaction_id = transaction_train[0].unique()"
      ],
      "execution_count": 4,
      "outputs": []
    },
    {
      "cell_type": "code",
      "metadata": {
        "colab": {
          "base_uri": "https://localhost:8080/",
          "height": 206
        },
        "id": "Qy7OOkMPhStG",
        "outputId": "4b70d864-8cd1-4e5b-881f-1237c936ada1"
      },
      "source": [
        "for tran_id in transaction_id:\n",
        "  itemslist = \"\"\n",
        "  for index, row in transaction_train.iterrows():\n",
        "    if tran_id == transaction_train[0][index]:\n",
        "        if not itemslist:\n",
        "          itemslist = transaction_train[2][index]\n",
        "        else:\n",
        "          itemslist += \",\"+transaction_train[2][index]\n",
        "  df2 = pd.DataFrame({'transaction_id': [tran_id],\n",
        "                    'items' : [itemslist]})\n",
        "  dataset = pd.concat([dataset, df2], ignore_index = True, axis = 0)\n",
        "\n",
        "dataset.head()"
      ],
      "execution_count": 7,
      "outputs": [
        {
          "output_type": "execute_result",
          "data": {
            "text/html": [
              "<div>\n",
              "<style scoped>\n",
              "    .dataframe tbody tr th:only-of-type {\n",
              "        vertical-align: middle;\n",
              "    }\n",
              "\n",
              "    .dataframe tbody tr th {\n",
              "        vertical-align: top;\n",
              "    }\n",
              "\n",
              "    .dataframe thead th {\n",
              "        text-align: right;\n",
              "    }\n",
              "</style>\n",
              "<table border=\"1\" class=\"dataframe\">\n",
              "  <thead>\n",
              "    <tr style=\"text-align: right;\">\n",
              "      <th></th>\n",
              "      <th>transaction_id</th>\n",
              "      <th>items</th>\n",
              "    </tr>\n",
              "  </thead>\n",
              "  <tbody>\n",
              "    <tr>\n",
              "      <th>0</th>\n",
              "      <td>order_id</td>\n",
              "      <td>product_name</td>\n",
              "    </tr>\n",
              "    <tr>\n",
              "      <th>1</th>\n",
              "      <td>1483</td>\n",
              "      <td>Organic Pink Lemonade Bunny Fruit Snacks,Dark ...</td>\n",
              "    </tr>\n",
              "    <tr>\n",
              "      <th>2</th>\n",
              "      <td>4595</td>\n",
              "      <td>Creme De Menthe Thins,Milk Chocolate English T...</td>\n",
              "    </tr>\n",
              "    <tr>\n",
              "      <th>3</th>\n",
              "      <td>7099</td>\n",
              "      <td>Revive Zero Vitamin Water,VitaminWater Zero™ X...</td>\n",
              "    </tr>\n",
              "    <tr>\n",
              "      <th>4</th>\n",
              "      <td>8382</td>\n",
              "      <td>Mountain Spring Water,Clementines, Bag,Pineapp...</td>\n",
              "    </tr>\n",
              "  </tbody>\n",
              "</table>\n",
              "</div>"
            ],
            "text/plain": [
              "  transaction_id                                              items\n",
              "0       order_id                                       product_name\n",
              "1           1483  Organic Pink Lemonade Bunny Fruit Snacks,Dark ...\n",
              "2           4595  Creme De Menthe Thins,Milk Chocolate English T...\n",
              "3           7099  Revive Zero Vitamin Water,VitaminWater Zero™ X...\n",
              "4           8382  Mountain Spring Water,Clementines, Bag,Pineapp..."
            ]
          },
          "metadata": {},
          "execution_count": 7
        }
      ]
    },
    {
      "cell_type": "code",
      "metadata": {
        "id": "5bInEqqOoRvo"
      },
      "source": [
        "dataset_items = dataset.copy()"
      ],
      "execution_count": 40,
      "outputs": []
    },
    {
      "cell_type": "code",
      "metadata": {
        "id": "QTKIzo31oZLX"
      },
      "source": [
        "dataset_items = dataset_items.drop(columns=['transaction_id'])"
      ],
      "execution_count": 41,
      "outputs": []
    },
    {
      "cell_type": "code",
      "metadata": {
        "id": "A5a9hvEBofFe"
      },
      "source": [
        "dataset_items = dataset_items.drop(0)"
      ],
      "execution_count": 42,
      "outputs": []
    },
    {
      "cell_type": "code",
      "metadata": {
        "id": "8nDTtJhc1jeU"
      },
      "source": [
        "data_items_table = dataset_items.copy()"
      ],
      "execution_count": 43,
      "outputs": []
    },
    {
      "cell_type": "code",
      "metadata": {
        "colab": {
          "base_uri": "https://localhost:8080/",
          "height": 206
        },
        "id": "ooR6zGEYo-zp",
        "outputId": "fce6dfc7-154b-4291-b234-568d7ab11255"
      },
      "source": [
        "dataset_items['items'] = [x.split(',') for x in dataset_items['items']] #dataset_items['items'].split(',')\n",
        "dataset_items.head()"
      ],
      "execution_count": 16,
      "outputs": [
        {
          "output_type": "execute_result",
          "data": {
            "text/html": [
              "<div>\n",
              "<style scoped>\n",
              "    .dataframe tbody tr th:only-of-type {\n",
              "        vertical-align: middle;\n",
              "    }\n",
              "\n",
              "    .dataframe tbody tr th {\n",
              "        vertical-align: top;\n",
              "    }\n",
              "\n",
              "    .dataframe thead th {\n",
              "        text-align: right;\n",
              "    }\n",
              "</style>\n",
              "<table border=\"1\" class=\"dataframe\">\n",
              "  <thead>\n",
              "    <tr style=\"text-align: right;\">\n",
              "      <th></th>\n",
              "      <th>items</th>\n",
              "    </tr>\n",
              "  </thead>\n",
              "  <tbody>\n",
              "    <tr>\n",
              "      <th>1</th>\n",
              "      <td>[Organic Pink Lemonade Bunny Fruit Snacks, Dar...</td>\n",
              "    </tr>\n",
              "    <tr>\n",
              "      <th>2</th>\n",
              "      <td>[Creme De Menthe Thins, Milk Chocolate English...</td>\n",
              "    </tr>\n",
              "    <tr>\n",
              "      <th>3</th>\n",
              "      <td>[Revive Zero Vitamin Water, VitaminWater Zero™...</td>\n",
              "    </tr>\n",
              "    <tr>\n",
              "      <th>4</th>\n",
              "      <td>[Mountain Spring Water, Clementines,  Bag, Pin...</td>\n",
              "    </tr>\n",
              "    <tr>\n",
              "      <th>5</th>\n",
              "      <td>[Truffle,  Sea Salt, Black Truffle, 1500 Pale ...</td>\n",
              "    </tr>\n",
              "  </tbody>\n",
              "</table>\n",
              "</div>"
            ],
            "text/plain": [
              "                                               items\n",
              "1  [Organic Pink Lemonade Bunny Fruit Snacks, Dar...\n",
              "2  [Creme De Menthe Thins, Milk Chocolate English...\n",
              "3  [Revive Zero Vitamin Water, VitaminWater Zero™...\n",
              "4  [Mountain Spring Water, Clementines,  Bag, Pin...\n",
              "5  [Truffle,  Sea Salt, Black Truffle, 1500 Pale ..."
            ]
          },
          "metadata": {},
          "execution_count": 16
        }
      ]
    },
    {
      "cell_type": "code",
      "metadata": {
        "colab": {
          "base_uri": "https://localhost:8080/"
        },
        "id": "0IaksNSOpNUf",
        "outputId": "3e08a2e2-e78d-4e6a-805d-0a9eb3a9d761"
      },
      "source": [
        "data_items_list = list()\n",
        "for idx, row in dataset_items.iterrows():\n",
        "  data_items_list.append(dataset_items['items'][idx])\n",
        "print(len(data_items_list))"
      ],
      "execution_count": 20,
      "outputs": [
        {
          "output_type": "stream",
          "name": "stdout",
          "text": [
            "1418\n"
          ]
        }
      ]
    },
    {
      "cell_type": "markdown",
      "metadata": {
        "id": "mb5n7Hre2Ykv"
      },
      "source": [
        "Encoding transaction into columns"
      ]
    },
    {
      "cell_type": "code",
      "metadata": {
        "colab": {
          "base_uri": "https://localhost:8080/"
        },
        "id": "VjOHvCC7h3Qu",
        "outputId": "87963b29-ba35-4311-8f5c-84b0418b357e"
      },
      "source": [
        "from mlxtend.preprocessing import TransactionEncoder\n",
        "\n",
        "te = TransactionEncoder()\n",
        "te_ary = te.fit(data_items_list).transform(data_items_list)\n",
        "df = pd.DataFrame(te_ary, columns=te.columns_)\n",
        "df.columns"
      ],
      "execution_count": 21,
      "outputs": [
        {
          "output_type": "execute_result",
          "data": {
            "text/plain": [
              "Index([' & Baby Wipes', ' & orange', ' 10-1/16 Inch', ' 2-Ply Paper Towels',\n",
              "       ' 3-Ply', ' 50% Reduced Sodium', ' 97% Fat Free', ' 98% Fat Free',\n",
              "       ' Aged Parmesan and Romano Cheeses Three Cheese Tortellini',\n",
              "       ' Aged White Cheddar',\n",
              "       ...\n",
              "       'Zero Calorie Cola Soda', 'Zero Calorie Lemon Lime Soda',\n",
              "       'Zero Calorie Tonic Water', 'Zero Go-Go Mixed Berry Vitamin Water',\n",
              "       'Zero Soda', 'Zero Vitamin Water',\n",
              "       'Zero XXX Acai Blueberry Pomegranate', 'Zucchini Noodles',\n",
              "       'Zucchini Squash', 'smartwater® Electrolyte Enhanced Water'],\n",
              "      dtype='object', length=3685)"
            ]
          },
          "metadata": {},
          "execution_count": 21
        }
      ]
    },
    {
      "cell_type": "code",
      "metadata": {
        "colab": {
          "base_uri": "https://localhost:8080/",
          "height": 412
        },
        "id": "zOeTGvvjpzGm",
        "outputId": "53e10638-e8fb-49d0-a6c2-782fffa08f0e"
      },
      "source": [
        "df.head()"
      ],
      "execution_count": 22,
      "outputs": [
        {
          "output_type": "execute_result",
          "data": {
            "text/html": [
              "<div>\n",
              "<style scoped>\n",
              "    .dataframe tbody tr th:only-of-type {\n",
              "        vertical-align: middle;\n",
              "    }\n",
              "\n",
              "    .dataframe tbody tr th {\n",
              "        vertical-align: top;\n",
              "    }\n",
              "\n",
              "    .dataframe thead th {\n",
              "        text-align: right;\n",
              "    }\n",
              "</style>\n",
              "<table border=\"1\" class=\"dataframe\">\n",
              "  <thead>\n",
              "    <tr style=\"text-align: right;\">\n",
              "      <th></th>\n",
              "      <th>&amp; Baby Wipes</th>\n",
              "      <th>&amp; orange</th>\n",
              "      <th>10-1/16 Inch</th>\n",
              "      <th>2-Ply Paper Towels</th>\n",
              "      <th>3-Ply</th>\n",
              "      <th>50% Reduced Sodium</th>\n",
              "      <th>97% Fat Free</th>\n",
              "      <th>98% Fat Free</th>\n",
              "      <th>Aged Parmesan and Romano Cheeses Three Cheese Tortellini</th>\n",
              "      <th>Aged White Cheddar</th>\n",
              "      <th>Aloe</th>\n",
              "      <th>Americano</th>\n",
              "      <th>Antiplaque</th>\n",
              "      <th>Apple Cider</th>\n",
              "      <th>Arame (Sea Vegetable) &amp; Ginger</th>\n",
              "      <th>Baby Bok Choy</th>\n",
              "      <th>Bag</th>\n",
              "      <th>Bags</th>\n",
              "      <th>Bibb) Lettuce</th>\n",
              "      <th>Black Bean &amp; Sweet Corn</th>\n",
              "      <th>Blood Orange</th>\n",
              "      <th>Blueberry on the Bottom Yogurt</th>\n",
              "      <th>Bologna Style</th>\n",
              "      <th>Brew Free! Or Die IPA</th>\n",
              "      <th>Broccoli</th>\n",
              "      <th>Brown Rice</th>\n",
              "      <th>Bunch</th>\n",
              "      <th>Butter</th>\n",
              "      <th>Caffeine Free</th>\n",
              "      <th>California</th>\n",
              "      <th>Calorie Free</th>\n",
              "      <th>Carrots &amp; Kale</th>\n",
              "      <th>Cheddar</th>\n",
              "      <th>Cheddar Cheese</th>\n",
              "      <th>Cherry</th>\n",
              "      <th>Chipotle</th>\n",
              "      <th>Citrus</th>\n",
              "      <th>Clasico</th>\n",
              "      <th>Classic</th>\n",
              "      <th>Coarse</th>\n",
              "      <th>...</th>\n",
              "      <th>Women's MultiVites Gummy Vitamins</th>\n",
              "      <th>World Cuisine Certified Halal Chicken Tikka Masala With Basmati Rice</th>\n",
              "      <th>XL Emerald White Seedless Grapes</th>\n",
              "      <th>XL Pick-A-Size Paper Towel Rolls</th>\n",
              "      <th>Yellow Bell Pepper</th>\n",
              "      <th>Yellow Corn Meal</th>\n",
              "      <th>Yellow Corn Taco Shells</th>\n",
              "      <th>Yellow Corn Tortilla Chips</th>\n",
              "      <th>Yellow Corn Tortillas</th>\n",
              "      <th>Yellow Enriched &amp; Degerminated Corn Meal</th>\n",
              "      <th>Yellow Grape Tomatoes</th>\n",
              "      <th>Yellow Onions</th>\n",
              "      <th>Yellow Potato</th>\n",
              "      <th>Yellow Straightneck Squash</th>\n",
              "      <th>YoBaby Blueberry Apple Yogurt</th>\n",
              "      <th>YoKids Blueberry &amp; Strawberry/Vanilla Yogurt</th>\n",
              "      <th>YoKids Squeeze! Organic Strawberry Flavor Yogurt</th>\n",
              "      <th>YoKids Squeezers Organic Low-Fat Yogurt</th>\n",
              "      <th>YoKids Strawberry Banana/Strawberry Yogurt</th>\n",
              "      <th>Yobaby Organic Plain Yogurt</th>\n",
              "      <th>Yoghurt Blueberry</th>\n",
              "      <th>Yogurt</th>\n",
              "      <th>Yogurt Pretzels</th>\n",
              "      <th>Yotoddler Organic Pear Spinach Mango Yogurt</th>\n",
              "      <th>Yukon Gold Potatoes 5lb Bag</th>\n",
              "      <th>Z Bar Protein Peanut Butter Chocolate Protein Snack Bar</th>\n",
              "      <th>ZBar Organic Chocolate Brownie Energy Snack</th>\n",
              "      <th>ZBar Protein Chocolate Mint Protein Bar</th>\n",
              "      <th>Zen Tea</th>\n",
              "      <th>Zero Calorie Cola</th>\n",
              "      <th>Zero Calorie Cola Soda</th>\n",
              "      <th>Zero Calorie Lemon Lime Soda</th>\n",
              "      <th>Zero Calorie Tonic Water</th>\n",
              "      <th>Zero Go-Go Mixed Berry Vitamin Water</th>\n",
              "      <th>Zero Soda</th>\n",
              "      <th>Zero Vitamin Water</th>\n",
              "      <th>Zero XXX Acai Blueberry Pomegranate</th>\n",
              "      <th>Zucchini Noodles</th>\n",
              "      <th>Zucchini Squash</th>\n",
              "      <th>smartwater® Electrolyte Enhanced Water</th>\n",
              "    </tr>\n",
              "  </thead>\n",
              "  <tbody>\n",
              "    <tr>\n",
              "      <th>0</th>\n",
              "      <td>False</td>\n",
              "      <td>False</td>\n",
              "      <td>False</td>\n",
              "      <td>False</td>\n",
              "      <td>False</td>\n",
              "      <td>False</td>\n",
              "      <td>False</td>\n",
              "      <td>False</td>\n",
              "      <td>False</td>\n",
              "      <td>False</td>\n",
              "      <td>False</td>\n",
              "      <td>False</td>\n",
              "      <td>False</td>\n",
              "      <td>False</td>\n",
              "      <td>False</td>\n",
              "      <td>False</td>\n",
              "      <td>False</td>\n",
              "      <td>False</td>\n",
              "      <td>False</td>\n",
              "      <td>False</td>\n",
              "      <td>False</td>\n",
              "      <td>False</td>\n",
              "      <td>False</td>\n",
              "      <td>False</td>\n",
              "      <td>False</td>\n",
              "      <td>False</td>\n",
              "      <td>False</td>\n",
              "      <td>False</td>\n",
              "      <td>False</td>\n",
              "      <td>False</td>\n",
              "      <td>False</td>\n",
              "      <td>False</td>\n",
              "      <td>False</td>\n",
              "      <td>False</td>\n",
              "      <td>False</td>\n",
              "      <td>False</td>\n",
              "      <td>False</td>\n",
              "      <td>False</td>\n",
              "      <td>False</td>\n",
              "      <td>False</td>\n",
              "      <td>...</td>\n",
              "      <td>False</td>\n",
              "      <td>False</td>\n",
              "      <td>False</td>\n",
              "      <td>False</td>\n",
              "      <td>False</td>\n",
              "      <td>False</td>\n",
              "      <td>False</td>\n",
              "      <td>False</td>\n",
              "      <td>False</td>\n",
              "      <td>False</td>\n",
              "      <td>False</td>\n",
              "      <td>False</td>\n",
              "      <td>False</td>\n",
              "      <td>False</td>\n",
              "      <td>False</td>\n",
              "      <td>False</td>\n",
              "      <td>False</td>\n",
              "      <td>False</td>\n",
              "      <td>False</td>\n",
              "      <td>False</td>\n",
              "      <td>False</td>\n",
              "      <td>False</td>\n",
              "      <td>False</td>\n",
              "      <td>False</td>\n",
              "      <td>False</td>\n",
              "      <td>False</td>\n",
              "      <td>False</td>\n",
              "      <td>False</td>\n",
              "      <td>False</td>\n",
              "      <td>False</td>\n",
              "      <td>False</td>\n",
              "      <td>False</td>\n",
              "      <td>False</td>\n",
              "      <td>False</td>\n",
              "      <td>False</td>\n",
              "      <td>False</td>\n",
              "      <td>False</td>\n",
              "      <td>False</td>\n",
              "      <td>False</td>\n",
              "      <td>False</td>\n",
              "    </tr>\n",
              "    <tr>\n",
              "      <th>1</th>\n",
              "      <td>False</td>\n",
              "      <td>False</td>\n",
              "      <td>False</td>\n",
              "      <td>False</td>\n",
              "      <td>False</td>\n",
              "      <td>False</td>\n",
              "      <td>False</td>\n",
              "      <td>False</td>\n",
              "      <td>False</td>\n",
              "      <td>False</td>\n",
              "      <td>False</td>\n",
              "      <td>False</td>\n",
              "      <td>False</td>\n",
              "      <td>False</td>\n",
              "      <td>False</td>\n",
              "      <td>False</td>\n",
              "      <td>False</td>\n",
              "      <td>False</td>\n",
              "      <td>False</td>\n",
              "      <td>False</td>\n",
              "      <td>False</td>\n",
              "      <td>False</td>\n",
              "      <td>False</td>\n",
              "      <td>False</td>\n",
              "      <td>False</td>\n",
              "      <td>False</td>\n",
              "      <td>False</td>\n",
              "      <td>False</td>\n",
              "      <td>False</td>\n",
              "      <td>False</td>\n",
              "      <td>False</td>\n",
              "      <td>False</td>\n",
              "      <td>False</td>\n",
              "      <td>False</td>\n",
              "      <td>False</td>\n",
              "      <td>False</td>\n",
              "      <td>False</td>\n",
              "      <td>False</td>\n",
              "      <td>False</td>\n",
              "      <td>False</td>\n",
              "      <td>...</td>\n",
              "      <td>False</td>\n",
              "      <td>False</td>\n",
              "      <td>False</td>\n",
              "      <td>False</td>\n",
              "      <td>False</td>\n",
              "      <td>False</td>\n",
              "      <td>False</td>\n",
              "      <td>False</td>\n",
              "      <td>False</td>\n",
              "      <td>False</td>\n",
              "      <td>False</td>\n",
              "      <td>False</td>\n",
              "      <td>False</td>\n",
              "      <td>False</td>\n",
              "      <td>False</td>\n",
              "      <td>False</td>\n",
              "      <td>False</td>\n",
              "      <td>False</td>\n",
              "      <td>False</td>\n",
              "      <td>False</td>\n",
              "      <td>False</td>\n",
              "      <td>False</td>\n",
              "      <td>False</td>\n",
              "      <td>False</td>\n",
              "      <td>False</td>\n",
              "      <td>False</td>\n",
              "      <td>False</td>\n",
              "      <td>False</td>\n",
              "      <td>False</td>\n",
              "      <td>False</td>\n",
              "      <td>False</td>\n",
              "      <td>False</td>\n",
              "      <td>False</td>\n",
              "      <td>False</td>\n",
              "      <td>False</td>\n",
              "      <td>False</td>\n",
              "      <td>False</td>\n",
              "      <td>False</td>\n",
              "      <td>False</td>\n",
              "      <td>False</td>\n",
              "    </tr>\n",
              "    <tr>\n",
              "      <th>2</th>\n",
              "      <td>False</td>\n",
              "      <td>False</td>\n",
              "      <td>False</td>\n",
              "      <td>False</td>\n",
              "      <td>False</td>\n",
              "      <td>False</td>\n",
              "      <td>False</td>\n",
              "      <td>False</td>\n",
              "      <td>False</td>\n",
              "      <td>False</td>\n",
              "      <td>False</td>\n",
              "      <td>False</td>\n",
              "      <td>False</td>\n",
              "      <td>False</td>\n",
              "      <td>False</td>\n",
              "      <td>False</td>\n",
              "      <td>False</td>\n",
              "      <td>False</td>\n",
              "      <td>False</td>\n",
              "      <td>False</td>\n",
              "      <td>False</td>\n",
              "      <td>False</td>\n",
              "      <td>False</td>\n",
              "      <td>False</td>\n",
              "      <td>False</td>\n",
              "      <td>False</td>\n",
              "      <td>False</td>\n",
              "      <td>False</td>\n",
              "      <td>False</td>\n",
              "      <td>False</td>\n",
              "      <td>False</td>\n",
              "      <td>False</td>\n",
              "      <td>False</td>\n",
              "      <td>False</td>\n",
              "      <td>False</td>\n",
              "      <td>False</td>\n",
              "      <td>False</td>\n",
              "      <td>False</td>\n",
              "      <td>False</td>\n",
              "      <td>False</td>\n",
              "      <td>...</td>\n",
              "      <td>False</td>\n",
              "      <td>False</td>\n",
              "      <td>False</td>\n",
              "      <td>False</td>\n",
              "      <td>False</td>\n",
              "      <td>False</td>\n",
              "      <td>False</td>\n",
              "      <td>False</td>\n",
              "      <td>False</td>\n",
              "      <td>False</td>\n",
              "      <td>False</td>\n",
              "      <td>False</td>\n",
              "      <td>False</td>\n",
              "      <td>False</td>\n",
              "      <td>False</td>\n",
              "      <td>False</td>\n",
              "      <td>False</td>\n",
              "      <td>False</td>\n",
              "      <td>False</td>\n",
              "      <td>False</td>\n",
              "      <td>False</td>\n",
              "      <td>False</td>\n",
              "      <td>False</td>\n",
              "      <td>False</td>\n",
              "      <td>False</td>\n",
              "      <td>False</td>\n",
              "      <td>False</td>\n",
              "      <td>False</td>\n",
              "      <td>False</td>\n",
              "      <td>False</td>\n",
              "      <td>False</td>\n",
              "      <td>False</td>\n",
              "      <td>False</td>\n",
              "      <td>False</td>\n",
              "      <td>False</td>\n",
              "      <td>True</td>\n",
              "      <td>False</td>\n",
              "      <td>False</td>\n",
              "      <td>False</td>\n",
              "      <td>False</td>\n",
              "    </tr>\n",
              "    <tr>\n",
              "      <th>3</th>\n",
              "      <td>False</td>\n",
              "      <td>False</td>\n",
              "      <td>False</td>\n",
              "      <td>False</td>\n",
              "      <td>False</td>\n",
              "      <td>False</td>\n",
              "      <td>False</td>\n",
              "      <td>False</td>\n",
              "      <td>False</td>\n",
              "      <td>False</td>\n",
              "      <td>False</td>\n",
              "      <td>False</td>\n",
              "      <td>False</td>\n",
              "      <td>False</td>\n",
              "      <td>False</td>\n",
              "      <td>False</td>\n",
              "      <td>True</td>\n",
              "      <td>False</td>\n",
              "      <td>False</td>\n",
              "      <td>False</td>\n",
              "      <td>False</td>\n",
              "      <td>False</td>\n",
              "      <td>False</td>\n",
              "      <td>False</td>\n",
              "      <td>False</td>\n",
              "      <td>False</td>\n",
              "      <td>False</td>\n",
              "      <td>False</td>\n",
              "      <td>False</td>\n",
              "      <td>False</td>\n",
              "      <td>False</td>\n",
              "      <td>False</td>\n",
              "      <td>False</td>\n",
              "      <td>False</td>\n",
              "      <td>False</td>\n",
              "      <td>False</td>\n",
              "      <td>False</td>\n",
              "      <td>False</td>\n",
              "      <td>False</td>\n",
              "      <td>False</td>\n",
              "      <td>...</td>\n",
              "      <td>False</td>\n",
              "      <td>False</td>\n",
              "      <td>False</td>\n",
              "      <td>False</td>\n",
              "      <td>False</td>\n",
              "      <td>False</td>\n",
              "      <td>False</td>\n",
              "      <td>False</td>\n",
              "      <td>False</td>\n",
              "      <td>False</td>\n",
              "      <td>False</td>\n",
              "      <td>False</td>\n",
              "      <td>False</td>\n",
              "      <td>False</td>\n",
              "      <td>False</td>\n",
              "      <td>False</td>\n",
              "      <td>False</td>\n",
              "      <td>False</td>\n",
              "      <td>False</td>\n",
              "      <td>False</td>\n",
              "      <td>False</td>\n",
              "      <td>False</td>\n",
              "      <td>False</td>\n",
              "      <td>False</td>\n",
              "      <td>False</td>\n",
              "      <td>False</td>\n",
              "      <td>False</td>\n",
              "      <td>False</td>\n",
              "      <td>False</td>\n",
              "      <td>False</td>\n",
              "      <td>False</td>\n",
              "      <td>False</td>\n",
              "      <td>False</td>\n",
              "      <td>False</td>\n",
              "      <td>False</td>\n",
              "      <td>False</td>\n",
              "      <td>False</td>\n",
              "      <td>False</td>\n",
              "      <td>False</td>\n",
              "      <td>False</td>\n",
              "    </tr>\n",
              "    <tr>\n",
              "      <th>4</th>\n",
              "      <td>False</td>\n",
              "      <td>False</td>\n",
              "      <td>False</td>\n",
              "      <td>False</td>\n",
              "      <td>False</td>\n",
              "      <td>False</td>\n",
              "      <td>False</td>\n",
              "      <td>False</td>\n",
              "      <td>False</td>\n",
              "      <td>False</td>\n",
              "      <td>False</td>\n",
              "      <td>False</td>\n",
              "      <td>False</td>\n",
              "      <td>False</td>\n",
              "      <td>False</td>\n",
              "      <td>False</td>\n",
              "      <td>False</td>\n",
              "      <td>False</td>\n",
              "      <td>False</td>\n",
              "      <td>False</td>\n",
              "      <td>False</td>\n",
              "      <td>False</td>\n",
              "      <td>False</td>\n",
              "      <td>False</td>\n",
              "      <td>False</td>\n",
              "      <td>False</td>\n",
              "      <td>False</td>\n",
              "      <td>False</td>\n",
              "      <td>False</td>\n",
              "      <td>False</td>\n",
              "      <td>False</td>\n",
              "      <td>False</td>\n",
              "      <td>False</td>\n",
              "      <td>False</td>\n",
              "      <td>False</td>\n",
              "      <td>False</td>\n",
              "      <td>False</td>\n",
              "      <td>False</td>\n",
              "      <td>False</td>\n",
              "      <td>False</td>\n",
              "      <td>...</td>\n",
              "      <td>False</td>\n",
              "      <td>False</td>\n",
              "      <td>False</td>\n",
              "      <td>False</td>\n",
              "      <td>False</td>\n",
              "      <td>False</td>\n",
              "      <td>False</td>\n",
              "      <td>False</td>\n",
              "      <td>False</td>\n",
              "      <td>False</td>\n",
              "      <td>False</td>\n",
              "      <td>False</td>\n",
              "      <td>False</td>\n",
              "      <td>False</td>\n",
              "      <td>False</td>\n",
              "      <td>False</td>\n",
              "      <td>False</td>\n",
              "      <td>False</td>\n",
              "      <td>False</td>\n",
              "      <td>False</td>\n",
              "      <td>False</td>\n",
              "      <td>False</td>\n",
              "      <td>False</td>\n",
              "      <td>False</td>\n",
              "      <td>False</td>\n",
              "      <td>False</td>\n",
              "      <td>False</td>\n",
              "      <td>False</td>\n",
              "      <td>False</td>\n",
              "      <td>False</td>\n",
              "      <td>False</td>\n",
              "      <td>False</td>\n",
              "      <td>False</td>\n",
              "      <td>False</td>\n",
              "      <td>False</td>\n",
              "      <td>False</td>\n",
              "      <td>False</td>\n",
              "      <td>False</td>\n",
              "      <td>False</td>\n",
              "      <td>False</td>\n",
              "    </tr>\n",
              "  </tbody>\n",
              "</table>\n",
              "<p>5 rows × 3685 columns</p>\n",
              "</div>"
            ],
            "text/plain": [
              "    & Baby Wipes  ...  smartwater® Electrolyte Enhanced Water\n",
              "0          False  ...                                   False\n",
              "1          False  ...                                   False\n",
              "2          False  ...                                   False\n",
              "3          False  ...                                   False\n",
              "4          False  ...                                   False\n",
              "\n",
              "[5 rows x 3685 columns]"
            ]
          },
          "metadata": {},
          "execution_count": 22
        }
      ]
    },
    {
      "cell_type": "markdown",
      "metadata": {
        "id": "1vhPoH4X2l3v"
      },
      "source": [
        "Installing fpgrowth"
      ]
    },
    {
      "cell_type": "code",
      "metadata": {
        "colab": {
          "base_uri": "https://localhost:8080/"
        },
        "id": "q_XwDiu_q1FC",
        "outputId": "d5a08706-4dbc-474b-943e-0237639834ce"
      },
      "source": [
        "pip install pyfpgrowth"
      ],
      "execution_count": 26,
      "outputs": [
        {
          "output_type": "stream",
          "name": "stdout",
          "text": [
            "Collecting pyfpgrowth\n",
            "  Downloading pyfpgrowth-1.0.tar.gz (1.6 MB)\n",
            "\u001b[?25l\r\u001b[K     |▏                               | 10 kB 17.9 MB/s eta 0:00:01\r\u001b[K     |▍                               | 20 kB 21.9 MB/s eta 0:00:01\r\u001b[K     |▋                               | 30 kB 26.5 MB/s eta 0:00:01\r\u001b[K     |▉                               | 40 kB 28.8 MB/s eta 0:00:01\r\u001b[K     |█                               | 51 kB 29.4 MB/s eta 0:00:01\r\u001b[K     |█▏                              | 61 kB 31.0 MB/s eta 0:00:01\r\u001b[K     |█▍                              | 71 kB 31.9 MB/s eta 0:00:01\r\u001b[K     |█▋                              | 81 kB 31.1 MB/s eta 0:00:01\r\u001b[K     |█▉                              | 92 kB 30.4 MB/s eta 0:00:01\r\u001b[K     |██                              | 102 kB 31.6 MB/s eta 0:00:01\r\u001b[K     |██▏                             | 112 kB 31.6 MB/s eta 0:00:01\r\u001b[K     |██▍                             | 122 kB 31.6 MB/s eta 0:00:01\r\u001b[K     |██▋                             | 133 kB 31.6 MB/s eta 0:00:01\r\u001b[K     |██▉                             | 143 kB 31.6 MB/s eta 0:00:01\r\u001b[K     |███                             | 153 kB 31.6 MB/s eta 0:00:01\r\u001b[K     |███▏                            | 163 kB 31.6 MB/s eta 0:00:01\r\u001b[K     |███▍                            | 174 kB 31.6 MB/s eta 0:00:01\r\u001b[K     |███▋                            | 184 kB 31.6 MB/s eta 0:00:01\r\u001b[K     |███▉                            | 194 kB 31.6 MB/s eta 0:00:01\r\u001b[K     |████                            | 204 kB 31.6 MB/s eta 0:00:01\r\u001b[K     |████▏                           | 215 kB 31.6 MB/s eta 0:00:01\r\u001b[K     |████▍                           | 225 kB 31.6 MB/s eta 0:00:01\r\u001b[K     |████▋                           | 235 kB 31.6 MB/s eta 0:00:01\r\u001b[K     |████▉                           | 245 kB 31.6 MB/s eta 0:00:01\r\u001b[K     |█████                           | 256 kB 31.6 MB/s eta 0:00:01\r\u001b[K     |█████▏                          | 266 kB 31.6 MB/s eta 0:00:01\r\u001b[K     |█████▍                          | 276 kB 31.6 MB/s eta 0:00:01\r\u001b[K     |█████▋                          | 286 kB 31.6 MB/s eta 0:00:01\r\u001b[K     |█████▉                          | 296 kB 31.6 MB/s eta 0:00:01\r\u001b[K     |██████                          | 307 kB 31.6 MB/s eta 0:00:01\r\u001b[K     |██████▏                         | 317 kB 31.6 MB/s eta 0:00:01\r\u001b[K     |██████▍                         | 327 kB 31.6 MB/s eta 0:00:01\r\u001b[K     |██████▋                         | 337 kB 31.6 MB/s eta 0:00:01\r\u001b[K     |██████▉                         | 348 kB 31.6 MB/s eta 0:00:01\r\u001b[K     |███████                         | 358 kB 31.6 MB/s eta 0:00:01\r\u001b[K     |███████▏                        | 368 kB 31.6 MB/s eta 0:00:01\r\u001b[K     |███████▍                        | 378 kB 31.6 MB/s eta 0:00:01\r\u001b[K     |███████▋                        | 389 kB 31.6 MB/s eta 0:00:01\r\u001b[K     |███████▉                        | 399 kB 31.6 MB/s eta 0:00:01\r\u001b[K     |████████                        | 409 kB 31.6 MB/s eta 0:00:01\r\u001b[K     |████████▏                       | 419 kB 31.6 MB/s eta 0:00:01\r\u001b[K     |████████▍                       | 430 kB 31.6 MB/s eta 0:00:01\r\u001b[K     |████████▋                       | 440 kB 31.6 MB/s eta 0:00:01\r\u001b[K     |████████▉                       | 450 kB 31.6 MB/s eta 0:00:01\r\u001b[K     |█████████                       | 460 kB 31.6 MB/s eta 0:00:01\r\u001b[K     |█████████▏                      | 471 kB 31.6 MB/s eta 0:00:01\r\u001b[K     |█████████▍                      | 481 kB 31.6 MB/s eta 0:00:01\r\u001b[K     |█████████▋                      | 491 kB 31.6 MB/s eta 0:00:01\r\u001b[K     |█████████▉                      | 501 kB 31.6 MB/s eta 0:00:01\r\u001b[K     |██████████                      | 512 kB 31.6 MB/s eta 0:00:01\r\u001b[K     |██████████▏                     | 522 kB 31.6 MB/s eta 0:00:01\r\u001b[K     |██████████▍                     | 532 kB 31.6 MB/s eta 0:00:01\r\u001b[K     |██████████▋                     | 542 kB 31.6 MB/s eta 0:00:01\r\u001b[K     |██████████▉                     | 552 kB 31.6 MB/s eta 0:00:01\r\u001b[K     |███████████                     | 563 kB 31.6 MB/s eta 0:00:01\r\u001b[K     |███████████▏                    | 573 kB 31.6 MB/s eta 0:00:01\r\u001b[K     |███████████▍                    | 583 kB 31.6 MB/s eta 0:00:01\r\u001b[K     |███████████▋                    | 593 kB 31.6 MB/s eta 0:00:01\r\u001b[K     |███████████▉                    | 604 kB 31.6 MB/s eta 0:00:01\r\u001b[K     |████████████                    | 614 kB 31.6 MB/s eta 0:00:01\r\u001b[K     |████████████▏                   | 624 kB 31.6 MB/s eta 0:00:01\r\u001b[K     |████████████▍                   | 634 kB 31.6 MB/s eta 0:00:01\r\u001b[K     |████████████▋                   | 645 kB 31.6 MB/s eta 0:00:01\r\u001b[K     |████████████▊                   | 655 kB 31.6 MB/s eta 0:00:01\r\u001b[K     |█████████████                   | 665 kB 31.6 MB/s eta 0:00:01\r\u001b[K     |█████████████▏                  | 675 kB 31.6 MB/s eta 0:00:01\r\u001b[K     |█████████████▍                  | 686 kB 31.6 MB/s eta 0:00:01\r\u001b[K     |█████████████▋                  | 696 kB 31.6 MB/s eta 0:00:01\r\u001b[K     |█████████████▊                  | 706 kB 31.6 MB/s eta 0:00:01\r\u001b[K     |██████████████                  | 716 kB 31.6 MB/s eta 0:00:01\r\u001b[K     |██████████████▏                 | 727 kB 31.6 MB/s eta 0:00:01\r\u001b[K     |██████████████▍                 | 737 kB 31.6 MB/s eta 0:00:01\r\u001b[K     |██████████████▋                 | 747 kB 31.6 MB/s eta 0:00:01\r\u001b[K     |██████████████▊                 | 757 kB 31.6 MB/s eta 0:00:01\r\u001b[K     |███████████████                 | 768 kB 31.6 MB/s eta 0:00:01\r\u001b[K     |███████████████▏                | 778 kB 31.6 MB/s eta 0:00:01\r\u001b[K     |███████████████▍                | 788 kB 31.6 MB/s eta 0:00:01\r\u001b[K     |███████████████▋                | 798 kB 31.6 MB/s eta 0:00:01\r\u001b[K     |███████████████▊                | 808 kB 31.6 MB/s eta 0:00:01\r\u001b[K     |████████████████                | 819 kB 31.6 MB/s eta 0:00:01\r\u001b[K     |████████████████▏               | 829 kB 31.6 MB/s eta 0:00:01\r\u001b[K     |████████████████▍               | 839 kB 31.6 MB/s eta 0:00:01\r\u001b[K     |████████████████▋               | 849 kB 31.6 MB/s eta 0:00:01\r\u001b[K     |████████████████▊               | 860 kB 31.6 MB/s eta 0:00:01\r\u001b[K     |█████████████████               | 870 kB 31.6 MB/s eta 0:00:01\r\u001b[K     |█████████████████▏              | 880 kB 31.6 MB/s eta 0:00:01\r\u001b[K     |█████████████████▍              | 890 kB 31.6 MB/s eta 0:00:01\r\u001b[K     |█████████████████▋              | 901 kB 31.6 MB/s eta 0:00:01\r\u001b[K     |█████████████████▊              | 911 kB 31.6 MB/s eta 0:00:01\r\u001b[K     |██████████████████              | 921 kB 31.6 MB/s eta 0:00:01\r\u001b[K     |██████████████████▏             | 931 kB 31.6 MB/s eta 0:00:01\r\u001b[K     |██████████████████▍             | 942 kB 31.6 MB/s eta 0:00:01\r\u001b[K     |██████████████████▋             | 952 kB 31.6 MB/s eta 0:00:01\r\u001b[K     |██████████████████▊             | 962 kB 31.6 MB/s eta 0:00:01\r\u001b[K     |███████████████████             | 972 kB 31.6 MB/s eta 0:00:01\r\u001b[K     |███████████████████▏            | 983 kB 31.6 MB/s eta 0:00:01\r\u001b[K     |███████████████████▍            | 993 kB 31.6 MB/s eta 0:00:01\r\u001b[K     |███████████████████▋            | 1.0 MB 31.6 MB/s eta 0:00:01\r\u001b[K     |███████████████████▊            | 1.0 MB 31.6 MB/s eta 0:00:01\r\u001b[K     |████████████████████            | 1.0 MB 31.6 MB/s eta 0:00:01\r\u001b[K     |████████████████████▏           | 1.0 MB 31.6 MB/s eta 0:00:01\r\u001b[K     |████████████████████▍           | 1.0 MB 31.6 MB/s eta 0:00:01\r\u001b[K     |████████████████████▋           | 1.1 MB 31.6 MB/s eta 0:00:01\r\u001b[K     |████████████████████▊           | 1.1 MB 31.6 MB/s eta 0:00:01\r\u001b[K     |█████████████████████           | 1.1 MB 31.6 MB/s eta 0:00:01\r\u001b[K     |█████████████████████▏          | 1.1 MB 31.6 MB/s eta 0:00:01\r\u001b[K     |█████████████████████▍          | 1.1 MB 31.6 MB/s eta 0:00:01\r\u001b[K     |█████████████████████▋          | 1.1 MB 31.6 MB/s eta 0:00:01\r\u001b[K     |█████████████████████▊          | 1.1 MB 31.6 MB/s eta 0:00:01\r\u001b[K     |██████████████████████          | 1.1 MB 31.6 MB/s eta 0:00:01\r\u001b[K     |██████████████████████▏         | 1.1 MB 31.6 MB/s eta 0:00:01\r\u001b[K     |██████████████████████▍         | 1.1 MB 31.6 MB/s eta 0:00:01\r\u001b[K     |██████████████████████▋         | 1.2 MB 31.6 MB/s eta 0:00:01\r\u001b[K     |██████████████████████▊         | 1.2 MB 31.6 MB/s eta 0:00:01\r\u001b[K     |███████████████████████         | 1.2 MB 31.6 MB/s eta 0:00:01\r\u001b[K     |███████████████████████▏        | 1.2 MB 31.6 MB/s eta 0:00:01\r\u001b[K     |███████████████████████▍        | 1.2 MB 31.6 MB/s eta 0:00:01\r\u001b[K     |███████████████████████▋        | 1.2 MB 31.6 MB/s eta 0:00:01\r\u001b[K     |███████████████████████▊        | 1.2 MB 31.6 MB/s eta 0:00:01\r\u001b[K     |████████████████████████        | 1.2 MB 31.6 MB/s eta 0:00:01\r\u001b[K     |████████████████████████▏       | 1.2 MB 31.6 MB/s eta 0:00:01\r\u001b[K     |████████████████████████▍       | 1.2 MB 31.6 MB/s eta 0:00:01\r\u001b[K     |████████████████████████▌       | 1.3 MB 31.6 MB/s eta 0:00:01\r\u001b[K     |████████████████████████▊       | 1.3 MB 31.6 MB/s eta 0:00:01\r\u001b[K     |█████████████████████████       | 1.3 MB 31.6 MB/s eta 0:00:01\r\u001b[K     |█████████████████████████▏      | 1.3 MB 31.6 MB/s eta 0:00:01\r\u001b[K     |█████████████████████████▍      | 1.3 MB 31.6 MB/s eta 0:00:01\r\u001b[K     |█████████████████████████▌      | 1.3 MB 31.6 MB/s eta 0:00:01\r\u001b[K     |█████████████████████████▊      | 1.3 MB 31.6 MB/s eta 0:00:01\r\u001b[K     |██████████████████████████      | 1.3 MB 31.6 MB/s eta 0:00:01\r\u001b[K     |██████████████████████████▏     | 1.3 MB 31.6 MB/s eta 0:00:01\r\u001b[K     |██████████████████████████▍     | 1.4 MB 31.6 MB/s eta 0:00:01\r\u001b[K     |██████████████████████████▌     | 1.4 MB 31.6 MB/s eta 0:00:01\r\u001b[K     |██████████████████████████▊     | 1.4 MB 31.6 MB/s eta 0:00:01\r\u001b[K     |███████████████████████████     | 1.4 MB 31.6 MB/s eta 0:00:01\r\u001b[K     |███████████████████████████▏    | 1.4 MB 31.6 MB/s eta 0:00:01\r\u001b[K     |███████████████████████████▍    | 1.4 MB 31.6 MB/s eta 0:00:01\r\u001b[K     |███████████████████████████▌    | 1.4 MB 31.6 MB/s eta 0:00:01\r\u001b[K     |███████████████████████████▊    | 1.4 MB 31.6 MB/s eta 0:00:01\r\u001b[K     |████████████████████████████    | 1.4 MB 31.6 MB/s eta 0:00:01\r\u001b[K     |████████████████████████████▏   | 1.4 MB 31.6 MB/s eta 0:00:01\r\u001b[K     |████████████████████████████▍   | 1.5 MB 31.6 MB/s eta 0:00:01\r\u001b[K     |████████████████████████████▌   | 1.5 MB 31.6 MB/s eta 0:00:01\r\u001b[K     |████████████████████████████▊   | 1.5 MB 31.6 MB/s eta 0:00:01\r\u001b[K     |█████████████████████████████   | 1.5 MB 31.6 MB/s eta 0:00:01\r\u001b[K     |█████████████████████████████▏  | 1.5 MB 31.6 MB/s eta 0:00:01\r\u001b[K     |█████████████████████████████▍  | 1.5 MB 31.6 MB/s eta 0:00:01\r\u001b[K     |█████████████████████████████▌  | 1.5 MB 31.6 MB/s eta 0:00:01\r\u001b[K     |█████████████████████████████▊  | 1.5 MB 31.6 MB/s eta 0:00:01\r\u001b[K     |██████████████████████████████  | 1.5 MB 31.6 MB/s eta 0:00:01\r\u001b[K     |██████████████████████████████▏ | 1.5 MB 31.6 MB/s eta 0:00:01\r\u001b[K     |██████████████████████████████▍ | 1.6 MB 31.6 MB/s eta 0:00:01\r\u001b[K     |██████████████████████████████▌ | 1.6 MB 31.6 MB/s eta 0:00:01\r\u001b[K     |██████████████████████████████▊ | 1.6 MB 31.6 MB/s eta 0:00:01\r\u001b[K     |███████████████████████████████ | 1.6 MB 31.6 MB/s eta 0:00:01\r\u001b[K     |███████████████████████████████▏| 1.6 MB 31.6 MB/s eta 0:00:01\r\u001b[K     |███████████████████████████████▍| 1.6 MB 31.6 MB/s eta 0:00:01\r\u001b[K     |███████████████████████████████▌| 1.6 MB 31.6 MB/s eta 0:00:01\r\u001b[K     |███████████████████████████████▊| 1.6 MB 31.6 MB/s eta 0:00:01\r\u001b[K     |████████████████████████████████| 1.6 MB 31.6 MB/s eta 0:00:01\r\u001b[K     |████████████████████████████████| 1.6 MB 31.6 MB/s \n",
            "\u001b[?25hBuilding wheels for collected packages: pyfpgrowth\n",
            "  Building wheel for pyfpgrowth (setup.py) ... \u001b[?25l\u001b[?25hdone\n",
            "  Created wheel for pyfpgrowth: filename=pyfpgrowth-1.0-py2.py3-none-any.whl size=5504 sha256=105c578a33a24c086a696b01475de6dbaada3eb3aeb60725b749193709d6b274\n",
            "  Stored in directory: /root/.cache/pip/wheels/73/97/4b/f12ac994f6bbb99597396255435824c73ad3916be1e678be55\n",
            "Successfully built pyfpgrowth\n",
            "Installing collected packages: pyfpgrowth\n",
            "Successfully installed pyfpgrowth-1.0\n"
          ]
        }
      ]
    },
    {
      "cell_type": "code",
      "metadata": {
        "id": "R_CEDqE0q5Io"
      },
      "source": [
        "import pyfpgrowth\n",
        "\n",
        "patterns = pyfpgrowth. find_frequent_patterns(data_items_list, 10)"
      ],
      "execution_count": 27,
      "outputs": []
    },
    {
      "cell_type": "code",
      "metadata": {
        "id": "RvANEc0HrOYX"
      },
      "source": [
        "rules = pyfpgrowth. generate_association_rules(patterns,0.8)"
      ],
      "execution_count": 28,
      "outputs": []
    },
    {
      "cell_type": "markdown",
      "metadata": {
        "id": "qHztYWYn2tCY"
      },
      "source": [
        "All the rules generated using fp growth technique"
      ]
    },
    {
      "cell_type": "code",
      "metadata": {
        "colab": {
          "base_uri": "https://localhost:8080/"
        },
        "id": "XAsqnggPrR6G",
        "outputId": "68db8712-43fd-4d69-e99c-26d54a7071ff"
      },
      "source": [
        "print(rules)"
      ],
      "execution_count": 29,
      "outputs": [
        {
          "output_type": "stream",
          "name": "stdout",
          "text": [
            "{(' Italian (Flat)',): ((' New England Grown', 'Parsley'), 1.1), (' Italian (Flat)', ' New England Grown'): (('Parsley',), 1.1), (' Italian (Flat)', 'Parsley'): ((' New England Grown',), 1.0), (' New England Grown', 'Parsley'): ((' Italian (Flat)',), 1.0), ('Dairy Free Coconut Milk Yogurt Alternative',): (('Bag of Organic Bananas', 'Medium Navel Orange'), 1.0), ('Medium Navel Orange',): (('Bag of Organic Bananas',), 0.9166666666666666), ('Bag of Organic Bananas', 'Dairy Free Coconut Milk Yogurt Alternative'): (('Medium Navel Orange',), 1.0), ('Bag of Organic Bananas', 'Medium Navel Orange'): (('Dairy Free Coconut Milk Blueberry Yogurt Alternative',), 0.9090909090909091), ('Dairy Free Coconut Milk Yogurt Alternative', 'Medium Navel Orange'): (('Bag of Organic Bananas',), 1.0), ('Dairy Free Coconut Milk Blueberry Yogurt Alternative',): (('Bag of Organic Bananas', 'Medium Navel Orange'), 1.0), ('Bag of Organic Bananas', 'Dairy Free Coconut Milk Blueberry Yogurt Alternative'): (('Medium Navel Orange',), 1.0), ('Dairy Free Coconut Milk Blueberry Yogurt Alternative', 'Medium Navel Orange'): (('Bag of Organic Bananas',), 1.0), ('Original Fresh Stack Crackers',): (('Oatmeal Crème Pies',), 1.0), (' Organic Raw',): (('Kombucha',), 1.2), ('Kombucha',): ((' Organic Raw',), 1.2), ('Wild Blueberry Preserves',): (('Authentic French Brioche',), 0.9090909090909091), ('Bars Peanut Butter', 'Cran-Apple Juice Drink'): (('Oatmeal Crème Pies',), 0.9090909090909091), ('Bars Peanut Butter', 'Creamed Chipped Beef'): (('Cran-Apple Juice Drink',), 1.0), ('Bars Peanut Butter', 'Oatmeal Crème Pies'): (('Cran-Apple Juice Drink',), 1.0), ('Cran-Apple Juice Drink', 'Honey Buns'): (('Oatmeal Crème Pies',), 0.9090909090909091), ('Creamed Chipped Beef', 'Honey Buns'): (('Cran-Apple Juice Drink',), 1.0), ('Honey Buns', 'Oatmeal Crème Pies'): (('Cran-Apple Juice Drink',), 1.0), (\"Annie's Bunny Fruit Snacks Variety\",): (('Dark & Mint Filled Chocolate Squares',), 0.9090909090909091), ('Organic Chunky Vegetable Soup',): (('Grade A Extra Large Eggs', 'Natural Lime Flavor Sparkling Mineral Water'), 0.9090909090909091), ('Grade A Extra Large Eggs', 'Organic Chunky Vegetable Soup'): (('Natural Lime Flavor Sparkling Mineral Water',), 1.0), ('Natural Lime Flavor Sparkling Mineral Water', 'Organic Chunky Vegetable Soup'): (('Grade A Extra Large Eggs',), 0.9090909090909091), ('Lactose Free Fat Free Milk',): (('Mexican Coffee',), 0.8461538461538461), ('Mexican Coffee',): (('Lactose Free Fat Free Milk',), 0.9166666666666666), ('Organic Brown Rice Crisps Cereal',): (('Classic Air-Puffed Vanilla Flavored Marshmallows',), 0.8333333333333334), ('Four Cheese Thin Crust Pizza',): (('Banana',), 0.9166666666666666), ('Bonne Bouche Ash-Ripened Goat Cheese',): (('Authentic French Brioche', 'Petit Suisse Fruit'), 0.9166666666666666), ('Authentic French Brioche', 'Bonne Bouche Ash-Ripened Goat Cheese'): (('Petit Suisse Fruit',), 1.0), ('Bonne Bouche Ash-Ripened Goat Cheese', 'Petit Suisse Fruit'): (('Authentic French Brioche',), 0.9166666666666666), ('Natural Mint Gum',): (('Natural Artesian Bottled Water',), 0.8333333333333334), ('80  Vodka Holiday Edition',): (('Jalapeno Pepper',), 0.9230769230769231), ('Jalapeno Pepper',): (('80  Vodka Holiday Edition',), 1.0), ('Dark & Sea Salt Caramel Chocolate Squares',): (('Gluten Free Honey Almond Granola',), 0.8461538461538461), ('100% Premium Select Not From Concentrate Pure Prune Juice',): (('Natural Artesian Bottled Water',), 0.8461538461538461), (' Lowfat',): ((' Strawberry', 'Yogurt'), 1.1538461538461537), (' Strawberry',): (('Yogurt',), 0.8235294117647058), ('Yogurt',): ((' Strawberry',), 0.8235294117647058), (' Lowfat', ' Strawberry'): (('Yogurt',), 1.0), (' Lowfat', 'Yogurt'): ((' Strawberry',), 1.0), (' Strawberry', 'Yogurt'): ((' Lowfat',), 1.0714285714285714), ('Caramel Cone Ice Cream', 'Cran-Apple Juice Drink'): (('Creamed Chipped Beef',), 0.9166666666666666), ('Caramel Cone Ice Cream', 'Creamed Chipped Beef'): (('Oatmeal Crème Pies',), 0.9166666666666666), ('Caramel Cone Ice Cream', 'Oatmeal Crème Pies'): (('Creamed Chipped Beef',), 0.9166666666666666), ('Country Stand Juice',): ((' Medium Pulp', 'Organic Reduced Fat Milk'), 0.9230769230769231), (' Medium Pulp',): (('Country Stand Juice', 'Organic Reduced Fat Milk'), 0.9230769230769231), (' Medium Pulp', 'Country Stand Juice'): (('Organic Reduced Fat Milk',), 0.9230769230769231), (' Medium Pulp', 'Organic Reduced Fat Milk'): (('Country Stand Juice',), 1.0), ('Country Stand Juice', 'Organic Reduced Fat Milk'): ((' Medium Pulp',), 1.0), (' raspberry',): ((' & orange', \"Organic Bernie's Farm Fruit Snacks strawberry\"), 1.0), (\"Organic Bernie's Farm Fruit Snacks strawberry\",): ((' & orange', ' raspberry'), 1.0), (' & orange',): ((' raspberry', \"Organic Bernie's Farm Fruit Snacks strawberry\"), 1.0), (' & orange', ' raspberry'): ((\"Organic Bernie's Farm Fruit Snacks strawberry\",), 1.0), (' & orange', \"Organic Bernie's Farm Fruit Snacks strawberry\"): ((' raspberry',), 1.0), (' raspberry', \"Organic Bernie's Farm Fruit Snacks strawberry\"): ((' & orange',), 1.0), ('Total 2% Greek Strained Yogurt with Cherry 5.3 oz', 'Total 2% Lowfat Greek Strained Yogurt With Blueberry'): (('Total 2% with Strawberry Lowfat Greek Strained Yogurt',), 1.0), ('Total 2% Greek Strained Yogurt with Cherry 5.3 oz', 'Total 2% with Strawberry Lowfat Greek Strained Yogurt'): (('Total 2% Lowfat Greek Strained Yogurt With Blueberry',), 0.9166666666666666), ('Cran-Apple Juice Drink',): (('Creamed Chipped Beef',), 0.8235294117647058), ('Oatmeal Crème Pies',): (('Creamed Chipped Beef',), 0.8235294117647058), ('Cinnamon Crunch',): (('Organic Heritage Flakes Cereal',), 0.875), (' Country Buttermilk',): (('Bread',), 1.0), ('Bread',): ((' Country Buttermilk',), 0.8888888888888888), (' Vanilla Blueberry', 'Maple Pumpkin Seeds with Sea Salt Chewy with a Crunch Granola Bars'): (('Healthy Grains Granola Bar',), 1.0), ('Healthy Grains Granola Bar', 'Maple Pumpkin Seeds with Sea Salt Chewy with a Crunch Granola Bars'): ((' Vanilla Blueberry',), 1.0), (' Vanilla Blueberry', 'Healthy Grains Granola Bar'): (('Organic Heritage Flakes Cereal',), 0.8235294117647058), (' Vanilla Blueberry', 'Organic Heritage Flakes Cereal'): (('Healthy Grains Granola Bar',), 1.0), ('Healthy Grains Granola Bar', 'Organic Heritage Flakes Cereal'): ((' Vanilla Blueberry',), 1.0), ('Total 0% Raspberry Yogurt',): (('Total 2% with Strawberry Lowfat Greek Strained Yogurt',), 0.9411764705882353), ('Total 0% Raspberry Yogurt', 'Total 2% Lowfat Greek Strained Yogurt with Peach'): (('Total 2% with Strawberry Lowfat Greek Strained Yogurt',), 1.0), ('Crunch Chocolate Peanut Butter Granola Bar', 'Dark & Mint Filled Chocolate Squares'): (('Organic Heritage Flakes Cereal',), 0.8333333333333334), ('Dark & Mint Filled Chocolate Squares', 'Lemon Sparkling Water'): (('Crunch Chocolate Peanut Butter Granola Bar', 'Orange Sparkling Water'), 1.0), ('Dark & Mint Filled Chocolate Squares', 'Orange Sparkling Water'): (('Crunch Chocolate Peanut Butter Granola Bar',), 0.9166666666666666), ('Crunch Chocolate Peanut Butter Granola Bar', 'Dark & Mint Filled Chocolate Squares', 'Lemon Sparkling Water'): (('Orange Sparkling Water',), 1.0), ('Crunch Chocolate Peanut Butter Granola Bar', 'Dark & Mint Filled Chocolate Squares', 'Orange Sparkling Water'): (('Lemon Sparkling Water',), 1.0), ('Dark & Mint Filled Chocolate Squares', 'Lemon Sparkling Water', 'Orange Sparkling Water'): (('Crunch Chocolate Peanut Butter Granola Bar',), 1.0), ('Crunch Chocolate Peanut Butter Granola Bar', 'Lemon Sparkling Water'): (('Orange Sparkling Water',), 1.0), ('Lemon Sparkling Water', 'Organic Heritage Flakes Cereal'): (('Crunch Chocolate Peanut Butter Granola Bar', 'Orange Sparkling Water'), 1.0), ('Orange Sparkling Water', 'Organic Heritage Flakes Cereal'): (('Crunch Chocolate Peanut Butter Granola Bar',), 1.0), ('Crunch Chocolate Peanut Butter Granola Bar', 'Orange Sparkling Water'): (('Organic Heritage Flakes Cereal',), 0.8571428571428571), ('Crunch Chocolate Peanut Butter Granola Bar', 'Lemon Sparkling Water', 'Orange Sparkling Water'): (('Organic Heritage Flakes Cereal',), 0.8571428571428571), ('Crunch Chocolate Peanut Butter Granola Bar', 'Lemon Sparkling Water', 'Organic Heritage Flakes Cereal'): (('Orange Sparkling Water',), 1.0), ('Crunch Chocolate Peanut Butter Granola Bar', 'Orange Sparkling Water', 'Organic Heritage Flakes Cereal'): (('Lemon Sparkling Water',), 1.0), ('Lemon Sparkling Water', 'Orange Sparkling Water', 'Organic Heritage Flakes Cereal'): (('Crunch Chocolate Peanut Butter Granola Bar',), 1.0), ('Lemon Sparkling Water', 'Orange Sparkling Water'): (('Crunch Chocolate Peanut Butter Granola Bar',), 0.875), ('Authentic French Brioche', 'Bunny-Luv Fresh Organic Carrots'): (('Petit Suisse Fruit',), 0.9166666666666666), ('Bunny-Luv Fresh Organic Carrots', 'Petit Suisse Fruit'): (('Authentic French Brioche',), 1.0), ('Total 0% Nonfat Greek Yogurt', 'Total 2% Lowfat Greek Strained Yogurt with Peach'): (('Total 2% Lowfat Greek Strained Yogurt With Blueberry', 'Total 2% with Strawberry Lowfat Greek Strained Yogurt'), 0.9166666666666666), ('Total 0% Nonfat Greek Yogurt', 'Total 2% with Strawberry Lowfat Greek Strained Yogurt'): (('Total 2% Lowfat Greek Strained Yogurt With Blueberry',), 0.9230769230769231), ('Total 2% Lowfat Greek Strained Yogurt with Peach', 'Total 2% with Strawberry Lowfat Greek Strained Yogurt'): (('Total 2% Lowfat Greek Strained Yogurt With Blueberry',), 0.9333333333333333), ('Total 0% Nonfat Greek Yogurt', 'Total 2% Lowfat Greek Strained Yogurt With Blueberry'): (('Total 2% with Strawberry Lowfat Greek Strained Yogurt',), 1.0), ('Total 0% Nonfat Greek Yogurt', 'Total 2% Lowfat Greek Strained Yogurt With Blueberry', 'Total 2% Lowfat Greek Strained Yogurt with Peach'): (('Total 2% with Strawberry Lowfat Greek Strained Yogurt',), 1.0), ('Total 0% Nonfat Greek Yogurt', 'Total 2% Lowfat Greek Strained Yogurt With Blueberry', 'Total 2% with Strawberry Lowfat Greek Strained Yogurt'): (('Total 2% Lowfat Greek Strained Yogurt with Peach',), 0.9166666666666666), ('Total 0% Nonfat Greek Yogurt', 'Total 2% Lowfat Greek Strained Yogurt with Peach', 'Total 2% with Strawberry Lowfat Greek Strained Yogurt'): (('Total 2% Lowfat Greek Strained Yogurt With Blueberry',), 0.9166666666666666), (' Natural Mango Essenced', 'Dark Chocolate Minis', 'Organic Heritage Flakes Cereal'): (('Organic Pink Lemonade Bunny Fruit Snacks', 'Peach-Pear Sparkling Water', 'Sparkling Water'), 0.9166666666666666), (' Natural Mango Essenced', 'Organic Heritage Flakes Cereal', 'Peach-Pear Sparkling Water'): (('Organic Pink Lemonade Bunny Fruit Snacks', 'Sparkling Water'), 1.0), ('Dark Chocolate Minis', 'Organic Heritage Flakes Cereal', 'Peach-Pear Sparkling Water'): (('Organic Pink Lemonade Bunny Fruit Snacks', 'Sparkling Water'), 0.8461538461538461), ('Organic Heritage Flakes Cereal', 'Sparkling Water'): (('Dark Chocolate Minis', 'Organic Pink Lemonade Bunny Fruit Snacks'), 0.8571428571428571), (' Natural Mango Essenced', 'Organic Heritage Flakes Cereal', 'Sparkling Water'): (('Organic Pink Lemonade Bunny Fruit Snacks',), 1.0), ('Dark Chocolate Minis', 'Organic Heritage Flakes Cereal', 'Sparkling Water'): (('Organic Pink Lemonade Bunny Fruit Snacks',), 1.0), (' Natural Mango Essenced', 'Organic Heritage Flakes Cereal', 'Organic Pink Lemonade Bunny Fruit Snacks'): (('Sparkling Water',), 1.0), ('Organic Heritage Flakes Cereal', 'Peach-Pear Sparkling Water', 'Sparkling Water'): (('Dark Chocolate Minis', 'Organic Pink Lemonade Bunny Fruit Snacks'), 0.8461538461538461), (' Natural Mango Essenced', 'Dark Chocolate Minis', 'Organic Heritage Flakes Cereal', 'Peach-Pear Sparkling Water'): (('Organic Pink Lemonade Bunny Fruit Snacks', 'Sparkling Water'), 1.0), (' Natural Mango Essenced', 'Dark Chocolate Minis', 'Organic Heritage Flakes Cereal', 'Sparkling Water'): (('Organic Pink Lemonade Bunny Fruit Snacks', 'Peach-Pear Sparkling Water'), 0.9166666666666666), (' Natural Mango Essenced', 'Organic Heritage Flakes Cereal', 'Peach-Pear Sparkling Water', 'Sparkling Water'): (('Organic Pink Lemonade Bunny Fruit Snacks',), 1.0), ('Dark Chocolate Minis', 'Organic Heritage Flakes Cereal', 'Peach-Pear Sparkling Water', 'Sparkling Water'): (('Organic Pink Lemonade Bunny Fruit Snacks',), 1.0), (' Natural Mango Essenced', 'Dark Chocolate Minis', 'Organic Heritage Flakes Cereal', 'Organic Pink Lemonade Bunny Fruit Snacks'): (('Peach-Pear Sparkling Water', 'Sparkling Water'), 0.9166666666666666), (' Natural Mango Essenced', 'Organic Heritage Flakes Cereal', 'Organic Pink Lemonade Bunny Fruit Snacks', 'Peach-Pear Sparkling Water'): (('Sparkling Water',), 1.0), ('Dark Chocolate Minis', 'Organic Heritage Flakes Cereal', 'Organic Pink Lemonade Bunny Fruit Snacks', 'Peach-Pear Sparkling Water'): (('Sparkling Water',), 0.9166666666666666), ('Organic Heritage Flakes Cereal', 'Organic Pink Lemonade Bunny Fruit Snacks', 'Sparkling Water'): (('Dark Chocolate Minis',), 0.8571428571428571), (' Natural Mango Essenced', 'Organic Heritage Flakes Cereal', 'Organic Pink Lemonade Bunny Fruit Snacks', 'Sparkling Water'): (('Peach-Pear Sparkling Water',), 0.9285714285714286), ('Dark Chocolate Minis', 'Organic Heritage Flakes Cereal', 'Organic Pink Lemonade Bunny Fruit Snacks', 'Sparkling Water'): (('Peach-Pear Sparkling Water',), 0.9166666666666666), ('Organic Heritage Flakes Cereal', 'Organic Pink Lemonade Bunny Fruit Snacks', 'Peach-Pear Sparkling Water', 'Sparkling Water'): (('Dark Chocolate Minis',), 0.8461538461538461), (' Natural Mango Essenced', 'Dark Chocolate Minis', 'Organic Heritage Flakes Cereal', 'Organic Pink Lemonade Bunny Fruit Snacks', 'Peach-Pear Sparkling Water'): (('Sparkling Water',), 1.0), (' Natural Mango Essenced', 'Dark Chocolate Minis', 'Organic Heritage Flakes Cereal', 'Organic Pink Lemonade Bunny Fruit Snacks', 'Sparkling Water'): (('Peach-Pear Sparkling Water',), 0.9166666666666666), (' Natural Mango Essenced', 'Dark Chocolate Minis', 'Organic Heritage Flakes Cereal', 'Peach-Pear Sparkling Water', 'Sparkling Water'): (('Organic Pink Lemonade Bunny Fruit Snacks',), 1.0), (' Natural Mango Essenced', 'Organic Heritage Flakes Cereal', 'Organic Pink Lemonade Bunny Fruit Snacks', 'Peach-Pear Sparkling Water', 'Sparkling Water'): (('Dark Chocolate Minis',), 0.8461538461538461), ('Dark Chocolate Minis', 'Organic Heritage Flakes Cereal', 'Organic Pink Lemonade Bunny Fruit Snacks', 'Peach-Pear Sparkling Water', 'Sparkling Water'): ((' Natural Mango Essenced',), 1.0), ('Organic Heritage Flakes Cereal', 'Organic Pink Lemonade Bunny Fruit Snacks', 'Peach-Pear Sparkling Water'): (('Sparkling Water',), 0.8666666666666667), (' Natural Mango Essenced', 'Organic Pink Lemonade Bunny Fruit Snacks'): (('Peach-Pear Sparkling Water', 'Sparkling Water'), 0.9444444444444444), (' Natural Mango Essenced', 'Sparkling Water'): (('Organic Pink Lemonade Bunny Fruit Snacks', 'Peach-Pear Sparkling Water'), 0.8947368421052632), ('Dark Chocolate Minis', 'Sparkling Water'): (('Organic Pink Lemonade Bunny Fruit Snacks',), 0.9411764705882353), ('Organic Pink Lemonade Bunny Fruit Snacks', 'Sparkling Water'): (('Dark Chocolate Minis',), 0.8888888888888888), (' Natural Mango Essenced', 'Dark Chocolate Minis', 'Organic Pink Lemonade Bunny Fruit Snacks'): (('Peach-Pear Sparkling Water', 'Sparkling Water'), 0.9375), (' Natural Mango Essenced', 'Dark Chocolate Minis', 'Sparkling Water'): (('Organic Pink Lemonade Bunny Fruit Snacks', 'Peach-Pear Sparkling Water'), 0.8823529411764706), (' Natural Mango Essenced', 'Organic Pink Lemonade Bunny Fruit Snacks', 'Sparkling Water'): (('Peach-Pear Sparkling Water',), 0.9444444444444444), ('Dark Chocolate Minis', 'Organic Pink Lemonade Bunny Fruit Snacks', 'Sparkling Water'): (('Peach-Pear Sparkling Water',), 0.9375), (' Natural Mango Essenced', 'Peach-Pear Sparkling Water'): (('Organic Pink Lemonade Bunny Fruit Snacks', 'Sparkling Water'), 0.9444444444444444), (' Natural Mango Essenced', 'Dark Chocolate Minis', 'Peach-Pear Sparkling Water'): (('Organic Pink Lemonade Bunny Fruit Snacks', 'Sparkling Water'), 0.9375), (' Natural Mango Essenced', 'Organic Pink Lemonade Bunny Fruit Snacks', 'Peach-Pear Sparkling Water'): (('Sparkling Water',), 1.0), ('Dark Chocolate Minis', 'Organic Pink Lemonade Bunny Fruit Snacks', 'Peach-Pear Sparkling Water'): (('Sparkling Water',), 0.9375), ('Peach-Pear Sparkling Water', 'Sparkling Water'): (('Dark Chocolate Minis', 'Organic Pink Lemonade Bunny Fruit Snacks'), 0.8333333333333334), (' Natural Mango Essenced', 'Peach-Pear Sparkling Water', 'Sparkling Water'): (('Organic Pink Lemonade Bunny Fruit Snacks',), 0.9444444444444444), ('Dark Chocolate Minis', 'Peach-Pear Sparkling Water', 'Sparkling Water'): (('Organic Pink Lemonade Bunny Fruit Snacks',), 0.9375), ('Organic Pink Lemonade Bunny Fruit Snacks', 'Peach-Pear Sparkling Water', 'Sparkling Water'): (('Dark Chocolate Minis',), 0.8823529411764706), (' Natural Mango Essenced', 'Dark Chocolate Minis', 'Organic Pink Lemonade Bunny Fruit Snacks', 'Peach-Pear Sparkling Water'): (('Sparkling Water',), 1.0), (' Natural Mango Essenced', 'Dark Chocolate Minis', 'Organic Pink Lemonade Bunny Fruit Snacks', 'Sparkling Water'): (('Peach-Pear Sparkling Water',), 0.9375), (' Natural Mango Essenced', 'Dark Chocolate Minis', 'Peach-Pear Sparkling Water', 'Sparkling Water'): (('Organic Pink Lemonade Bunny Fruit Snacks',), 0.9375), (' Natural Mango Essenced', 'Organic Pink Lemonade Bunny Fruit Snacks', 'Peach-Pear Sparkling Water', 'Sparkling Water'): (('Dark Chocolate Minis',), 0.8823529411764706), ('Dark Chocolate Minis', 'Organic Pink Lemonade Bunny Fruit Snacks', 'Peach-Pear Sparkling Water', 'Sparkling Water'): ((' Natural Mango Essenced',), 1.0), ('Organic Pink Lemonade Bunny Fruit Snacks', 'Peach-Pear Sparkling Water'): (('Dark Chocolate Minis',), 0.8421052631578947), ('Petit Suisse Fruit', 'Salted Butter'): (('Authentic French Brioche',), 0.9090909090909091), ('Authentic French Brioche', 'Strawberry Preserves'): (('Petit Suisse Fruit',), 0.8333333333333334), ('Petit Suisse Fruit', 'Strawberry Preserves'): (('Authentic French Brioche',), 0.9090909090909091), ('Dry Roasted Almonds', 'Soda'): (('Zero Calorie Cola',), 0.8461538461538461), ('Dry Roasted Almonds', 'Zero Calorie Cola'): (('Soda',), 1.0), ('Clementines', 'Zero Calorie Cola'): (('Soda',), 1.0), ('Maple Pumpkin Seeds with Sea Salt Chewy with a Crunch Granola Bars', 'Organic Graham Crunch Cereal'): (('Organic Heritage Flakes Cereal',), 1.0), ('Dark Chocolate Minis', 'Organic Graham Crunch Cereal'): (('Organic Heritage Flakes Cereal',), 1.0), ('Total 2% All Natural Greek Strained Yogurt with Honey', 'Total 2% Lowfat Greek Strained Yogurt With Blueberry'): (('Total 2% with Strawberry Lowfat Greek Strained Yogurt',), 1.0), ('Total 2% Lowfat Greek Strained Yogurt With Blueberry', 'Total 2% Lowfat Greek Strained Yogurt with Peach'): (('Total 2% with Strawberry Lowfat Greek Strained Yogurt',), 0.875), ('Total 2% Lowfat Greek Strained Yogurt With Blueberry', 'Total 2% with Strawberry Lowfat Greek Strained Yogurt'): (('Total 2% Lowfat Greek Strained Yogurt with Peach',), 0.8235294117647058), ('Hass Avocados', 'Soda'): (('Clementines',), 0.9090909090909091), ('Natural Artesian Water', 'Total 2% Lowfat Greek Strained Yogurt with Peach'): (('Total 2% with Strawberry Lowfat Greek Strained Yogurt',), 0.9090909090909091), ('Natural Artesian Water', 'Total 2% with Strawberry Lowfat Greek Strained Yogurt'): (('Total 2% Lowfat Greek Strained Yogurt with Peach',), 1.0), ('Crunch Chocolate Peanut Butter Granola Bar', 'Maple Pumpkin Seeds with Sea Salt Chewy with a Crunch Granola Bars'): (('Organic Heritage Flakes Cereal',), 1.0), ('Maple Pumpkin Seeds with Sea Salt Chewy with a Crunch Granola Bars', 'Organic Pink Lemonade Bunny Fruit Snacks'): (('Organic Heritage Flakes Cereal',), 1.0), ('Dark Chocolate Minis', 'Maple Pumpkin Seeds with Sea Salt Chewy with a Crunch Granola Bars'): (('Dark & Mint Filled Chocolate Squares', 'Organic Heritage Flakes Cereal'), 0.8333333333333334), ('Dark & Mint Filled Chocolate Squares', 'Dark Chocolate Minis', 'Maple Pumpkin Seeds with Sea Salt Chewy with a Crunch Granola Bars'): (('Organic Heritage Flakes Cereal',), 1.0), ('Dark & Mint Filled Chocolate Squares', 'Dark Chocolate Minis', 'Organic Heritage Flakes Cereal'): (('Maple Pumpkin Seeds with Sea Salt Chewy with a Crunch Granola Bars',), 0.8333333333333334), ('Dark Chocolate Minis', 'Maple Pumpkin Seeds with Sea Salt Chewy with a Crunch Granola Bars', 'Organic Heritage Flakes Cereal'): (('Dark & Mint Filled Chocolate Squares',), 0.8333333333333334), ('Dark & Mint Filled Chocolate Squares', 'Maple Pumpkin Seeds with Sea Salt Chewy with a Crunch Granola Bars'): (('Organic Heritage Flakes Cereal',), 0.8666666666666667), ('Grade A Extra Large Eggs', 'Light Oaked Chardonnay'): (('Natural Lime Flavor Sparkling Mineral Water',), 0.9473684210526315), ('Light Oaked Chardonnay', 'Natural Lime Flavor Sparkling Mineral Water'): (('Grade A Extra Large Eggs',), 0.8181818181818182), ('Organic Milk', 'Uncured Hickory Smoked Sunday Bacon'): (('Bag of Organic Bananas',), 0.8461538461538461), ('Dark Chocolate Minis', 'Organic Heritage Flakes Cereal'): (('Organic Pink Lemonade Bunny Fruit Snacks',), 0.8), (' Vitamin D',): (('Milk',), 1.0), ('Milk',): ((' Vitamin D',), 1.0), (' Organic', ' Vitamin D'): (('Milk',), 1.0), (' Organic', 'Milk'): ((' Vitamin D',), 1.0)}\n"
          ]
        }
      ]
    }
  ]
}