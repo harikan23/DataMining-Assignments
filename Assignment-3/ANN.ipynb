{
  "nbformat": 4,
  "nbformat_minor": 0,
  "metadata": {
    "colab": {
      "name": "ANN.ipynb",
      "provenance": [],
      "collapsed_sections": []
    },
    "kernelspec": {
      "name": "python3",
      "display_name": "Python 3"
    },
    "language_info": {
      "name": "python"
    }
  },
  "cells": [
    {
      "cell_type": "markdown",
      "metadata": {
        "id": "j6p4laONeoTr"
      },
      "source": [
        "Aproximate Nearest Neighbors search using Indexes in search. \n",
        "\n",
        "Following are the ANN algorithms\n",
        "\n",
        "1. Exhaustive search\n",
        "2. LSH\n",
        "3. Product Quantization\n",
        "4. Tree and Graph\n",
        "5. HNSW\n",
        "\n",
        "Dataset used to implement the above ANN algorithms is sift 1M. This dataset is used to evaluate the quality of ANN search algorithms.\n",
        "\n",
        "Tha dataset consists of three types of vectors\n",
        "1. base vectors\n",
        "2. query vectors\n",
        "3. learning vectors.\n",
        "the vector files are stored in .bvencs or .fvecs format. These all files are compressed in a .tar format."
      ]
    },
    {
      "cell_type": "code",
      "metadata": {
        "id": "pbDcUIiFFpcY"
      },
      "source": [
        "import shutil\n",
        "import urllib.request as request\n",
        "from contextlib import closing\n",
        "import tarfile\n",
        "import numpy as np"
      ],
      "execution_count": 3,
      "outputs": []
    },
    {
      "cell_type": "markdown",
      "metadata": {
        "id": "bvmRnDwklRLF"
      },
      "source": [
        "Download the dataset"
      ]
    },
    {
      "cell_type": "code",
      "metadata": {
        "id": "wAoSYW_xlNUh"
      },
      "source": [
        "with closing(request.urlopen('ftp://ftp.irisa.fr/local/texmex/corpus/sift.tar.gz')) as r:\n",
        "    with open('sift.tar.gz', 'wb') as f:\n",
        "        shutil.copyfileobj(r, f)"
      ],
      "execution_count": 4,
      "outputs": []
    },
    {
      "cell_type": "markdown",
      "metadata": {
        "id": "XQTe9XNrlfYF"
      },
      "source": [
        "once .tar file is downloaded, extract all the files (untar it)"
      ]
    },
    {
      "cell_type": "code",
      "metadata": {
        "id": "TZBEReIOHHFp"
      },
      "source": [
        "tar_file = tarfile.open('sift.tar.gz', \"r:gz\")\n",
        "tar_file.extractall()"
      ],
      "execution_count": 5,
      "outputs": []
    },
    {
      "cell_type": "markdown",
      "metadata": {
        "id": "kg-XBH4imm09"
      },
      "source": [
        "the vector files extracted are in .fvecs format. Read these files and store th vector.\n",
        "\n",
        "Vectors consists of integer values with 128 dimenional vector. "
      ]
    },
    {
      "cell_type": "code",
      "metadata": {
        "colab": {
          "base_uri": "https://localhost:8080/"
        },
        "id": "oRovNaxymfuT",
        "outputId": "7b4b0aa3-12cf-4514-e7ba-e5b869454d8a"
      },
      "source": [
        "vector_filepath = \"/content/sift/sift_base.fvecs\"\n",
        "read_file = np.fromfile(vector_filepath, dtype='int32')\n",
        "dimension = read_file[0]\n",
        "print(\"base vector dimension: \", dimension)\n",
        "base_vectors = read_file.reshape(-1, dimension+1)[:, 1:].copy().view('float32')"
      ],
      "execution_count": 6,
      "outputs": [
        {
          "output_type": "stream",
          "name": "stdout",
          "text": [
            "base vector dimension:  128\n"
          ]
        }
      ]
    },
    {
      "cell_type": "markdown",
      "metadata": {
        "id": "dQT_vWMWopIN"
      },
      "source": [
        "Read query vector from the extracted files. The query vector is of format .fvecs"
      ]
    },
    {
      "cell_type": "code",
      "metadata": {
        "colab": {
          "base_uri": "https://localhost:8080/"
        },
        "id": "nls7Gq6ion1m",
        "outputId": "e36444e7-d974-42d6-b943-9dcc987956c7"
      },
      "source": [
        "queryVector_filepath = \"/content/sift/sift_query.fvecs\"\n",
        "read_file = np.fromfile(queryVector_filepath, dtype='int32')\n",
        "dimension = read_file[0]\n",
        "print(\"query vector dimension: \", dimension)\n",
        "query_vector = read_file.reshape(-1, dimension+1)[:, 1:].copy().view('float32')\n",
        "query_vector = query_vector[0].reshape(1, query_vector.shape[1])"
      ],
      "execution_count": 7,
      "outputs": [
        {
          "output_type": "stream",
          "name": "stdout",
          "text": [
            "query vector dimension:  128\n"
          ]
        }
      ]
    },
    {
      "cell_type": "markdown",
      "metadata": {
        "id": "nEkNtpV0piZ4"
      },
      "source": [
        "Installing faiss.\n",
        "\n",
        "faiss(Facebook AI Similarity Search) is one of the Index solution used for searching nearest neighbors.\n",
        "\n",
        "Vectors are stored in faiss and the new index vector is used to query the query vector to compared with other index vector to find the nearest neighbors. "
      ]
    },
    {
      "cell_type": "code",
      "metadata": {
        "colab": {
          "base_uri": "https://localhost:8080/"
        },
        "id": "nnzTiTS0pgt8",
        "outputId": "e83398e0-032f-4e91-8d17-6d385f15f187"
      },
      "source": [
        "pip install faiss-cpu"
      ],
      "execution_count": 8,
      "outputs": [
        {
          "output_type": "stream",
          "name": "stdout",
          "text": [
            "Collecting faiss-cpu\n",
            "  Downloading faiss_cpu-1.7.1.post2-cp37-cp37m-manylinux_2_17_x86_64.manylinux2014_x86_64.whl (8.4 MB)\n",
            "\u001b[K     |████████████████████████████████| 8.4 MB 20.7 MB/s \n",
            "\u001b[?25hInstalling collected packages: faiss-cpu\n",
            "Successfully installed faiss-cpu-1.7.1.post2\n"
          ]
        }
      ]
    },
    {
      "cell_type": "markdown",
      "metadata": {
        "id": "F_Sl0r7pq_XV"
      },
      "source": [
        "1. EXHAUSTIVE SEARCH\n",
        "\n",
        "It uses \"INDEXFLATL2\" from faiss libbrary.\n",
        "\n",
        "Exhaustive search has high search-quality but it takes long time to search. These are Flat indexes as we do not change/modify the vectors stored. As there is no approximation or clustering of the vectors from the dataset, indexes generated with more accurate results."
      ]
    },
    {
      "cell_type": "code",
      "metadata": {
        "colab": {
          "base_uri": "https://localhost:8080/"
        },
        "id": "z2xc8HD0olAx",
        "outputId": "2d79dee3-b11c-4417-c9df-1fc82574b473"
      },
      "source": [
        "import faiss\n",
        "from time import time\n",
        "\n",
        "start_time = time()\n",
        "vectorindex = faiss.IndexFlatL2(base_vectors.shape[1])\n",
        "vectorindex.add(base_vectors)\n",
        "distances, indices = vectorindex.search(query_vector, 10) # finding the indices and distance, selecting the top 10 nearest neigbors.\n",
        "end_time = time()\n",
        "print(\"time for exhastive search: %.2fs\" %(end_time-start_time))"
      ],
      "execution_count": 9,
      "outputs": [
        {
          "output_type": "stream",
          "name": "stdout",
          "text": [
            "time for exhastive search: 0.26s\n"
          ]
        }
      ]
    },
    {
      "cell_type": "code",
      "metadata": {
        "colab": {
          "base_uri": "https://localhost:8080/"
        },
        "id": "q8LTn3EpwL53",
        "outputId": "8328ca97-329b-4c32-9295-f2c2a701c124"
      },
      "source": [
        "print(\"top 10 nearest neighbors\", indices)\n",
        "print(\"Their disnatce to query vector\", distances)"
      ],
      "execution_count": 10,
      "outputs": [
        {
          "output_type": "stream",
          "name": "stdout",
          "text": [
            "top 10 nearest neighbors [[932085 934876 561813 708177 706771 695756 435345 701258 455537 872728]]\n",
            "Their disnatce to query vector [[54229. 55091. 59531. 65260. 65697. 67010. 68247. 69844. 71441. 71861.]]\n"
          ]
        }
      ]
    },
    {
      "cell_type": "markdown",
      "metadata": {
        "id": "0U8LyG3CxlZt"
      },
      "source": [
        "2. Locality Sensitive Hashing:\n",
        "\n",
        "LSH is one of the vector encoding technique. To construct the index, map the data points to the buckets. The data points near to each other are located in the same bucket.\n",
        "\n",
        "To search for the constructed index, the query point is hashed to get the set of nearest data points i.e, the nearest bucket.\n",
        "\n",
        "As we construct the new index, number of bits in index can b specified while constructing it.\n",
        "\n",
        "LSH performance is dependent on the parameters set and it has poor performance for high-dimensional data."
      ]
    },
    {
      "cell_type": "code",
      "metadata": {
        "colab": {
          "base_uri": "https://localhost:8080/"
        },
        "id": "p1bU9hkMtUT-",
        "outputId": "ad2d137d-9155-4003-db27-ffe17f525a3d"
      },
      "source": [
        "start_time = time()\n",
        "\n",
        "no_bits = base_vectors.shape[1]*4  # resolution of bucketed vector\n",
        "vectorindex = faiss.IndexLSH(base_vectors.shape[1], no_bits) #space complexity used to store indix is reduced\n",
        "vectorindex.add(base_vectors)\n",
        "distances, indices = vectorindex.search(query_vector, 10) # finding the indices and distance, selecting the top k nearest neigbors.\n",
        "\n",
        "end_time = time()\n",
        "print(\"time for LSH: %.2fs\" %(end_time-start_time))"
      ],
      "execution_count": 11,
      "outputs": [
        {
          "output_type": "stream",
          "name": "stdout",
          "text": [
            "time for LSH: 3.97s\n"
          ]
        }
      ]
    },
    {
      "cell_type": "code",
      "metadata": {
        "colab": {
          "base_uri": "https://localhost:8080/"
        },
        "id": "oqEH7EAyzLRN",
        "outputId": "57dd2c2c-e701-4f1d-d7a5-41ec890ff43a"
      },
      "source": [
        "print(\"top 10 nearest neighbors\", indices)\n",
        "print(\"Their disnatce to query vector\", distances)"
      ],
      "execution_count": 12,
      "outputs": [
        {
          "output_type": "stream",
          "name": "stdout",
          "text": [
            "top 10 nearest neighbors [[435345 931632 813701 934876 708177 455537 932085 561813 248185 361496]]\n",
            "Their disnatce to query vector [[75. 75. 76. 76. 76. 77. 77. 78. 79. 81.]]\n"
          ]
        }
      ]
    },
    {
      "cell_type": "markdown",
      "metadata": {
        "id": "rMMxd8QkzxNu"
      },
      "source": [
        "3. PRODUCT QUANTIZATION\n",
        "\n",
        "Product Quantization is not the optiomal solution to find the neaest neighbors. PQ combined with IVF steps to improve search speed. "
      ]
    },
    {
      "cell_type": "code",
      "metadata": {
        "colab": {
          "base_uri": "https://localhost:8080/"
        },
        "id": "nDJwKgFr0Byz",
        "outputId": "d1766e02-e395-49a2-cb27-d3f9d481d577"
      },
      "source": [
        "start_time = time()\n",
        "\n",
        "dimension = base_vectors.shape[1]\n",
        "subvector_size = 8\n",
        "number_of_partition = 1024  # partitions must be >= pow(2, subvector_size)\n",
        "search_in_x_partitions = 2 \n",
        "quantizer = faiss.IndexFlatL2(dimension)\n",
        "vectorindex = faiss.IndexIVFPQ(quantizer, dimension, number_of_partition, search_in_x_partitions, subvector_size)\n",
        "vectorindex.train(base_vectors)\n",
        "vectorindex.add(base_vectors)\n",
        "distances, indices = vectorindex.search(query_vector, 10) # finding the indices and distance, selecting the top k nearest neigbors.\n",
        "\n",
        "end_time = time()\n",
        "print(\"time for PQ: %.2fs\" %(end_time-start_time))"
      ],
      "execution_count": 13,
      "outputs": [
        {
          "output_type": "stream",
          "name": "stdout",
          "text": [
            "time for PQ: 30.04s\n"
          ]
        }
      ]
    },
    {
      "cell_type": "code",
      "metadata": {
        "colab": {
          "base_uri": "https://localhost:8080/"
        },
        "id": "QCAfeDTi2iVy",
        "outputId": "69794ce5-dc5e-4920-c2cf-187093b04f88"
      },
      "source": [
        "print(\"top 10 nearest neighbors\", indices)\n",
        "print(\"Their disnatce to query vector\", distances)"
      ],
      "execution_count": 14,
      "outputs": [
        {
          "output_type": "stream",
          "name": "stdout",
          "text": [
            "top 10 nearest neighbors [[529986 727687 785802 259327 974147 325658 322550 455537 670103 170996]]\n",
            "Their disnatce to query vector [[48216.6   50419.93  50419.93  50419.93  51095.47  51128.23  54210.59\n",
            "  54312.965 55429.23  56660.438]]\n"
          ]
        }
      ]
    },
    {
      "cell_type": "markdown",
      "metadata": {
        "id": "CrLYxip827wd"
      },
      "source": [
        "4. Hierarchical Navigable Small World Graphs\n",
        "\n",
        "HSNW tops in the ANN search algorithms with high performance. It has a graph structure, vertices are connected by edges to their nearest neighbors these are NSW graphs. Facebook is an example for NSW graphs. \n",
        "HNSW is a algorithm with great search quality and with good search time but still having the considerable index sizes."
      ]
    },
    {
      "cell_type": "code",
      "metadata": {
        "colab": {
          "base_uri": "https://localhost:8080/"
        },
        "id": "skLc8E8E-Y4n",
        "outputId": "0e1e9c9a-69e4-4dc9-e116-aa8935f60965"
      },
      "source": [
        "start_time = time()\n",
        "\n",
        "no_connections = 64  # number of connections each vertex will have\n",
        "dimension = base_vectors.shape[1]\n",
        "indvectorindexex = faiss.IndexHNSWFlat(dimension, no_connections)\n",
        "vectorindex.add(base_vectors)\n",
        "distances, indices = vectorindex.search(query_vector, 10)\n",
        "end_time = time()\n",
        "print(\"time for HNSW: %.2fs\" %(end_time-start_time))"
      ],
      "execution_count": 16,
      "outputs": [
        {
          "output_type": "stream",
          "name": "stdout",
          "text": [
            "time for HNSW: 8.87s\n"
          ]
        }
      ]
    },
    {
      "cell_type": "code",
      "metadata": {
        "colab": {
          "base_uri": "https://localhost:8080/"
        },
        "id": "E0DuhCas_Fnd",
        "outputId": "84a24dc2-888c-4fb9-9cb6-e7a5a7900559"
      },
      "source": [
        "print(\"top 10 nearest neighbors\", indices)\n",
        "print(\"Their disnatce to query vector\", distances)"
      ],
      "execution_count": 17,
      "outputs": [
        {
          "output_type": "stream",
          "name": "stdout",
          "text": [
            "top 10 nearest neighbors [[ 529986 1529986 2529986  727687 2259327  259327  785802 1727687 1785802\n",
            "  1259327]]\n",
            "Their disnatce to query vector [[48216.6  48216.6  48216.6  50419.93 50419.93 50419.93 50419.93 50419.93\n",
            "  50419.93 50419.93]]\n"
          ]
        }
      ]
    },
    {
      "cell_type": "code",
      "metadata": {
        "colab": {
          "base_uri": "https://localhost:8080/"
        },
        "id": "ETXs_xrZ6En8",
        "outputId": "7bf5319b-a4ad-495a-806b-c59f002f1767"
      },
      "source": [
        "pip install nmslib"
      ],
      "execution_count": 2,
      "outputs": [
        {
          "output_type": "stream",
          "name": "stdout",
          "text": [
            "Collecting nmslib\n",
            "  Downloading nmslib-2.1.1-cp37-cp37m-manylinux2010_x86_64.whl (13.5 MB)\n",
            "\u001b[K     |████████████████████████████████| 13.5 MB 32.8 MB/s \n",
            "\u001b[?25hCollecting pybind11<2.6.2\n",
            "  Downloading pybind11-2.6.1-py2.py3-none-any.whl (188 kB)\n",
            "\u001b[K     |████████████████████████████████| 188 kB 60.5 MB/s \n",
            "\u001b[?25hRequirement already satisfied: numpy>=1.10.0 in /usr/local/lib/python3.7/dist-packages (from nmslib) (1.19.5)\n",
            "Requirement already satisfied: psutil in /usr/local/lib/python3.7/dist-packages (from nmslib) (5.4.8)\n",
            "Installing collected packages: pybind11, nmslib\n",
            "Successfully installed nmslib-2.1.1 pybind11-2.6.1\n"
          ]
        }
      ]
    },
    {
      "cell_type": "code",
      "metadata": {
        "colab": {
          "base_uri": "https://localhost:8080/"
        },
        "id": "1qU-jpqF27LO",
        "outputId": "6da714fc-8dbc-4919-91cb-16edccc68d5c"
      },
      "source": [
        "import nmslib\n",
        "start_time = time()\n",
        "\n",
        "dimension = base_vectors.shape[1]\n",
        "vectorindex = nmslib.init(method='hnsw', space='cosinesimil')\n",
        "vectorindex.addDataPointBatch(base_vectors)\n",
        "vectorindex.createIndex({'post': 2})\n",
        "distances, indices = vectorindex.knnQuery(query_vector, 10) # finding the indices and distance, selecting the top k nearest neigbors.\n",
        "end_time = time()\n",
        "print(\"time for HSNW: %.2fs\" %(end_time-start_time))"
      ],
      "execution_count": 18,
      "outputs": [
        {
          "output_type": "stream",
          "name": "stdout",
          "text": [
            "time for HSNW: 1608.68s\n"
          ]
        }
      ]
    },
    {
      "cell_type": "code",
      "metadata": {
        "colab": {
          "base_uri": "https://localhost:8080/"
        },
        "id": "-wWSQNLN6SYo",
        "outputId": "aecd62db-bb5d-48ca-b77f-c162768a69e5"
      },
      "source": [
        "print(\"top 10 nearest neighbors\", indices)\n",
        "print(\"Their disnatce to query vector\", distances)"
      ],
      "execution_count": 19,
      "outputs": [
        {
          "output_type": "stream",
          "name": "stdout",
          "text": [
            "top 10 nearest neighbors [0.10511148 0.10670507 0.13518357 0.13841808 0.13885641 0.14197004\n",
            " 0.14211208 0.14247584 0.14263022 0.14407969]\n",
            "Their disnatce to query vector [932085 934876 701258 455537 872728  36538 562594 908244 600499 619660]\n"
          ]
        }
      ]
    },
    {
      "cell_type": "markdown",
      "metadata": {
        "id": "pglLl8ji7I0v"
      },
      "source": [
        "5. Tree and Graph Algo\n",
        "\n",
        "This algo constructs many trees. Each tree is constructed using a random  set of split and search al the trees at a time for query vector using priority queue. \n",
        "\n",
        "This search algorithms works in Annoy. Tis algorithm is not the best at accuracy at its search for indices but it has many perofrmace gains. "
      ]
    },
    {
      "cell_type": "code",
      "metadata": {
        "colab": {
          "base_uri": "https://localhost:8080/"
        },
        "id": "UC0hN3yt8fxP",
        "outputId": "a509515e-54bd-4aa9-de9d-42e7a0f9394d"
      },
      "source": [
        "pip install annoy"
      ],
      "execution_count": 14,
      "outputs": [
        {
          "output_type": "stream",
          "name": "stdout",
          "text": [
            "Collecting annoy\n",
            "  Downloading annoy-1.17.0.tar.gz (646 kB)\n",
            "\u001b[?25l\r\u001b[K     |▌                               | 10 kB 22.2 MB/s eta 0:00:01\r\u001b[K     |█                               | 20 kB 28.0 MB/s eta 0:00:01\r\u001b[K     |█▌                              | 30 kB 12.8 MB/s eta 0:00:01\r\u001b[K     |██                              | 40 kB 9.9 MB/s eta 0:00:01\r\u001b[K     |██▌                             | 51 kB 5.4 MB/s eta 0:00:01\r\u001b[K     |███                             | 61 kB 5.9 MB/s eta 0:00:01\r\u001b[K     |███▌                            | 71 kB 5.7 MB/s eta 0:00:01\r\u001b[K     |████                            | 81 kB 6.4 MB/s eta 0:00:01\r\u001b[K     |████▋                           | 92 kB 4.9 MB/s eta 0:00:01\r\u001b[K     |█████                           | 102 kB 5.2 MB/s eta 0:00:01\r\u001b[K     |█████▋                          | 112 kB 5.2 MB/s eta 0:00:01\r\u001b[K     |██████                          | 122 kB 5.2 MB/s eta 0:00:01\r\u001b[K     |██████▋                         | 133 kB 5.2 MB/s eta 0:00:01\r\u001b[K     |███████                         | 143 kB 5.2 MB/s eta 0:00:01\r\u001b[K     |███████▋                        | 153 kB 5.2 MB/s eta 0:00:01\r\u001b[K     |████████▏                       | 163 kB 5.2 MB/s eta 0:00:01\r\u001b[K     |████████▋                       | 174 kB 5.2 MB/s eta 0:00:01\r\u001b[K     |█████████▏                      | 184 kB 5.2 MB/s eta 0:00:01\r\u001b[K     |█████████▋                      | 194 kB 5.2 MB/s eta 0:00:01\r\u001b[K     |██████████▏                     | 204 kB 5.2 MB/s eta 0:00:01\r\u001b[K     |██████████▋                     | 215 kB 5.2 MB/s eta 0:00:01\r\u001b[K     |███████████▏                    | 225 kB 5.2 MB/s eta 0:00:01\r\u001b[K     |███████████▋                    | 235 kB 5.2 MB/s eta 0:00:01\r\u001b[K     |████████████▏                   | 245 kB 5.2 MB/s eta 0:00:01\r\u001b[K     |████████████▊                   | 256 kB 5.2 MB/s eta 0:00:01\r\u001b[K     |█████████████▏                  | 266 kB 5.2 MB/s eta 0:00:01\r\u001b[K     |█████████████▊                  | 276 kB 5.2 MB/s eta 0:00:01\r\u001b[K     |██████████████▏                 | 286 kB 5.2 MB/s eta 0:00:01\r\u001b[K     |██████████████▊                 | 296 kB 5.2 MB/s eta 0:00:01\r\u001b[K     |███████████████▏                | 307 kB 5.2 MB/s eta 0:00:01\r\u001b[K     |███████████████▊                | 317 kB 5.2 MB/s eta 0:00:01\r\u001b[K     |████████████████▎               | 327 kB 5.2 MB/s eta 0:00:01\r\u001b[K     |████████████████▊               | 337 kB 5.2 MB/s eta 0:00:01\r\u001b[K     |█████████████████▎              | 348 kB 5.2 MB/s eta 0:00:01\r\u001b[K     |█████████████████▊              | 358 kB 5.2 MB/s eta 0:00:01\r\u001b[K     |██████████████████▎             | 368 kB 5.2 MB/s eta 0:00:01\r\u001b[K     |██████████████████▊             | 378 kB 5.2 MB/s eta 0:00:01\r\u001b[K     |███████████████████▎            | 389 kB 5.2 MB/s eta 0:00:01\r\u001b[K     |███████████████████▊            | 399 kB 5.2 MB/s eta 0:00:01\r\u001b[K     |████████████████████▎           | 409 kB 5.2 MB/s eta 0:00:01\r\u001b[K     |████████████████████▉           | 419 kB 5.2 MB/s eta 0:00:01\r\u001b[K     |█████████████████████▎          | 430 kB 5.2 MB/s eta 0:00:01\r\u001b[K     |█████████████████████▉          | 440 kB 5.2 MB/s eta 0:00:01\r\u001b[K     |██████████████████████▎         | 450 kB 5.2 MB/s eta 0:00:01\r\u001b[K     |██████████████████████▉         | 460 kB 5.2 MB/s eta 0:00:01\r\u001b[K     |███████████████████████▎        | 471 kB 5.2 MB/s eta 0:00:01\r\u001b[K     |███████████████████████▉        | 481 kB 5.2 MB/s eta 0:00:01\r\u001b[K     |████████████████████████▍       | 491 kB 5.2 MB/s eta 0:00:01\r\u001b[K     |████████████████████████▉       | 501 kB 5.2 MB/s eta 0:00:01\r\u001b[K     |█████████████████████████▍      | 512 kB 5.2 MB/s eta 0:00:01\r\u001b[K     |█████████████████████████▉      | 522 kB 5.2 MB/s eta 0:00:01\r\u001b[K     |██████████████████████████▍     | 532 kB 5.2 MB/s eta 0:00:01\r\u001b[K     |██████████████████████████▉     | 542 kB 5.2 MB/s eta 0:00:01\r\u001b[K     |███████████████████████████▍    | 552 kB 5.2 MB/s eta 0:00:01\r\u001b[K     |███████████████████████████▉    | 563 kB 5.2 MB/s eta 0:00:01\r\u001b[K     |████████████████████████████▍   | 573 kB 5.2 MB/s eta 0:00:01\r\u001b[K     |█████████████████████████████   | 583 kB 5.2 MB/s eta 0:00:01\r\u001b[K     |█████████████████████████████▍  | 593 kB 5.2 MB/s eta 0:00:01\r\u001b[K     |██████████████████████████████  | 604 kB 5.2 MB/s eta 0:00:01\r\u001b[K     |██████████████████████████████▍ | 614 kB 5.2 MB/s eta 0:00:01\r\u001b[K     |███████████████████████████████ | 624 kB 5.2 MB/s eta 0:00:01\r\u001b[K     |███████████████████████████████▍| 634 kB 5.2 MB/s eta 0:00:01\r\u001b[K     |████████████████████████████████| 645 kB 5.2 MB/s eta 0:00:01\r\u001b[K     |████████████████████████████████| 646 kB 5.2 MB/s \n",
            "\u001b[?25hBuilding wheels for collected packages: annoy\n",
            "  Building wheel for annoy (setup.py) ... \u001b[?25l\u001b[?25hdone\n",
            "  Created wheel for annoy: filename=annoy-1.17.0-cp37-cp37m-linux_x86_64.whl size=391689 sha256=b6aa17c36bbe5dffc6797b764b310206c642d635ed12a21f43918e0909db78a2\n",
            "  Stored in directory: /root/.cache/pip/wheels/4f/e8/1e/7cc9ebbfa87a3b9f8ba79408d4d31831d67eea918b679a4c07\n",
            "Successfully built annoy\n",
            "Installing collected packages: annoy\n",
            "Successfully installed annoy-1.17.0\n"
          ]
        }
      ]
    },
    {
      "cell_type": "code",
      "metadata": {
        "colab": {
          "base_uri": "https://localhost:8080/"
        },
        "id": "dbn0lw6F9Ufc",
        "outputId": "2c6949f8-2c50-4700-b115-2ac7d2aa398d"
      },
      "source": [
        "import annoy\n",
        "start_time = time()\n",
        "\n",
        "\n",
        "dimension = 128\n",
        "number_of_trees =5\n",
        "vectorindex= annoy.AnnoyIndex(dimension)\n",
        "for i, vec in enumerate(base_vectors):\n",
        "  vectorindex.add_item(i, vec.tolist())\n",
        "# vectorindex.add_item(base_vectors)\n",
        "vectorindex.build(number_of_trees)\n",
        "indices = vectorindex.get_nns_by_vector(query_vector[0], 10)\n",
        "end_time = time()\n",
        "print(\"time for Trees Annoy: %.2fs\" %(end_time-start_time))"
      ],
      "execution_count": 63,
      "outputs": [
        {
          "output_type": "stream",
          "name": "stderr",
          "text": [
            "/usr/local/lib/python3.7/dist-packages/ipykernel_launcher.py:7: FutureWarning: The default argument for metric will be removed in future version of Annoy. Please pass metric='angular' explicitly.\n",
            "  import sys\n"
          ]
        },
        {
          "output_type": "stream",
          "name": "stdout",
          "text": [
            "time for Trees Annoy: 18.14s\n"
          ]
        }
      ]
    },
    {
      "cell_type": "code",
      "metadata": {
        "colab": {
          "base_uri": "https://localhost:8080/"
        },
        "id": "8y1D-OEXaNwn",
        "outputId": "8971015c-21fe-4522-b090-2e410c756f4d"
      },
      "source": [
        "print(\"top 10 nearest neighbors\", indices)"
      ],
      "execution_count": 64,
      "outputs": [
        {
          "output_type": "stream",
          "name": "stdout",
          "text": [
            "top 10 nearest neighbors [934876, 562594, 908244, 565419, 746931, 619829, 544275, 104122, 806773, 883849]\n"
          ]
        }
      ]
    }
  ]
}