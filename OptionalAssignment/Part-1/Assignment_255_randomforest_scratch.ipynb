{
  "nbformat": 4,
  "nbformat_minor": 0,
  "metadata": {
    "colab": {
      "name": "Assignment-255-randomforest_scratch.ipynb",
      "provenance": []
    },
    "kernelspec": {
      "name": "python3",
      "display_name": "Python 3"
    },
    "language_info": {
      "name": "python"
    }
  },
  "cells": [
    {
      "cell_type": "code",
      "execution_count": null,
      "metadata": {
        "id": "xz8HAjjXROD4"
      },
      "outputs": [],
      "source": [
        "import numpy as np\n",
        "\n",
        "from sklearn import datasets\n",
        "from sklearn.model_selection import train_test_split\n",
        "from sklearn.metrics import precision_score, recall_score, f1_score\n",
        "\n",
        "import pandas as pd\n",
        "\n",
        "from collections import Counter\n",
        "from sklearn.tree import DecisionTreeClassifier"
      ]
    },
    {
      "cell_type": "code",
      "source": [
        "def most_common_label(y):\n",
        "    counter = Counter(y)\n",
        "    most_common = counter.most_common(1)[0][0]\n",
        "    return most_common"
      ],
      "metadata": {
        "id": "qZ7bXMXob_r5"
      },
      "execution_count": null,
      "outputs": []
    },
    {
      "cell_type": "code",
      "source": [
        "class RandomForest:\n",
        "\n",
        "    def __init__(self, n_trees=10, min_samples_split=2,\n",
        "                 max_depth=100, n_feats=None):\n",
        "        self.n_trees = n_trees\n",
        "        self.min_samples_split = min_samples_split\n",
        "        self.max_depth = max_depth\n",
        "        self.n_feats = n_feats\n",
        "        self.trees = []\n",
        "\n",
        "    def fit(self, X, y):\n",
        "        self.trees = []\n",
        "        for _ in range(self.n_trees):\n",
        "            tree = DecisionTreeClassifier(min_samples_split=self.min_samples_split,\n",
        "                                max_depth=self.max_depth)\n",
        "            tree.fit(X, y)\n",
        "            self.trees.append(tree)\n",
        "\n",
        "    def predict(self, X):\n",
        "        tree_preds = np.array([tree.predict(X) for tree in self.trees])\n",
        "        tree_preds = np.swapaxes(tree_preds, 0, 1)\n",
        "        y_pred = [most_common_label(tree_pred) for tree_pred in tree_preds]\n",
        "        return np.array(y_pred)"
      ],
      "metadata": {
        "id": "_WgDuYcWU7-S"
      },
      "execution_count": null,
      "outputs": []
    },
    {
      "cell_type": "code",
      "source": [
        "from sklearn.datasets import load_iris\n",
        "import numpy as np\n",
        "\n",
        "dataset = datasets.load_breast_cancer()\n",
        "\n",
        "X = dataset['data']\n",
        "y = dataset['target']"
      ],
      "metadata": {
        "id": "CJ--tRGba9ZC"
      },
      "execution_count": null,
      "outputs": []
    },
    {
      "cell_type": "code",
      "source": [
        "X_train, X_test, y_train, y_test = train_test_split(X, y, test_size=0.1, stratify=y, random_state=42)"
      ],
      "metadata": {
        "id": "S5GPkUgAbMpd"
      },
      "execution_count": null,
      "outputs": []
    },
    {
      "cell_type": "code",
      "source": [
        "rnd_clf = RandomForest(max_depth=10, n_trees=10, n_feats=6)\n",
        "rnd_clf.fit(X_train, y_train)\n",
        "y_pred = rnd_clf.predict(X_test)"
      ],
      "metadata": {
        "id": "wvef85vmbOyr"
      },
      "execution_count": null,
      "outputs": []
    },
    {
      "cell_type": "code",
      "source": [
        "from sklearn.metrics import precision_score, recall_score, f1_score\n",
        "\n",
        "print(f\"Precision: {precision_score(y_test, y_pred)}\")\n",
        "print(f\"Recall: {recall_score(y_test, y_pred)}\")\n",
        "print(f\"F1-Score: {f1_score(y_test, y_pred)}\")"
      ],
      "metadata": {
        "colab": {
          "base_uri": "https://localhost:8080/"
        },
        "id": "s1taEqG1cB4F",
        "outputId": "bccf3502-9436-454e-8696-47e8438366b0"
      },
      "execution_count": null,
      "outputs": [
        {
          "output_type": "stream",
          "name": "stdout",
          "text": [
            "Precision: 0.9705882352941176\n",
            "Recall: 0.9166666666666666\n",
            "F1-Score: 0.9428571428571428\n"
          ]
        }
      ]
    }
  ]
}