{
  "nbformat": 4,
  "nbformat_minor": 0,
  "metadata": {
    "colab": {
      "name": "Assignment-255-GBM_AlgoScratch.ipynb",
      "provenance": []
    },
    "kernelspec": {
      "name": "python3",
      "display_name": "Python 3"
    },
    "language_info": {
      "name": "python"
    }
  },
  "cells": [
    {
      "cell_type": "code",
      "execution_count": null,
      "metadata": {
        "id": "focgzAJ30Pzi"
      },
      "outputs": [],
      "source": [
        "from sklearn.ensemble import GradientBoostingRegressor\n",
        "from sklearn.metrics import mean_squared_error\n",
        "from sklearn import datasets    \n",
        "from sklearn.tree import DecisionTreeRegressor\n",
        "from sklearn.model_selection import train_test_split\n",
        "import numpy as np"
      ]
    },
    {
      "cell_type": "code",
      "source": [
        "class GBM_from_scratch():\n",
        "    \n",
        "    def __init__(self, n_trees, learning_rate, max_depth=1):\n",
        "        self.n_trees=n_trees; self.learning_rate=learning_rate; self.max_depth=max_depth;\n",
        "        \n",
        "    def fit_gbm_scratch(self, x, y):\n",
        "        self.trees = []\n",
        "        self.mean = y.mean()\n",
        "        mean_new = self.mean \n",
        "        for _ in range(self.n_trees):\n",
        "            tree = DecisionTreeRegressor(max_depth=self.max_depth)\n",
        "            tree.fit(x, y - mean_new)\n",
        "            mean_new += self.learning_rate * tree.predict(x)\n",
        "            self.trees.append(tree)\n",
        "            \n",
        "    def predict_gbm(self, x):\n",
        "        return self.mean + self.learning_rate * np.sum([tree.predict(x) for tree in self.trees], axis=0)"
      ],
      "metadata": {
        "id": "bYG_ZN8-4o5c"
      },
      "execution_count": null,
      "outputs": []
    },
    {
      "cell_type": "code",
      "source": [
        "dataset = datasets.load_breast_cancer()\n",
        "x = dataset.data\n",
        "y = dataset.target\n",
        "\n",
        "X_train, X_test, y_train, y_test = train_test_split(x, y, test_size=0.33, random_state=42)\n",
        "\n",
        "scratch_gbm = GBM_from_scratch(n_trees=25, learning_rate=0.3, max_depth=1)\n",
        "scratch_gbm.fit_gbm_scratch(X_train,y_train)"
      ],
      "metadata": {
        "id": "LfgRhaEG66sU"
      },
      "execution_count": null,
      "outputs": []
    },
    {
      "cell_type": "code",
      "source": [
        "mean_squared_error(y_test, scratch_gbm.predict_gbm(X_test))"
      ],
      "metadata": {
        "colab": {
          "base_uri": "https://localhost:8080/"
        },
        "id": "RHJMSDTv8lmw",
        "outputId": "0dff99ed-019b-45bc-f197-6d6e58079849"
      },
      "execution_count": null,
      "outputs": [
        {
          "output_type": "execute_result",
          "data": {
            "text/plain": [
              "0.04194490414313494"
            ]
          },
          "metadata": {},
          "execution_count": 34
        }
      ]
    },
    {
      "cell_type": "code",
      "source": [
        "sklearn_gbm = GradientBoostingRegressor(n_estimators =25, learning_rate=0.3, max_depth=1)\n",
        "sklearn_gbm.fit(X_train,y_train)\n",
        "mean_squared_error(y_test, sklearn_gbm.predict(X_test))"
      ],
      "metadata": {
        "colab": {
          "base_uri": "https://localhost:8080/"
        },
        "id": "HZ8x9z2V9Jqr",
        "outputId": "a18ae83b-8210-4396-8b9d-e5d960c17dd5"
      },
      "execution_count": null,
      "outputs": [
        {
          "output_type": "execute_result",
          "data": {
            "text/plain": [
              "0.04126658301377616"
            ]
          },
          "metadata": {},
          "execution_count": 35
        }
      ]
    }
  ]
}