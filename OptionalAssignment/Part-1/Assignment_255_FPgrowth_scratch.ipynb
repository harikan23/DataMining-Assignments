{
  "nbformat": 4,
  "nbformat_minor": 0,
  "metadata": {
    "colab": {
      "name": "Assignment-255-FPgrowth_scratch.ipynb",
      "provenance": []
    },
    "kernelspec": {
      "name": "python3",
      "display_name": "Python 3"
    },
    "language_info": {
      "name": "python"
    }
  },
  "cells": [
    {
      "cell_type": "markdown",
      "source": [
        "General approach to FP-growth algorithm\n",
        "\n",
        "1. Collect:The first step is to scan the database to find the occurrences of the itemsets in the database.\n",
        "\n",
        "2. Count of 1-itemsets in the database is called support count or frequency of 1-itemset.\n",
        "\n",
        "3. The second step is to construct the FP tree. For this, create the root of the tree. The root is represented by null.\n",
        "\n",
        "4. The next step is to scan the database again and examine the transactions and we construct branch of tree with transaction in item set\n",
        "\n",
        "5. The next step is to mine the created FP Tree. For this, the lowest node is examined first along with the links of the lowest nodes. The lowest node represents the frequency pattern length 1.\n",
        "\n",
        "6. Conditional pattern base is a sub-database consisting of prefix paths in the FP tree occurring with the lowest node (suffix).\n",
        "\n",
        "7. Construct the frequent patterns from the conditional patterns collected in above step. \n"
      ],
      "metadata": {
        "id": "Vi1DNysGLnJf"
      }
    },
    {
      "cell_type": "markdown",
      "source": [
        "Tree display"
      ],
      "metadata": {
        "id": "Hwa0aAr2NDqo"
      }
    },
    {
      "cell_type": "code",
      "execution_count": null,
      "metadata": {
        "id": "gGS6X2LUAEjU"
      },
      "outputs": [],
      "source": [
        "class treeNode:\n",
        "    def __init__(self, itemname, item_count, parentNode):\n",
        "        self.itemname = itemname\n",
        "        self.item_count = item_count\n",
        "        self.nodeLink = None\n",
        "        self.parent = parentNode      #needs to be updated\n",
        "        self.children = {} \n",
        "    def inc(self, item_count):\n",
        "        self.item_count += item_count\n",
        "    def disp(self, ind=1):\n",
        "        print ('  '*ind, self.itemname, ' ', self.item_count)\n",
        "        for child in self.children.values():\n",
        "            child.disp(ind+1)"
      ]
    },
    {
      "cell_type": "markdown",
      "source": [
        "Creating FP tree"
      ],
      "metadata": {
        "id": "ejxWUQ_sNG8N"
      }
    },
    {
      "cell_type": "code",
      "source": [
        "def createTree(dataSet, minSup=1): \n",
        "    itemTable = {}\n",
        "    for transactions in dataSet:\n",
        "        for item in transactions:\n",
        "            itemTable[item] = itemTable.get(item, 0) + dataSet[transactions]\n",
        "    for k in list(itemTable):  \n",
        "        if itemTable[k] < minSup: \n",
        "            del(itemTable[k])\n",
        "    freqItemSet = set(itemTable.keys())\n",
        "\n",
        "    if len(freqItemSet) == 0: return None, None  \n",
        "    for k in itemTable:\n",
        "        itemTable[k] = [itemTable[k], None] \n",
        "\n",
        "    retTree = treeNode('Null Set', 1, None) \n",
        "    for tranSet, count in dataSet.items():  \n",
        "        localD = {}\n",
        "        for item in tranSet:\n",
        "            if item in freqItemSet:\n",
        "                localD[item] = itemTable[item][0]\n",
        "        if len(localD) > 0:\n",
        "            orderedItems = [v[0] for v in sorted(localD.items(), key=lambda p: p[1], reverse=True)]\n",
        "            updateTree(orderedItems, retTree, itemTable, count)\n",
        "    return retTree, itemTable "
      ],
      "metadata": {
        "id": "krEltYcwEF4w"
      },
      "execution_count": null,
      "outputs": []
    },
    {
      "cell_type": "markdown",
      "source": [
        "Loading data"
      ],
      "metadata": {
        "id": "FmzKVKQzNJ9C"
      }
    },
    {
      "cell_type": "code",
      "source": [
        "def load_data():\n",
        "\n",
        "    simpDat = [[\"MILK\",\"BREAD\",\"BISCUIT\"],\n",
        "               [\"BREAD\",\"TEA\",\"BOURNVITA\"],\n",
        "               [\"JAM\",\"MAGGI\",\"BREAD\",\"MILK\"],\n",
        "               [\"MAGGI\",\"TEA\",\"BISCUIT\"],\n",
        "               [\"BREAD\",\"TEA\",\"BOURNVITA\"],\n",
        "               [\"MAGGI\",\"BREAD\",\"TEA\",\"BISCUIT\"],\n",
        "               [\"JAM\",\"MAGGI\",\"BREAD\",\"TEA\"],\n",
        "               [\"BREAD\",\"MILK\"],\n",
        "               [\"COFFEE\",\"COCK\",\"BISCUIT\",\"CORNFLAKES\"],\n",
        "               [\"COFFEE\",\"COCK\",\"BISCUIT\",\"CORNFLAKES\"],\n",
        "               [\"COFFEE\",\"SUGER\",\"BOURNVITA\"],\n",
        "               [\"BREAD\",\"COFFEE\",\"COCK\"],\n",
        "               [\"BREAD\",\"SUGER\",\"BISCUIT\"],\n",
        "               [\"COFFEE\",\"SUGER\",\"CORNFLAKES\"],\n",
        "               [\"BREAD\",\"SUGER\",\"BOURNVITA\"],\n",
        "               [\"BREAD\",\"COFFEE\",\"SUGER\"],\n",
        "               [\"BREAD\",\"COFFEE\",\"SUGER\"],\n",
        "               [\"TEA\",\"MILK\",\"COFFEE\",\"CORNFLAKES\"]]\n",
        "    return simpDat"
      ],
      "metadata": {
        "id": "HjK52s4fFVUt"
      },
      "execution_count": null,
      "outputs": []
    },
    {
      "cell_type": "markdown",
      "source": [
        "Creating inital item set"
      ],
      "metadata": {
        "id": "VYvODbIHNL5V"
      }
    },
    {
      "cell_type": "code",
      "source": [
        "def create_itemset(dataSet):\n",
        "    itemDict = {}\n",
        "    for trans in dataSet:\n",
        "        itemDict[frozenset(trans)] = 1\n",
        "    return itemDict"
      ],
      "metadata": {
        "id": "B0Etc_R1Gceu"
      },
      "execution_count": null,
      "outputs": []
    },
    {
      "cell_type": "code",
      "source": [
        "simpDat = load_data()"
      ],
      "metadata": {
        "id": "MJYtnPRaGgku"
      },
      "execution_count": null,
      "outputs": []
    },
    {
      "cell_type": "markdown",
      "source": [
        "Initial item sets"
      ],
      "metadata": {
        "id": "JnzGJcF0NPOV"
      }
    },
    {
      "cell_type": "code",
      "source": [
        "initSet = create_itemset(simpDat)"
      ],
      "metadata": {
        "id": "ZBaR3V7VGil-"
      },
      "execution_count": null,
      "outputs": []
    },
    {
      "cell_type": "code",
      "source": [
        "initSet"
      ],
      "metadata": {
        "colab": {
          "base_uri": "https://localhost:8080/"
        },
        "id": "d3ORRnFWGknO",
        "outputId": "d2faa365-9421-4dbe-e2da-0a908a825067"
      },
      "execution_count": null,
      "outputs": [
        {
          "output_type": "execute_result",
          "data": {
            "text/plain": [
              "{frozenset({'BISCUIT', 'BREAD', 'MILK'}): 1,\n",
              " frozenset({'BOURNVITA', 'BREAD', 'TEA'}): 1,\n",
              " frozenset({'BREAD', 'JAM', 'MAGGI', 'MILK'}): 1,\n",
              " frozenset({'BISCUIT', 'MAGGI', 'TEA'}): 1,\n",
              " frozenset({'BISCUIT', 'BREAD', 'MAGGI', 'TEA'}): 1,\n",
              " frozenset({'BREAD', 'JAM', 'MAGGI', 'TEA'}): 1,\n",
              " frozenset({'BREAD', 'MILK'}): 1,\n",
              " frozenset({'BISCUIT', 'COCK', 'COFFEE', 'CORNFLAKES'}): 1,\n",
              " frozenset({'BOURNVITA', 'COFFEE', 'SUGER'}): 1,\n",
              " frozenset({'BREAD', 'COCK', 'COFFEE'}): 1,\n",
              " frozenset({'BISCUIT', 'BREAD', 'SUGER'}): 1,\n",
              " frozenset({'COFFEE', 'CORNFLAKES', 'SUGER'}): 1,\n",
              " frozenset({'BOURNVITA', 'BREAD', 'SUGER'}): 1,\n",
              " frozenset({'BREAD', 'COFFEE', 'SUGER'}): 1,\n",
              " frozenset({'COFFEE', 'CORNFLAKES', 'MILK', 'TEA'}): 1}"
            ]
          },
          "metadata": {},
          "execution_count": 52
        }
      ]
    },
    {
      "cell_type": "markdown",
      "source": [
        "Creating FP tree and display it "
      ],
      "metadata": {
        "id": "oSFmi5PvNSr1"
      }
    },
    {
      "cell_type": "code",
      "source": [
        "myFPtree, myHeaderTab = createTree(initSet, 3)"
      ],
      "metadata": {
        "id": "1COdn36gH_ZI"
      },
      "execution_count": null,
      "outputs": []
    },
    {
      "cell_type": "code",
      "source": [
        "myFPtree.disp()"
      ],
      "metadata": {
        "colab": {
          "base_uri": "https://localhost:8080/"
        },
        "id": "N1E5e-4iIAKe",
        "outputId": "a1e46873-3424-44c5-a08e-8e6d0d6261d1"
      },
      "execution_count": null,
      "outputs": [
        {
          "output_type": "stream",
          "name": "stdout",
          "text": [
            "   Null Set   1\n",
            "     BREAD   10\n",
            "       BISCUIT   3\n",
            "         MILK   1\n",
            "         TEA   1\n",
            "           MAGGI   1\n",
            "         SUGER   1\n",
            "       TEA   2\n",
            "         BOURNVITA   1\n",
            "         MAGGI   1\n",
            "       MILK   2\n",
            "         MAGGI   1\n",
            "       COFFEE   2\n",
            "         SUGER   1\n",
            "       SUGER   1\n",
            "         BOURNVITA   1\n",
            "     BISCUIT   1\n",
            "       TEA   1\n",
            "         MAGGI   1\n",
            "     COFFEE   4\n",
            "       BISCUIT   1\n",
            "         CORNFLAKES   1\n",
            "       SUGER   2\n",
            "         BOURNVITA   1\n",
            "         CORNFLAKES   1\n",
            "       TEA   1\n",
            "         MILK   1\n",
            "           CORNFLAKES   1\n"
          ]
        }
      ]
    },
    {
      "cell_type": "markdown",
      "source": [
        "construct the tree to the prefix paths"
      ],
      "metadata": {
        "id": "A9NkZv6WNW3G"
      }
    },
    {
      "cell_type": "code",
      "source": [
        "def tree_construct(leafNode, prefixPath): \n",
        "    if leafNode.parent != None:\n",
        "        prefixPath.append(leafNode.itemname)\n",
        "        tree_construct(leafNode.parent, prefixPath)"
      ],
      "metadata": {
        "id": "vWR-gml2HNPm"
      },
      "execution_count": null,
      "outputs": []
    },
    {
      "cell_type": "markdown",
      "source": [
        "Get conditional patterns from the tree constructed"
      ],
      "metadata": {
        "id": "IP4D8pKrNarV"
      }
    },
    {
      "cell_type": "code",
      "source": [
        "def findPrefixPath(basePat, treeNode): #treeNode comes from item table\n",
        "    condPats = {}\n",
        "    while treeNode != None:\n",
        "        prefixPath = []\n",
        "        tree_construct(treeNode, prefixPath)\n",
        "        if len(prefixPath) > 1: \n",
        "            condPats[frozenset(prefixPath[1:])] = treeNode.item_count\n",
        "        treeNode = treeNode.nodeLink\n",
        "    return condPats"
      ],
      "metadata": {
        "id": "PuulDsXcHORE"
      },
      "execution_count": null,
      "outputs": []
    },
    {
      "cell_type": "markdown",
      "source": [
        "Get the patterns from the constructed tree."
      ],
      "metadata": {
        "id": "i2MyTjYKNjRd"
      }
    },
    {
      "cell_type": "code",
      "source": [
        "findPrefixPath('TEA', myHeaderTab['TEA'][1])"
      ],
      "metadata": {
        "colab": {
          "base_uri": "https://localhost:8080/"
        },
        "id": "6yqCLsohHQE0",
        "outputId": "1ce2b7a3-2406-42c1-c8c2-d648984a70a1"
      },
      "execution_count": null,
      "outputs": [
        {
          "output_type": "execute_result",
          "data": {
            "text/plain": [
              "{frozenset({'BREAD'}): 2,\n",
              " frozenset({'BISCUIT'}): 1,\n",
              " frozenset({'BISCUIT', 'BREAD'}): 1,\n",
              " frozenset({'COFFEE'}): 1}"
            ]
          },
          "metadata": {},
          "execution_count": 64
        }
      ]
    },
    {
      "cell_type": "code",
      "source": [
        "findPrefixPath('MILK', myHeaderTab['MILK'][1])"
      ],
      "metadata": {
        "colab": {
          "base_uri": "https://localhost:8080/"
        },
        "id": "irzFvhQMHX5H",
        "outputId": "d82ebd39-c4fc-4389-fefd-d46418667adb"
      },
      "execution_count": null,
      "outputs": [
        {
          "output_type": "execute_result",
          "data": {
            "text/plain": [
              "{frozenset({'BREAD'}): 2,\n",
              " frozenset({'BISCUIT', 'BREAD'}): 1,\n",
              " frozenset({'COFFEE', 'TEA'}): 1}"
            ]
          },
          "metadata": {},
          "execution_count": 65
        }
      ]
    }
  ]
}