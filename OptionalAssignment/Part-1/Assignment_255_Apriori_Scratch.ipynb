{
  "nbformat": 4,
  "nbformat_minor": 0,
  "metadata": {
    "colab": {
      "name": "Assignment-255-Apriori-Scratch.ipynb",
      "provenance": []
    },
    "kernelspec": {
      "name": "python3",
      "display_name": "Python 3"
    },
    "language_info": {
      "name": "python"
    }
  },
  "cells": [
    {
      "cell_type": "markdown",
      "source": [
        "Apriori Algorithm from Scratch \n",
        "\n",
        "Apriori gets the association rules which are based on minimum support and minimum confidence. Minimum support is the occurrence of an item in the transaction to the total number of transactions, this makes the rules. If a rule is A --> B than the confidence is, occurrence of B to the occurrence of A union B.\n"
      ],
      "metadata": {
        "id": "BIMZGk-BrVP8"
      }
    },
    {
      "cell_type": "code",
      "execution_count": null,
      "metadata": {
        "id": "fKwHbgYztg6B"
      },
      "outputs": [],
      "source": [
        "import csv\n",
        "from itertools import combinations"
      ]
    },
    {
      "cell_type": "code",
      "source": [
        "from google.colab import drive\n",
        "drive.mount('/content/gdrive')"
      ],
      "metadata": {
        "colab": {
          "base_uri": "https://localhost:8080/"
        },
        "id": "0dnweaJItjTg",
        "outputId": "7b694afa-343f-419e-84af-1aac47434f2e"
      },
      "execution_count": null,
      "outputs": [
        {
          "output_type": "stream",
          "name": "stdout",
          "text": [
            "Mounted at /content/gdrive\n"
          ]
        }
      ]
    },
    {
      "cell_type": "markdown",
      "source": [
        "Load data and store the transactions in dictionary"
      ],
      "metadata": {
        "id": "of7dUcuar2dY"
      }
    },
    {
      "cell_type": "code",
      "source": [
        "def load_data(trasanction_file='/content/gdrive/MyDrive/datamining/grocery.csv'):\n",
        "    transactions = dict()\n",
        "    with open(trasanction_file) as f:\n",
        "        transaction_data = csv.reader(f, delimiter=',')\n",
        "        count = 0\n",
        "        for line in transaction_data:\n",
        "            count += 1\n",
        "            transactions[count] = list(set(line))\n",
        "    return transactions"
      ],
      "metadata": {
        "id": "7q1v-Wp-vbUo"
      },
      "execution_count": null,
      "outputs": []
    },
    {
      "cell_type": "code",
      "source": [
        "load_data()"
      ],
      "metadata": {
        "colab": {
          "base_uri": "https://localhost:8080/"
        },
        "id": "DoB25BHcv9Cb",
        "outputId": "7ec2eba9-01c8-4bbb-d79b-272d301f1045"
      },
      "execution_count": null,
      "outputs": [
        {
          "output_type": "execute_result",
          "data": {
            "text/plain": [
              "{1: ['BISCUIT', 'MILK', 'BREAD'],\n",
              " 2: ['BISCUIT', 'MILK', 'BREAD', 'CORNFLAKES'],\n",
              " 3: ['TEA', 'BOURNVITA', 'BREAD'],\n",
              " 4: ['MAGGI', 'MILK', 'BREAD', 'JAM'],\n",
              " 5: ['TEA', 'MAGGI', 'BISCUIT'],\n",
              " 6: ['TEA', 'BOURNVITA', 'BREAD'],\n",
              " 7: ['TEA', 'MAGGI', 'CORNFLAKES'],\n",
              " 8: ['TEA', 'MAGGI', 'BISCUIT', 'BREAD'],\n",
              " 9: ['TEA', 'MAGGI', 'BREAD', 'JAM'],\n",
              " 10: ['MILK', 'BREAD'],\n",
              " 11: ['BISCUIT', 'COCK', 'CORNFLAKES', 'COFFEE'],\n",
              " 12: ['BISCUIT', 'COCK', 'CORNFLAKES', 'COFFEE'],\n",
              " 13: ['BOURNVITA', 'SUGER', 'COFFEE'],\n",
              " 14: ['COCK', 'BREAD', 'COFFEE'],\n",
              " 15: ['BISCUIT', 'BREAD', 'SUGER'],\n",
              " 16: ['CORNFLAKES', 'SUGER', 'COFFEE'],\n",
              " 17: ['BOURNVITA', 'BREAD', 'SUGER'],\n",
              " 18: ['BREAD', 'SUGER', 'COFFEE'],\n",
              " 19: ['BREAD', 'SUGER', 'COFFEE'],\n",
              " 20: ['TEA', 'CORNFLAKES', 'MILK', 'COFFEE']}"
            ]
          },
          "metadata": {},
          "execution_count": 7
        }
      ]
    },
    {
      "cell_type": "markdown",
      "source": [
        "get the frequency of items "
      ],
      "metadata": {
        "id": "lxYaHni6sATP"
      }
    },
    {
      "cell_type": "code",
      "source": [
        "def item_frequency(items_list, transactions, check=False):\n",
        "    items_freq = dict()\n",
        "    for i in items_list:\n",
        "        temp = {i}\n",
        "        if check:\n",
        "            temp = set(i)\n",
        "        for j in transactions.items():\n",
        "            if temp.issubset(set(j[1])):\n",
        "                if i in items_freq:\n",
        "                    items_freq[i] += 1\n",
        "                else:\n",
        "                    items_freq[i] = 1\n",
        "    return items_freq\n"
      ],
      "metadata": {
        "id": "qnWSFOv_wAwI"
      },
      "execution_count": null,
      "outputs": []
    },
    {
      "cell_type": "markdown",
      "source": [
        "calculate support for the items"
      ],
      "metadata": {
        "id": "h5rcYfbosEyF"
      }
    },
    {
      "cell_type": "code",
      "source": [
        "def support(items_counts, trans):\n",
        "    support = dict()\n",
        "    total_trans = len(trans)\n",
        "    for i in items_counts:\n",
        "        support[i] = items_counts[i]/total_trans\n",
        "    return support\n",
        "    "
      ],
      "metadata": {
        "id": "OundrKfUz4Sh"
      },
      "execution_count": null,
      "outputs": []
    },
    {
      "cell_type": "markdown",
      "source": [
        "Get the associlation rules"
      ],
      "metadata": {
        "id": "vC-PEiPtsJp1"
      }
    },
    {
      "cell_type": "code",
      "source": [
        "def getAssociation_rules(items):\n",
        "    rules = []\n",
        "    assoc_rules = {}\n",
        "    for i in items:\n",
        "        assoc_rules = {}\n",
        "        if type(i) != type(str()):\n",
        "            i = list(i)\n",
        "            temp = i[:]\n",
        "            for j in range(len(i)):\n",
        "                k = temp[j]\n",
        "                del temp[j]\n",
        "                assoc_rules[k] = temp\n",
        "                temp = i[:]\n",
        "        rules.append(assoc_rules)\n",
        "    rules_new = []\n",
        "    for i in rules:\n",
        "        for j in i.items():\n",
        "            if type(j[1]) != type(str()):\n",
        "                rules_new.append({tuple(j[1])[0]: j[0]})\n",
        "            else:\n",
        "                rules_new.append({j[1]: j[0]})\n",
        "    rules.extend(rules_new)\n",
        "    return rules\n"
      ],
      "metadata": {
        "id": "i63fp2JLwbhS"
      },
      "execution_count": null,
      "outputs": []
    },
    {
      "cell_type": "markdown",
      "source": [
        "calculate the confidence for all the new rules "
      ],
      "metadata": {
        "id": "XDle3JDdsVwX"
      }
    },
    {
      "cell_type": "code",
      "source": [
        "def confidence(associations, d, min_confidence):\n",
        "    ans = {}\n",
        "    for i in associations:\n",
        "        for j in i.items():\n",
        "            if type(j[0]) == type(str()):\n",
        "                left = {j[0]}\n",
        "            else:\n",
        "                left = set(j[0])\n",
        "            if type(j[1]) == type(str()):\n",
        "                right = {j[1]}\n",
        "            else:\n",
        "                right = set(j[1])\n",
        "\n",
        "            for k in d:\n",
        "                if type(k) != type(str()):\n",
        "                    if left.union(right) - set(k) == set():\n",
        "                        up = d[k]\n",
        "                    if len(right) == len(set(k)) and right - set(k) == set():\n",
        "                        down = d[k]\n",
        "                else:\n",
        "                    if len(right) >= len({k}):\n",
        "                        if right - {k} == set():\n",
        "                            down = d[k]\n",
        "                        elif len(right) <= len({k}):\n",
        "                            if {k} - right == set():    \n",
        "                                down = d[k]\n",
        "            if up/down >= min_confidence:\n",
        "                ans[tuple(left)[0]] = right, up/down, up, down\n",
        "    return ans"
      ],
      "metadata": {
        "id": "u9dTF3dtxT2S"
      },
      "execution_count": null,
      "outputs": []
    },
    {
      "cell_type": "markdown",
      "source": [
        "get all the rules with minimum support 0.0.5 and minimum confidence 0.7"
      ],
      "metadata": {
        "id": "la86vweqsdWe"
      }
    },
    {
      "cell_type": "code",
      "source": [
        "min_support = 0.05\n",
        "min_confidence = 0.7\n",
        "file_loc = \"/content/gdrive/MyDrive/datamining/grocery.csv\"\n",
        "trans = load_data()\n",
        "number_of_trans = [len(i) for i in trans.values()]\n",
        "items_lst = set()\n",
        "\n",
        "itemcount_track = list()\n",
        "    \n",
        "for i in trans.values():\n",
        "  for j in i:\n",
        "    items_lst.add(j)\n",
        "\n",
        "store_item_lst = list(items_lst)[:]\n",
        "items_with_min_support = list()\n",
        "items_counts = item_frequency(items_lst, trans)\n",
        "itemcount_track.append(items_counts)\n",
        "items_with_min_support.append({j[0]:j[1] for j in support(items_counts, trans).items() if j[1]>min_support})\n",
        "\n",
        "for i in range(2, max(number_of_trans)+1):\n",
        "  item_list = combinations(items_lst, i)\n",
        "  items_counts = item_frequency(item_list, trans, check=True)\n",
        "  itemcount_track.append(items_counts)\n",
        "  if list({j[0]:j[1] for j in support(items_counts, trans).items() if j[1]>min_support}.keys()) != []:\n",
        "    items_with_min_support.append({j[0]:j[1] for j in support(items_counts, trans).items() if j[1]>min_support})\n",
        "d = {}\n",
        "{d.update(i) for i in itemcount_track}\n",
        "associations = getAssociation_rules(items_with_min_support[len(items_with_min_support)-1])\n",
        "associations_with_min_confidene = confidence(associations, d, min_confidence)\n",
        "\n",
        "print(associations_with_min_confidene)\n"
      ],
      "metadata": {
        "colab": {
          "base_uri": "https://localhost:8080/"
        },
        "id": "eVRgNUo3yy9V",
        "outputId": "eb3fc82f-e1e1-474f-baa9-7285d49db0fa"
      },
      "execution_count": null,
      "outputs": [
        {
          "output_type": "stream",
          "name": "stdout",
          "text": [
            "{'BISCUIT': ({'CORNFLAKES', 'COCK', 'COFFEE'}, 1.0, 2, 2), 'COCK': ({'BISCUIT', 'CORNFLAKES', 'COFFEE'}, 1.0, 2, 2), 'CORNFLAKES': ({'BISCUIT', 'COCK', 'COFFEE'}, 1.0, 2, 2), 'COFFEE': ({'BISCUIT', 'COCK', 'CORNFLAKES'}, 1.0, 2, 2)}\n"
          ]
        }
      ]
    }
  ]
}