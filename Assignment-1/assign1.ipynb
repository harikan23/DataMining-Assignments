{
  "nbformat": 4,
  "nbformat_minor": 0,
  "metadata": {
    "colab": {
      "name": "assign1.ipynb",
      "provenance": [],
      "collapsed_sections": []
    },
    "kernelspec": {
      "display_name": "Python 3",
      "name": "python3"
    },
    "language_info": {
      "name": "python"
    }
  },
  "cells": [
    {
      "cell_type": "markdown",
      "metadata": {
        "id": "gjF5lT8_1_wd"
      },
      "source": [
        "**Taxi Trip time Prediction**\n",
        "The purpose of this model is to prediction the trip duration. The dataset is from kaggle website https://www.kaggle.com/crailtap/taxi-trajectory\n",
        "\n",
        "The Steps followed to build the model:\n",
        "1. Downloading the data\n",
        "2. Loading the data\n",
        "3. Cleaning the data\n",
        "4. Training the models\n",
        "5. Making Predictions\n",
        "6. Summary"
      ]
    },
    {
      "cell_type": "code",
      "metadata": {
        "id": "B-tEfebLVFL4"
      },
      "source": [
        "import numpy as np\n",
        "import pandas as pd\n",
        "import matplotlib.pyplot as plt\n",
        "import seaborn as sns\n",
        "%matplotlib inline\n",
        "\n",
        "\n",
        "\n",
        "from sklearn.model_selection import train_test_split\n",
        "from sklearn.preprocessing import StandardScaler\n",
        "\n",
        "from sklearn.metrics import mean_squared_error as mse\n",
        "from sklearn.metrics import r2_score\n",
        "\n",
        "from math import sqrt\n",
        "\n",
        "from sklearn.linear_model import Ridge\n",
        "from sklearn.linear_model import Lasso\n",
        "from sklearn.tree import DecisionTreeRegressor"
      ],
      "execution_count": 22,
      "outputs": []
    },
    {
      "cell_type": "markdown",
      "metadata": {
        "id": "dL-rWxHL4ga0"
      },
      "source": [
        "**Loading data from drive**"
      ]
    },
    {
      "cell_type": "code",
      "metadata": {
        "colab": {
          "base_uri": "https://localhost:8080/"
        },
        "id": "pVO33Vc5shEu",
        "outputId": "ff16a4f7-39e7-4555-cbf0-8d994029a9d7"
      },
      "source": [
        "from google.colab import drive\n",
        "drive.mount('/content/gdrive')"
      ],
      "execution_count": 23,
      "outputs": [
        {
          "output_type": "stream",
          "name": "stdout",
          "text": [
            "Drive already mounted at /content/gdrive; to attempt to forcibly remount, call drive.mount(\"/content/gdrive\", force_remount=True).\n"
          ]
        }
      ]
    },
    {
      "cell_type": "markdown",
      "metadata": {
        "id": "w3yuTQYE4vfr"
      },
      "source": [
        "**Unzipping the data file .zip to .csv **"
      ]
    },
    {
      "cell_type": "code",
      "metadata": {
        "colab": {
          "base_uri": "https://localhost:8080/"
        },
        "id": "PMNVDO79tf7r",
        "outputId": "4570124d-8ee9-4a71-b4d0-3c111f24d80f"
      },
      "source": [
        "!unzip gdrive/My\\ Drive/archive.zip"
      ],
      "execution_count": 24,
      "outputs": [
        {
          "output_type": "stream",
          "name": "stdout",
          "text": [
            "Archive:  gdrive/My Drive/archive.zip\n",
            "replace train.csv? [y]es, [n]o, [A]ll, [N]one, [r]ename: n\n"
          ]
        }
      ]
    },
    {
      "cell_type": "code",
      "metadata": {
        "colab": {
          "base_uri": "https://localhost:8080/"
        },
        "id": "94Fuo8vp16Bq",
        "outputId": "c86a9993-da8b-4703-d3e9-baf0ba5fefd5"
      },
      "source": [
        "!head train.csv"
      ],
      "execution_count": 25,
      "outputs": [
        {
          "output_type": "stream",
          "name": "stdout",
          "text": [
            "\"TRIP_ID\",\"CALL_TYPE\",\"ORIGIN_CALL\",\"ORIGIN_STAND\",\"TAXI_ID\",\"TIMESTAMP\",\"DAY_TYPE\",\"MISSING_DATA\",\"POLYLINE\"\n",
            "\"1372636858620000589\",\"C\",\"\",\"\",\"20000589\",\"1372636858\",\"A\",\"False\",\"[[-8.618643,41.141412],[-8.618499,41.141376],[-8.620326,41.14251],[-8.622153,41.143815],[-8.623953,41.144373],[-8.62668,41.144778],[-8.627373,41.144697],[-8.630226,41.14521],[-8.632746,41.14692],[-8.631738,41.148225],[-8.629938,41.150385],[-8.62911,41.151213],[-8.629128,41.15124],[-8.628786,41.152203],[-8.628687,41.152374],[-8.628759,41.152518],[-8.630838,41.15268],[-8.632323,41.153022],[-8.631144,41.154489],[-8.630829,41.154507],[-8.630829,41.154516],[-8.630829,41.154498],[-8.630838,41.154489]]\"\n",
            "\"1372637303620000596\",\"B\",\"\",\"7\",\"20000596\",\"1372637303\",\"A\",\"False\",\"[[-8.639847,41.159826],[-8.640351,41.159871],[-8.642196,41.160114],[-8.644455,41.160492],[-8.646921,41.160951],[-8.649999,41.161491],[-8.653167,41.162031],[-8.656434,41.16258],[-8.660178,41.163192],[-8.663112,41.163687],[-8.666235,41.1642],[-8.669169,41.164704],[-8.670852,41.165136],[-8.670942,41.166576],[-8.66961,41.167962],[-8.668098,41.168988],[-8.66664,41.170005],[-8.665767,41.170635],[-8.66574,41.170671]]\"\n",
            "\"1372636951620000320\",\"C\",\"\",\"\",\"20000320\",\"1372636951\",\"A\",\"False\",\"[[-8.612964,41.140359],[-8.613378,41.14035],[-8.614215,41.140278],[-8.614773,41.140368],[-8.615907,41.140449],[-8.616609,41.140602],[-8.618472,41.141412],[-8.620623,41.142789],[-8.622558,41.144094],[-8.62506,41.144805],[-8.627436,41.144733],[-8.630082,41.145174],[-8.6319,41.146461],[-8.632584,41.147316],[-8.631252,41.148774],[-8.629713,41.150628],[-8.628804,41.152077],[-8.628579,41.152464],[-8.62875,41.152662],[-8.630424,41.15277],[-8.632683,41.152779],[-8.635131,41.152563],[-8.637705,41.153013],[-8.64036,41.15358],[-8.642205,41.154021],[-8.644068,41.154507],[-8.646453,41.154336],[-8.648613,41.1543],[-8.649504,41.154336],[-8.649837,41.154354],[-8.649837,41.1543],[-8.649882,41.154282],[-8.649936,41.1543],[-8.6499,41.154264],[-8.599383,41.141736],[-8.59653,41.140566],[-8.65008,41.154291],[-8.650395,41.153814],[-8.650377,41.153832],[-8.650359,41.153787],[-8.649891,41.153166],[-8.649369,41.152572],[-8.649198,41.152374],[-8.649711,41.151213],[-8.649117,41.150466],[-8.649117,41.149062],[-8.648613,41.148261],[-8.648424,41.148225],[-8.647587,41.148405],[-8.64594,41.148414],[-8.643861,41.148135],[-8.642763,41.148027],[-8.640918,41.14836],[-8.637759,41.148351],[-8.635338,41.147964],[-8.633277,41.147172],[-8.631513,41.146146],[-8.629776,41.14503],[-8.627814,41.144643],[-8.625996,41.144769],[-8.624088,41.144463],[-8.621325,41.143401],[-8.619444,41.141961],[-8.617365,41.140863],[-8.61597,41.14053]]\"\n",
            "\"1372636854620000520\",\"C\",\"\",\"\",\"20000520\",\"1372636854\",\"A\",\"False\",\"[[-8.574678,41.151951],[-8.574705,41.151942],[-8.574696,41.151933],[-8.57466,41.15196],[-8.574723,41.151933],[-8.574714,41.151924],[-8.574714,41.151924],[-8.575164,41.150934],[-8.577135,41.150232],[-8.57853,41.148639],[-8.579745,41.147316],[-8.579358,41.146173],[-8.580744,41.14503],[-8.582904,41.14512],[-8.58438,41.146479],[-8.610849,41.145876],[-8.610012,41.146479],[-8.609058,41.146866],[-8.608968,41.147055],[-8.586027,41.148702],[-8.587197,41.149224],[-8.588205,41.148963],[-8.588835,41.147604],[-8.590176,41.147082],[-8.592543,41.146614],[-8.594721,41.146245],[-8.596737,41.146317],[-8.59869,41.146119],[-8.598816,41.146101],[-8.600193,41.146155],[-8.601057,41.146101],[-8.602344,41.14575],[-8.602785,41.145705],[-8.60328,41.145597],[-8.604045,41.145417],[-8.604657,41.144256],[-8.605854,41.142555],[-8.607951,41.142753],[-8.607978,41.142825],[-8.607996,41.142879],[-8.607987,41.142888],[-8.608005,41.142915],[-8.607996,41.142915]]\"\n",
            "\"1372637091620000337\",\"C\",\"\",\"\",\"20000337\",\"1372637091\",\"A\",\"False\",\"[[-8.645994,41.18049],[-8.645949,41.180517],[-8.646048,41.180049],[-8.646804,41.178888],[-8.649495,41.178465],[-8.65215,41.177961],[-8.654049,41.177196],[-8.655012,41.177925],[-8.656353,41.177853],[-8.659647,41.177277],[-8.662518,41.177619],[-8.664561,41.179221],[-8.667432,41.178537],[-8.668944,41.176674],[-8.671374,41.17518],[-8.673894,41.173308],[-8.676918,41.171841],[-8.680032,41.171949],[-8.682615,41.173191],[-8.685441,41.173776],[-8.688105,41.17365],[-8.688879,41.174379],[-8.689059,41.17608],[-8.689086,41.176431],[-8.689059,41.176593],[-8.687502,41.176755],[-8.687259,41.177781],[-8.687259,41.178078],[-8.687268,41.178087]]\"\n",
            "\"1372636965620000231\",\"C\",\"\",\"\",\"20000231\",\"1372636965\",\"A\",\"False\",\"[[-8.615502,41.140674],[-8.614854,41.140926],[-8.613351,41.14152],[-8.609976,41.140854],[-8.607537,41.141295],[-8.603676,41.141808],[-8.599833,41.141916],[-8.596458,41.140494],[-8.592993,41.140008],[-8.589384,41.140674],[-8.587026,41.142753],[-8.583831,41.143644],[-8.581086,41.143698],[-8.579133,41.144238],[-8.577594,41.144688],[-8.578809,41.145957],[-8.580168,41.147136],[-8.578827,41.149359],[-8.579808,41.151879],[-8.581626,41.153868],[-8.582076,41.155434],[-8.580546,41.155947],[-8.578719,41.156271],[-8.578629,41.157693],[-8.578521,41.159439],[-8.578224,41.160717]]\"\n",
            "\"1372637210620000456\",\"C\",\"\",\"\",\"20000456\",\"1372637210\",\"A\",\"False\",\"[[-8.57952,41.145948],[-8.580942,41.145039],[-8.582706,41.145021],[-8.584092,41.146164],[-8.58546,41.14683],[-8.587116,41.147397],[-8.586171,41.148018],[-8.58609,41.148963],[-8.588016,41.149368],[-8.590401,41.150016],[-8.593119,41.150736],[-8.593506,41.150853],[-8.593668,41.15097],[-8.595342,41.150232],[-8.59608,41.149827],[-8.597466,41.148909],[-8.598051,41.148567],[-8.598663,41.148342],[-8.600688,41.148585],[-8.601723,41.147325],[-8.601795,41.147262],[-8.601768,41.147289],[-8.602227,41.147001],[-8.603667,41.146578],[-8.603739,41.146578],[-8.604477,41.146164],[-8.604702,41.145408],[-8.604477,41.145327],[-8.604747,41.144445],[-8.604945,41.144148],[-8.603703,41.143608],[-8.602236,41.142807],[-8.603244,41.142681],[-8.604,41.142798],[-8.603982,41.142798],[-8.603973,41.142816]]\"\n",
            "\"1372637299620000011\",\"C\",\"\",\"\",\"20000011\",\"1372637299\",\"A\",\"False\",\"[[-8.617563,41.146182],[-8.617527,41.145849],[-8.616978,41.144832],[-8.615754,41.145426],[-8.615745,41.145408],[-8.615466,41.145714],[-8.615142,41.147046],[-8.615142,41.147118],[-8.61579,41.147298],[-8.617455,41.147235],[-8.617716,41.147217],[-8.618013,41.147505],[-8.618796,41.148603],[-8.619948,41.148468],[-8.620758,41.148927],[-8.621055,41.150565],[-8.620893,41.152284],[-8.621001,41.154246],[-8.620821,41.15547],[-8.620848,41.155452],[-8.620812,41.155803],[-8.62092,41.157225],[-8.622819,41.158242],[-8.624682,41.159475],[-8.624664,41.159718],[-8.624691,41.160492],[-8.624709,41.161563],[-8.624718,41.161563],[-8.624727,41.161554],[-8.624736,41.161545],[-8.624736,41.161536],[-8.624736,41.161536],[-8.624727,41.161545],[-8.6247,41.161554]]\"\n",
            "\"1372637274620000403\",\"C\",\"\",\"\",\"20000403\",\"1372637274\",\"A\",\"False\",\"[[-8.611794,41.140557],[-8.611785,41.140575],[-8.612001,41.140566],[-8.612622,41.140503],[-8.613702,41.140341],[-8.614665,41.140386],[-8.615844,41.140485],[-8.61561,41.140683],[-8.614566,41.141088],[-8.614395,41.141979],[-8.613936,41.142942],[-8.612793,41.143851],[-8.611488,41.144787],[-8.610543,41.144391],[-8.610282,41.143536],[-8.610255,41.143401],[-8.608824,41.143239],[-8.608419,41.143149],[-8.606565,41.142348],[-8.605179,41.143446],[-8.604549,41.144796],[-8.604297,41.1453],[-8.603505,41.145561],[-8.602488,41.145633],[-8.601039,41.145759],[-8.600436,41.146443],[-8.599977,41.147289],[-8.598681,41.14827],[-8.598303,41.148423],[-8.598618,41.149467],[-8.597529,41.151294],[-8.596161,41.153679],[-8.594838,41.155983],[-8.594163,41.157135],[-8.593002,41.159187],[-8.591454,41.161608],[-8.589924,41.163453],[-8.589402,41.163309]]\"\n"
          ]
        }
      ]
    },
    {
      "cell_type": "code",
      "metadata": {
        "id": "bUxBDsSwsYB7"
      },
      "source": [
        "import pandas as pd\n",
        "filename = '/content/train.csv'\n",
        "data = pd.read_csv(filename,error_bad_lines=False, engine=\"python\")"
      ],
      "execution_count": 26,
      "outputs": []
    },
    {
      "cell_type": "code",
      "metadata": {
        "colab": {
          "base_uri": "https://localhost:8080/",
          "height": 206
        },
        "id": "RzlLm7eK3G1g",
        "outputId": "ee566481-6a37-4922-d9e7-a0205d248bc8"
      },
      "source": [
        "data.head(5)\n"
      ],
      "execution_count": 27,
      "outputs": [
        {
          "output_type": "execute_result",
          "data": {
            "text/html": [
              "<div>\n",
              "<style scoped>\n",
              "    .dataframe tbody tr th:only-of-type {\n",
              "        vertical-align: middle;\n",
              "    }\n",
              "\n",
              "    .dataframe tbody tr th {\n",
              "        vertical-align: top;\n",
              "    }\n",
              "\n",
              "    .dataframe thead th {\n",
              "        text-align: right;\n",
              "    }\n",
              "</style>\n",
              "<table border=\"1\" class=\"dataframe\">\n",
              "  <thead>\n",
              "    <tr style=\"text-align: right;\">\n",
              "      <th></th>\n",
              "      <th>TRIP_ID</th>\n",
              "      <th>CALL_TYPE</th>\n",
              "      <th>ORIGIN_CALL</th>\n",
              "      <th>ORIGIN_STAND</th>\n",
              "      <th>TAXI_ID</th>\n",
              "      <th>TIMESTAMP</th>\n",
              "      <th>DAY_TYPE</th>\n",
              "      <th>MISSING_DATA</th>\n",
              "      <th>POLYLINE</th>\n",
              "    </tr>\n",
              "  </thead>\n",
              "  <tbody>\n",
              "    <tr>\n",
              "      <th>0</th>\n",
              "      <td>1372636858620000589</td>\n",
              "      <td>C</td>\n",
              "      <td>NaN</td>\n",
              "      <td>NaN</td>\n",
              "      <td>20000589</td>\n",
              "      <td>1372636858</td>\n",
              "      <td>A</td>\n",
              "      <td>False</td>\n",
              "      <td>[[-8.618643,41.141412],[-8.618499,41.141376],[...</td>\n",
              "    </tr>\n",
              "    <tr>\n",
              "      <th>1</th>\n",
              "      <td>1372637303620000596</td>\n",
              "      <td>B</td>\n",
              "      <td>NaN</td>\n",
              "      <td>7.0</td>\n",
              "      <td>20000596</td>\n",
              "      <td>1372637303</td>\n",
              "      <td>A</td>\n",
              "      <td>False</td>\n",
              "      <td>[[-8.639847,41.159826],[-8.640351,41.159871],[...</td>\n",
              "    </tr>\n",
              "    <tr>\n",
              "      <th>2</th>\n",
              "      <td>1372636951620000320</td>\n",
              "      <td>C</td>\n",
              "      <td>NaN</td>\n",
              "      <td>NaN</td>\n",
              "      <td>20000320</td>\n",
              "      <td>1372636951</td>\n",
              "      <td>A</td>\n",
              "      <td>False</td>\n",
              "      <td>[[-8.612964,41.140359],[-8.613378,41.14035],[-...</td>\n",
              "    </tr>\n",
              "    <tr>\n",
              "      <th>3</th>\n",
              "      <td>1372636854620000520</td>\n",
              "      <td>C</td>\n",
              "      <td>NaN</td>\n",
              "      <td>NaN</td>\n",
              "      <td>20000520</td>\n",
              "      <td>1372636854</td>\n",
              "      <td>A</td>\n",
              "      <td>False</td>\n",
              "      <td>[[-8.574678,41.151951],[-8.574705,41.151942],[...</td>\n",
              "    </tr>\n",
              "    <tr>\n",
              "      <th>4</th>\n",
              "      <td>1372637091620000337</td>\n",
              "      <td>C</td>\n",
              "      <td>NaN</td>\n",
              "      <td>NaN</td>\n",
              "      <td>20000337</td>\n",
              "      <td>1372637091</td>\n",
              "      <td>A</td>\n",
              "      <td>False</td>\n",
              "      <td>[[-8.645994,41.18049],[-8.645949,41.180517],[-...</td>\n",
              "    </tr>\n",
              "  </tbody>\n",
              "</table>\n",
              "</div>"
            ],
            "text/plain": [
              "               TRIP_ID  ...                                           POLYLINE\n",
              "0  1372636858620000589  ...  [[-8.618643,41.141412],[-8.618499,41.141376],[...\n",
              "1  1372637303620000596  ...  [[-8.639847,41.159826],[-8.640351,41.159871],[...\n",
              "2  1372636951620000320  ...  [[-8.612964,41.140359],[-8.613378,41.14035],[-...\n",
              "3  1372636854620000520  ...  [[-8.574678,41.151951],[-8.574705,41.151942],[...\n",
              "4  1372637091620000337  ...  [[-8.645994,41.18049],[-8.645949,41.180517],[-...\n",
              "\n",
              "[5 rows x 9 columns]"
            ]
          },
          "metadata": {},
          "execution_count": 27
        }
      ]
    },
    {
      "cell_type": "code",
      "metadata": {
        "colab": {
          "base_uri": "https://localhost:8080/"
        },
        "id": "TJbdVIXE_iub",
        "outputId": "cae4f3c0-a3b2-4072-d30b-32e6de16b52a"
      },
      "source": [
        "data.shape"
      ],
      "execution_count": 28,
      "outputs": [
        {
          "output_type": "execute_result",
          "data": {
            "text/plain": [
              "(1710670, 9)"
            ]
          },
          "metadata": {},
          "execution_count": 28
        }
      ]
    },
    {
      "cell_type": "code",
      "metadata": {
        "colab": {
          "base_uri": "https://localhost:8080/"
        },
        "id": "tDzn37mR_j5I",
        "outputId": "066336b1-6458-4384-86c6-08a8ab423a78"
      },
      "source": [
        "data.columns"
      ],
      "execution_count": 29,
      "outputs": [
        {
          "output_type": "execute_result",
          "data": {
            "text/plain": [
              "Index(['TRIP_ID', 'CALL_TYPE', 'ORIGIN_CALL', 'ORIGIN_STAND', 'TAXI_ID',\n",
              "       'TIMESTAMP', 'DAY_TYPE', 'MISSING_DATA', 'POLYLINE'],\n",
              "      dtype='object')"
            ]
          },
          "metadata": {},
          "execution_count": 29
        }
      ]
    },
    {
      "cell_type": "code",
      "metadata": {
        "colab": {
          "base_uri": "https://localhost:8080/"
        },
        "id": "RpBzLhec_7YR",
        "outputId": "9fa7dc51-3ec2-4fa8-dfaa-d0bd1a102498"
      },
      "source": [
        "data.info()"
      ],
      "execution_count": 30,
      "outputs": [
        {
          "output_type": "stream",
          "name": "stdout",
          "text": [
            "<class 'pandas.core.frame.DataFrame'>\n",
            "RangeIndex: 1710670 entries, 0 to 1710669\n",
            "Data columns (total 9 columns):\n",
            " #   Column        Dtype  \n",
            "---  ------        -----  \n",
            " 0   TRIP_ID       int64  \n",
            " 1   CALL_TYPE     object \n",
            " 2   ORIGIN_CALL   float64\n",
            " 3   ORIGIN_STAND  float64\n",
            " 4   TAXI_ID       int64  \n",
            " 5   TIMESTAMP     int64  \n",
            " 6   DAY_TYPE      object \n",
            " 7   MISSING_DATA  bool   \n",
            " 8   POLYLINE      object \n",
            "dtypes: bool(1), float64(2), int64(3), object(3)\n",
            "memory usage: 106.0+ MB\n"
          ]
        }
      ]
    },
    {
      "cell_type": "markdown",
      "metadata": {
        "id": "RvY894Fk5SLj"
      },
      "source": [
        "**Cleaning Data**"
      ]
    },
    {
      "cell_type": "code",
      "metadata": {
        "colab": {
          "base_uri": "https://localhost:8080/"
        },
        "id": "FxqXTy9yAURa",
        "outputId": "778b4c5f-ff8c-4714-987b-a223a39082bc"
      },
      "source": [
        "print('DAY_TYPE-',data['DAY_TYPE'].unique())\n",
        "print('CALL_TYPE-',data['CALL_TYPE'].unique())\n",
        "print('MISSING_DATA-',data['MISSING_DATA'].unique())"
      ],
      "execution_count": 31,
      "outputs": [
        {
          "output_type": "stream",
          "name": "stdout",
          "text": [
            "DAY_TYPE- ['A']\n",
            "CALL_TYPE- ['C' 'B' 'A']\n",
            "MISSING_DATA- [False  True]\n"
          ]
        }
      ]
    },
    {
      "cell_type": "markdown",
      "metadata": {
        "id": "AFwyD0Za5AyA"
      },
      "source": [
        "DAY_TYPE column has only one unique value and it is 'A' (all trips are starting from on normal day or weekday. So dropping the column 'DAY_TYPE'"
      ]
    },
    {
      "cell_type": "code",
      "metadata": {
        "id": "xzH67ik6ONKL"
      },
      "source": [
        "data.drop('DAY_TYPE', inplace=True, axis=1)\n"
      ],
      "execution_count": 32,
      "outputs": []
    },
    {
      "cell_type": "code",
      "metadata": {
        "colab": {
          "base_uri": "https://localhost:8080/"
        },
        "id": "IxDrm9qhkjYA",
        "outputId": "9cb79887-353f-400b-a8cc-87ade3a8b287"
      },
      "source": [
        "data.shape"
      ],
      "execution_count": 33,
      "outputs": [
        {
          "output_type": "execute_result",
          "data": {
            "text/plain": [
              "(1710670, 8)"
            ]
          },
          "metadata": {},
          "execution_count": 33
        }
      ]
    },
    {
      "cell_type": "code",
      "metadata": {
        "colab": {
          "base_uri": "https://localhost:8080/",
          "height": 206
        },
        "id": "-w8dESJnUe1x",
        "outputId": "9e96a290-908e-42a1-99d4-a12a7efee8be"
      },
      "source": [
        "data.head(5)"
      ],
      "execution_count": 34,
      "outputs": [
        {
          "output_type": "execute_result",
          "data": {
            "text/html": [
              "<div>\n",
              "<style scoped>\n",
              "    .dataframe tbody tr th:only-of-type {\n",
              "        vertical-align: middle;\n",
              "    }\n",
              "\n",
              "    .dataframe tbody tr th {\n",
              "        vertical-align: top;\n",
              "    }\n",
              "\n",
              "    .dataframe thead th {\n",
              "        text-align: right;\n",
              "    }\n",
              "</style>\n",
              "<table border=\"1\" class=\"dataframe\">\n",
              "  <thead>\n",
              "    <tr style=\"text-align: right;\">\n",
              "      <th></th>\n",
              "      <th>TRIP_ID</th>\n",
              "      <th>CALL_TYPE</th>\n",
              "      <th>ORIGIN_CALL</th>\n",
              "      <th>ORIGIN_STAND</th>\n",
              "      <th>TAXI_ID</th>\n",
              "      <th>TIMESTAMP</th>\n",
              "      <th>MISSING_DATA</th>\n",
              "      <th>POLYLINE</th>\n",
              "    </tr>\n",
              "  </thead>\n",
              "  <tbody>\n",
              "    <tr>\n",
              "      <th>0</th>\n",
              "      <td>1372636858620000589</td>\n",
              "      <td>C</td>\n",
              "      <td>NaN</td>\n",
              "      <td>NaN</td>\n",
              "      <td>20000589</td>\n",
              "      <td>1372636858</td>\n",
              "      <td>False</td>\n",
              "      <td>[[-8.618643,41.141412],[-8.618499,41.141376],[...</td>\n",
              "    </tr>\n",
              "    <tr>\n",
              "      <th>1</th>\n",
              "      <td>1372637303620000596</td>\n",
              "      <td>B</td>\n",
              "      <td>NaN</td>\n",
              "      <td>7.0</td>\n",
              "      <td>20000596</td>\n",
              "      <td>1372637303</td>\n",
              "      <td>False</td>\n",
              "      <td>[[-8.639847,41.159826],[-8.640351,41.159871],[...</td>\n",
              "    </tr>\n",
              "    <tr>\n",
              "      <th>2</th>\n",
              "      <td>1372636951620000320</td>\n",
              "      <td>C</td>\n",
              "      <td>NaN</td>\n",
              "      <td>NaN</td>\n",
              "      <td>20000320</td>\n",
              "      <td>1372636951</td>\n",
              "      <td>False</td>\n",
              "      <td>[[-8.612964,41.140359],[-8.613378,41.14035],[-...</td>\n",
              "    </tr>\n",
              "    <tr>\n",
              "      <th>3</th>\n",
              "      <td>1372636854620000520</td>\n",
              "      <td>C</td>\n",
              "      <td>NaN</td>\n",
              "      <td>NaN</td>\n",
              "      <td>20000520</td>\n",
              "      <td>1372636854</td>\n",
              "      <td>False</td>\n",
              "      <td>[[-8.574678,41.151951],[-8.574705,41.151942],[...</td>\n",
              "    </tr>\n",
              "    <tr>\n",
              "      <th>4</th>\n",
              "      <td>1372637091620000337</td>\n",
              "      <td>C</td>\n",
              "      <td>NaN</td>\n",
              "      <td>NaN</td>\n",
              "      <td>20000337</td>\n",
              "      <td>1372637091</td>\n",
              "      <td>False</td>\n",
              "      <td>[[-8.645994,41.18049],[-8.645949,41.180517],[-...</td>\n",
              "    </tr>\n",
              "  </tbody>\n",
              "</table>\n",
              "</div>"
            ],
            "text/plain": [
              "               TRIP_ID  ...                                           POLYLINE\n",
              "0  1372636858620000589  ...  [[-8.618643,41.141412],[-8.618499,41.141376],[...\n",
              "1  1372637303620000596  ...  [[-8.639847,41.159826],[-8.640351,41.159871],[...\n",
              "2  1372636951620000320  ...  [[-8.612964,41.140359],[-8.613378,41.14035],[-...\n",
              "3  1372636854620000520  ...  [[-8.574678,41.151951],[-8.574705,41.151942],[...\n",
              "4  1372637091620000337  ...  [[-8.645994,41.18049],[-8.645949,41.180517],[-...\n",
              "\n",
              "[5 rows x 8 columns]"
            ]
          },
          "metadata": {},
          "execution_count": 34
        }
      ]
    },
    {
      "cell_type": "code",
      "metadata": {
        "colab": {
          "base_uri": "https://localhost:8080/",
          "height": 300
        },
        "id": "aDirCPFbUgm2",
        "outputId": "4253d5e3-5ea2-4b31-83f8-8d64722c3a24"
      },
      "source": [
        "data.describe()"
      ],
      "execution_count": 35,
      "outputs": [
        {
          "output_type": "execute_result",
          "data": {
            "text/html": [
              "<div>\n",
              "<style scoped>\n",
              "    .dataframe tbody tr th:only-of-type {\n",
              "        vertical-align: middle;\n",
              "    }\n",
              "\n",
              "    .dataframe tbody tr th {\n",
              "        vertical-align: top;\n",
              "    }\n",
              "\n",
              "    .dataframe thead th {\n",
              "        text-align: right;\n",
              "    }\n",
              "</style>\n",
              "<table border=\"1\" class=\"dataframe\">\n",
              "  <thead>\n",
              "    <tr style=\"text-align: right;\">\n",
              "      <th></th>\n",
              "      <th>TRIP_ID</th>\n",
              "      <th>ORIGIN_CALL</th>\n",
              "      <th>ORIGIN_STAND</th>\n",
              "      <th>TAXI_ID</th>\n",
              "      <th>TIMESTAMP</th>\n",
              "    </tr>\n",
              "  </thead>\n",
              "  <tbody>\n",
              "    <tr>\n",
              "      <th>count</th>\n",
              "      <td>1.710670e+06</td>\n",
              "      <td>364770.000000</td>\n",
              "      <td>806579.000000</td>\n",
              "      <td>1.710670e+06</td>\n",
              "      <td>1.710670e+06</td>\n",
              "    </tr>\n",
              "    <tr>\n",
              "      <th>mean</th>\n",
              "      <td>1.388622e+18</td>\n",
              "      <td>24490.363018</td>\n",
              "      <td>30.272381</td>\n",
              "      <td>2.000035e+07</td>\n",
              "      <td>1.388622e+09</td>\n",
              "    </tr>\n",
              "    <tr>\n",
              "      <th>std</th>\n",
              "      <td>9.180944e+15</td>\n",
              "      <td>19624.290043</td>\n",
              "      <td>17.747840</td>\n",
              "      <td>2.112405e+02</td>\n",
              "      <td>9.180944e+06</td>\n",
              "    </tr>\n",
              "    <tr>\n",
              "      <th>min</th>\n",
              "      <td>1.372637e+18</td>\n",
              "      <td>2001.000000</td>\n",
              "      <td>1.000000</td>\n",
              "      <td>2.000000e+07</td>\n",
              "      <td>1.372637e+09</td>\n",
              "    </tr>\n",
              "    <tr>\n",
              "      <th>25%</th>\n",
              "      <td>1.380731e+18</td>\n",
              "      <td>6593.000000</td>\n",
              "      <td>15.000000</td>\n",
              "      <td>2.000017e+07</td>\n",
              "      <td>1.380731e+09</td>\n",
              "    </tr>\n",
              "    <tr>\n",
              "      <th>50%</th>\n",
              "      <td>1.388493e+18</td>\n",
              "      <td>18755.000000</td>\n",
              "      <td>27.000000</td>\n",
              "      <td>2.000034e+07</td>\n",
              "      <td>1.388493e+09</td>\n",
              "    </tr>\n",
              "    <tr>\n",
              "      <th>75%</th>\n",
              "      <td>1.396750e+18</td>\n",
              "      <td>40808.000000</td>\n",
              "      <td>49.000000</td>\n",
              "      <td>2.000052e+07</td>\n",
              "      <td>1.396750e+09</td>\n",
              "    </tr>\n",
              "    <tr>\n",
              "      <th>max</th>\n",
              "      <td>1.404173e+18</td>\n",
              "      <td>63884.000000</td>\n",
              "      <td>63.000000</td>\n",
              "      <td>2.000098e+07</td>\n",
              "      <td>1.404173e+09</td>\n",
              "    </tr>\n",
              "  </tbody>\n",
              "</table>\n",
              "</div>"
            ],
            "text/plain": [
              "            TRIP_ID    ORIGIN_CALL   ORIGIN_STAND       TAXI_ID     TIMESTAMP\n",
              "count  1.710670e+06  364770.000000  806579.000000  1.710670e+06  1.710670e+06\n",
              "mean   1.388622e+18   24490.363018      30.272381  2.000035e+07  1.388622e+09\n",
              "std    9.180944e+15   19624.290043      17.747840  2.112405e+02  9.180944e+06\n",
              "min    1.372637e+18    2001.000000       1.000000  2.000000e+07  1.372637e+09\n",
              "25%    1.380731e+18    6593.000000      15.000000  2.000017e+07  1.380731e+09\n",
              "50%    1.388493e+18   18755.000000      27.000000  2.000034e+07  1.388493e+09\n",
              "75%    1.396750e+18   40808.000000      49.000000  2.000052e+07  1.396750e+09\n",
              "max    1.404173e+18   63884.000000      63.000000  2.000098e+07  1.404173e+09"
            ]
          },
          "metadata": {},
          "execution_count": 35
        }
      ]
    },
    {
      "cell_type": "markdown",
      "metadata": {
        "id": "Qh9g7thO6MBt"
      },
      "source": [
        "Sorting the dataset based ob 'TIMESTAMP'  and splitting the column 'TIMESTAMP' to year,month,day,hour"
      ]
    },
    {
      "cell_type": "code",
      "metadata": {
        "id": "Yfs0O7c4UkFV"
      },
      "source": [
        "data.sort_values('TIMESTAMP',inplace = True)"
      ],
      "execution_count": 36,
      "outputs": []
    },
    {
      "cell_type": "code",
      "metadata": {
        "colab": {
          "base_uri": "https://localhost:8080/",
          "height": 206
        },
        "id": "5YwZVoC-Uumk",
        "outputId": "246a61c6-fb8f-4f81-8257-aef31abfaec0"
      },
      "source": [
        "data.head(5)"
      ],
      "execution_count": 37,
      "outputs": [
        {
          "output_type": "execute_result",
          "data": {
            "text/html": [
              "<div>\n",
              "<style scoped>\n",
              "    .dataframe tbody tr th:only-of-type {\n",
              "        vertical-align: middle;\n",
              "    }\n",
              "\n",
              "    .dataframe tbody tr th {\n",
              "        vertical-align: top;\n",
              "    }\n",
              "\n",
              "    .dataframe thead th {\n",
              "        text-align: right;\n",
              "    }\n",
              "</style>\n",
              "<table border=\"1\" class=\"dataframe\">\n",
              "  <thead>\n",
              "    <tr style=\"text-align: right;\">\n",
              "      <th></th>\n",
              "      <th>TRIP_ID</th>\n",
              "      <th>CALL_TYPE</th>\n",
              "      <th>ORIGIN_CALL</th>\n",
              "      <th>ORIGIN_STAND</th>\n",
              "      <th>TAXI_ID</th>\n",
              "      <th>TIMESTAMP</th>\n",
              "      <th>MISSING_DATA</th>\n",
              "      <th>POLYLINE</th>\n",
              "    </tr>\n",
              "  </thead>\n",
              "  <tbody>\n",
              "    <tr>\n",
              "      <th>577</th>\n",
              "      <td>1372636853620000380</td>\n",
              "      <td>C</td>\n",
              "      <td>NaN</td>\n",
              "      <td>NaN</td>\n",
              "      <td>20000380</td>\n",
              "      <td>1372636853</td>\n",
              "      <td>False</td>\n",
              "      <td>[[-8.610291,41.140746],[-8.6103,41.140755],[-8...</td>\n",
              "    </tr>\n",
              "    <tr>\n",
              "      <th>3</th>\n",
              "      <td>1372636854620000520</td>\n",
              "      <td>C</td>\n",
              "      <td>NaN</td>\n",
              "      <td>NaN</td>\n",
              "      <td>20000520</td>\n",
              "      <td>1372636854</td>\n",
              "      <td>False</td>\n",
              "      <td>[[-8.574678,41.151951],[-8.574705,41.151942],[...</td>\n",
              "    </tr>\n",
              "    <tr>\n",
              "      <th>0</th>\n",
              "      <td>1372636858620000589</td>\n",
              "      <td>C</td>\n",
              "      <td>NaN</td>\n",
              "      <td>NaN</td>\n",
              "      <td>20000589</td>\n",
              "      <td>1372636858</td>\n",
              "      <td>False</td>\n",
              "      <td>[[-8.618643,41.141412],[-8.618499,41.141376],[...</td>\n",
              "    </tr>\n",
              "    <tr>\n",
              "      <th>10</th>\n",
              "      <td>1372636875620000233</td>\n",
              "      <td>C</td>\n",
              "      <td>NaN</td>\n",
              "      <td>NaN</td>\n",
              "      <td>20000233</td>\n",
              "      <td>1372636875</td>\n",
              "      <td>False</td>\n",
              "      <td>[[-8.619894,41.148009],[-8.620164,41.14773],[-...</td>\n",
              "    </tr>\n",
              "    <tr>\n",
              "      <th>64</th>\n",
              "      <td>1372636896620000360</td>\n",
              "      <td>C</td>\n",
              "      <td>NaN</td>\n",
              "      <td>NaN</td>\n",
              "      <td>20000360</td>\n",
              "      <td>1372636896</td>\n",
              "      <td>False</td>\n",
              "      <td>[[-8.617599,41.146137],[-8.617581,41.14593],[-...</td>\n",
              "    </tr>\n",
              "  </tbody>\n",
              "</table>\n",
              "</div>"
            ],
            "text/plain": [
              "                 TRIP_ID  ...                                           POLYLINE\n",
              "577  1372636853620000380  ...  [[-8.610291,41.140746],[-8.6103,41.140755],[-8...\n",
              "3    1372636854620000520  ...  [[-8.574678,41.151951],[-8.574705,41.151942],[...\n",
              "0    1372636858620000589  ...  [[-8.618643,41.141412],[-8.618499,41.141376],[...\n",
              "10   1372636875620000233  ...  [[-8.619894,41.148009],[-8.620164,41.14773],[-...\n",
              "64   1372636896620000360  ...  [[-8.617599,41.146137],[-8.617581,41.14593],[-...\n",
              "\n",
              "[5 rows x 8 columns]"
            ]
          },
          "metadata": {},
          "execution_count": 37
        }
      ]
    },
    {
      "cell_type": "code",
      "metadata": {
        "id": "DX_qrbspU0Ic"
      },
      "source": [
        "import datetime\n",
        "data['year'] = data['TIMESTAMP'].apply(lambda x :datetime.datetime.fromtimestamp(x).year) \n",
        "data['month'] = data['TIMESTAMP'].apply(lambda x :datetime.datetime.fromtimestamp(x).month) \n",
        "data['month_day'] = data['TIMESTAMP'].apply(lambda x :datetime.datetime.fromtimestamp(x).day) \n",
        "data['hour'] = data['TIMESTAMP'].apply(lambda x :datetime.datetime.fromtimestamp(x).hour) \n",
        "data['week_day'] = data['TIMESTAMP'].apply(lambda x :datetime.datetime.fromtimestamp(x).weekday()) "
      ],
      "execution_count": 39,
      "outputs": []
    },
    {
      "cell_type": "code",
      "metadata": {
        "colab": {
          "base_uri": "https://localhost:8080/"
        },
        "id": "7KKdVxBfkzZo",
        "outputId": "5e8d5022-0db4-44ca-d8da-6ace8417d826"
      },
      "source": [
        "data.info()"
      ],
      "execution_count": 88,
      "outputs": [
        {
          "output_type": "stream",
          "name": "stdout",
          "text": [
            "<class 'pandas.core.frame.DataFrame'>\n",
            "Int64Index: 1710670 entries, 577 to 1710310\n",
            "Data columns (total 13 columns):\n",
            " #   Column        Dtype  \n",
            "---  ------        -----  \n",
            " 0   TRIP_ID       int64  \n",
            " 1   CALL_TYPE     object \n",
            " 2   ORIGIN_CALL   float64\n",
            " 3   ORIGIN_STAND  float64\n",
            " 4   TAXI_ID       int64  \n",
            " 5   TIMESTAMP     int64  \n",
            " 6   MISSING_DATA  bool   \n",
            " 7   POLYLINE      object \n",
            " 8   year          int64  \n",
            " 9   month         int64  \n",
            " 10  month_day     int64  \n",
            " 11  hour          int64  \n",
            " 12  week_day      int64  \n",
            "dtypes: bool(1), float64(2), int64(8), object(2)\n",
            "memory usage: 171.3+ MB\n"
          ]
        }
      ]
    },
    {
      "cell_type": "code",
      "metadata": {
        "colab": {
          "base_uri": "https://localhost:8080/",
          "height": 206
        },
        "id": "UOXbPVoBVf6m",
        "outputId": "7f84060c-359c-4370-b306-2cd00ee5b89e"
      },
      "source": [
        "data.head()"
      ],
      "execution_count": 40,
      "outputs": [
        {
          "output_type": "execute_result",
          "data": {
            "text/html": [
              "<div>\n",
              "<style scoped>\n",
              "    .dataframe tbody tr th:only-of-type {\n",
              "        vertical-align: middle;\n",
              "    }\n",
              "\n",
              "    .dataframe tbody tr th {\n",
              "        vertical-align: top;\n",
              "    }\n",
              "\n",
              "    .dataframe thead th {\n",
              "        text-align: right;\n",
              "    }\n",
              "</style>\n",
              "<table border=\"1\" class=\"dataframe\">\n",
              "  <thead>\n",
              "    <tr style=\"text-align: right;\">\n",
              "      <th></th>\n",
              "      <th>TRIP_ID</th>\n",
              "      <th>CALL_TYPE</th>\n",
              "      <th>ORIGIN_CALL</th>\n",
              "      <th>ORIGIN_STAND</th>\n",
              "      <th>TAXI_ID</th>\n",
              "      <th>TIMESTAMP</th>\n",
              "      <th>MISSING_DATA</th>\n",
              "      <th>POLYLINE</th>\n",
              "      <th>year</th>\n",
              "      <th>month</th>\n",
              "      <th>month_day</th>\n",
              "      <th>hour</th>\n",
              "      <th>week_day</th>\n",
              "    </tr>\n",
              "  </thead>\n",
              "  <tbody>\n",
              "    <tr>\n",
              "      <th>577</th>\n",
              "      <td>1372636853620000380</td>\n",
              "      <td>C</td>\n",
              "      <td>NaN</td>\n",
              "      <td>NaN</td>\n",
              "      <td>20000380</td>\n",
              "      <td>1372636853</td>\n",
              "      <td>False</td>\n",
              "      <td>[[-8.610291,41.140746],[-8.6103,41.140755],[-8...</td>\n",
              "      <td>2013</td>\n",
              "      <td>7</td>\n",
              "      <td>1</td>\n",
              "      <td>0</td>\n",
              "      <td>0</td>\n",
              "    </tr>\n",
              "    <tr>\n",
              "      <th>3</th>\n",
              "      <td>1372636854620000520</td>\n",
              "      <td>C</td>\n",
              "      <td>NaN</td>\n",
              "      <td>NaN</td>\n",
              "      <td>20000520</td>\n",
              "      <td>1372636854</td>\n",
              "      <td>False</td>\n",
              "      <td>[[-8.574678,41.151951],[-8.574705,41.151942],[...</td>\n",
              "      <td>2013</td>\n",
              "      <td>7</td>\n",
              "      <td>1</td>\n",
              "      <td>0</td>\n",
              "      <td>0</td>\n",
              "    </tr>\n",
              "    <tr>\n",
              "      <th>0</th>\n",
              "      <td>1372636858620000589</td>\n",
              "      <td>C</td>\n",
              "      <td>NaN</td>\n",
              "      <td>NaN</td>\n",
              "      <td>20000589</td>\n",
              "      <td>1372636858</td>\n",
              "      <td>False</td>\n",
              "      <td>[[-8.618643,41.141412],[-8.618499,41.141376],[...</td>\n",
              "      <td>2013</td>\n",
              "      <td>7</td>\n",
              "      <td>1</td>\n",
              "      <td>0</td>\n",
              "      <td>0</td>\n",
              "    </tr>\n",
              "    <tr>\n",
              "      <th>10</th>\n",
              "      <td>1372636875620000233</td>\n",
              "      <td>C</td>\n",
              "      <td>NaN</td>\n",
              "      <td>NaN</td>\n",
              "      <td>20000233</td>\n",
              "      <td>1372636875</td>\n",
              "      <td>False</td>\n",
              "      <td>[[-8.619894,41.148009],[-8.620164,41.14773],[-...</td>\n",
              "      <td>2013</td>\n",
              "      <td>7</td>\n",
              "      <td>1</td>\n",
              "      <td>0</td>\n",
              "      <td>0</td>\n",
              "    </tr>\n",
              "    <tr>\n",
              "      <th>64</th>\n",
              "      <td>1372636896620000360</td>\n",
              "      <td>C</td>\n",
              "      <td>NaN</td>\n",
              "      <td>NaN</td>\n",
              "      <td>20000360</td>\n",
              "      <td>1372636896</td>\n",
              "      <td>False</td>\n",
              "      <td>[[-8.617599,41.146137],[-8.617581,41.14593],[-...</td>\n",
              "      <td>2013</td>\n",
              "      <td>7</td>\n",
              "      <td>1</td>\n",
              "      <td>0</td>\n",
              "      <td>0</td>\n",
              "    </tr>\n",
              "  </tbody>\n",
              "</table>\n",
              "</div>"
            ],
            "text/plain": [
              "                 TRIP_ID CALL_TYPE  ORIGIN_CALL  ...  month_day  hour  week_day\n",
              "577  1372636853620000380         C          NaN  ...          1     0         0\n",
              "3    1372636854620000520         C          NaN  ...          1     0         0\n",
              "0    1372636858620000589         C          NaN  ...          1     0         0\n",
              "10   1372636875620000233         C          NaN  ...          1     0         0\n",
              "64   1372636896620000360         C          NaN  ...          1     0         0\n",
              "\n",
              "[5 rows x 13 columns]"
            ]
          },
          "metadata": {},
          "execution_count": 40
        }
      ]
    },
    {
      "cell_type": "code",
      "metadata": {
        "colab": {
          "base_uri": "https://localhost:8080/"
        },
        "id": "MkHczxRDk8h8",
        "outputId": "25fd91d3-be01-43f5-e5e6-2cf0b37cd707"
      },
      "source": [
        "print(data['year'].value_counts())"
      ],
      "execution_count": 41,
      "outputs": [
        {
          "output_type": "stream",
          "name": "stdout",
          "text": [
            "2013    858691\n",
            "2014    851979\n",
            "Name: year, dtype: int64\n"
          ]
        }
      ]
    },
    {
      "cell_type": "markdown",
      "metadata": {
        "id": "3HiF20h8lqbP"
      },
      "source": [
        "year column have only two unique values and count of each distinct value is nearly equal"
      ]
    },
    {
      "cell_type": "code",
      "metadata": {
        "colab": {
          "base_uri": "https://localhost:8080/"
        },
        "id": "d0tbJEZqmTe6",
        "outputId": "5aafeb59-3bf5-4230-c4c5-eb9ade9ae2e6"
      },
      "source": [
        "print(data['week_day'].value_counts())"
      ],
      "execution_count": 42,
      "outputs": [
        {
          "output_type": "stream",
          "name": "stdout",
          "text": [
            "4    277313\n",
            "5    258636\n",
            "3    247025\n",
            "1    234734\n",
            "2    232617\n",
            "6    230397\n",
            "0    229948\n",
            "Name: week_day, dtype: int64\n"
          ]
        }
      ]
    },
    {
      "cell_type": "markdown",
      "metadata": {
        "id": "qoow4mz8maiR"
      },
      "source": [
        "The data is uniformly provided for all the 7 days of wek"
      ]
    },
    {
      "cell_type": "code",
      "metadata": {
        "colab": {
          "base_uri": "https://localhost:8080/",
          "height": 367
        },
        "id": "ERBN19ZJVoxF",
        "outputId": "8d12867b-f9ba-43e4-fba4-83b3dafffd45"
      },
      "source": [
        "plt.figure(figsize = (5,5))\n",
        "plt.title('no of trips per day')\n",
        "sns.countplot(x = 'week_day', data = data)\n",
        "plt.xlabel('Day')\n",
        "plt.ylabel('count')"
      ],
      "execution_count": 43,
      "outputs": [
        {
          "output_type": "execute_result",
          "data": {
            "text/plain": [
              "Text(0, 0.5, 'count')"
            ]
          },
          "metadata": {},
          "execution_count": 43
        },
        {
          "output_type": "display_data",
          "data": {
            "image/png": "[encoded data removed]",
            "text/plain": [
              "<Figure size 360x360 with 1 Axes>"
            ]
          },
          "metadata": {
            "needs_background": "light"
          }
        }
      ]
    },
    {
      "cell_type": "markdown",
      "metadata": {
        "id": "MKi_53Bvn6Qn"
      },
      "source": [
        "Similarly it is verified for month and hour column"
      ]
    },
    {
      "cell_type": "code",
      "metadata": {
        "colab": {
          "base_uri": "https://localhost:8080/",
          "height": 367
        },
        "id": "P54ao4W6ZWFO",
        "outputId": "377b5325-7d78-4342-d78c-a0bd99d4b5f8"
      },
      "source": [
        "plt.figure(figsize = (5,5))\n",
        "plt.title('no of trips per month')\n",
        "sns.countplot(x = 'month', data = data)\n",
        "plt.xlabel('Month')\n",
        "plt.ylabel('count')"
      ],
      "execution_count": 44,
      "outputs": [
        {
          "output_type": "execute_result",
          "data": {
            "text/plain": [
              "Text(0, 0.5, 'count')"
            ]
          },
          "metadata": {},
          "execution_count": 44
        },
        {
          "output_type": "display_data",
          "data": {
            "image/png": "[encoded data removed]",
            "text/plain": [
              "<Figure size 360x360 with 1 Axes>"
            ]
          },
          "metadata": {
            "needs_background": "light"
          }
        }
      ]
    },
    {
      "cell_type": "code",
      "metadata": {
        "colab": {
          "base_uri": "https://localhost:8080/",
          "height": 638
        },
        "id": "aBcBK7vEaFxP",
        "outputId": "672dcf16-0748-4fe3-c17c-24e3a5345621"
      },
      "source": [
        "plt.figure(figsize = (10,10))\n",
        "plt.title('no of trips per daHoury')\n",
        "sns.countplot(x = 'hour', data = data)\n",
        "plt.xlabel('Hour')\n",
        "plt.ylabel('count')"
      ],
      "execution_count": 45,
      "outputs": [
        {
          "output_type": "execute_result",
          "data": {
            "text/plain": [
              "Text(0, 0.5, 'count')"
            ]
          },
          "metadata": {},
          "execution_count": 45
        },
        {
          "output_type": "display_data",
          "data": {
            "image/png": "[encoded data removed]",
            "text/plain": [
              "<Figure size 720x720 with 1 Axes>"
            ]
          },
          "metadata": {
            "needs_background": "light"
          }
        }
      ]
    },
    {
      "cell_type": "markdown",
      "metadata": {
        "id": "AT8EGJuBoRl8"
      },
      "source": [
        "The number of taxi trips are more during the office hours "
      ]
    },
    {
      "cell_type": "code",
      "metadata": {
        "colab": {
          "base_uri": "https://localhost:8080/"
        },
        "id": "YFXwxjKJobt0",
        "outputId": "af0be3ed-1425-4f8f-de7e-933ea73de340"
      },
      "source": [
        "print(data['MISSING_DATA'].value_counts())"
      ],
      "execution_count": 46,
      "outputs": [
        {
          "output_type": "stream",
          "name": "stdout",
          "text": [
            "False    1710660\n",
            "True          10\n",
            "Name: MISSING_DATA, dtype: int64\n"
          ]
        }
      ]
    },
    {
      "cell_type": "markdown",
      "metadata": {
        "id": "3oObEJlOo2OE"
      },
      "source": [
        "We have only 10 rows with missing data. Dopping all the rows with vaue 'True' in column 'MISSING_DATA'"
      ]
    },
    {
      "cell_type": "code",
      "metadata": {
        "id": "b8Gt2PmyasFC"
      },
      "source": [
        "data.drop(data[data['MISSING_DATA'] == True].index, inplace = True)"
      ],
      "execution_count": 47,
      "outputs": []
    },
    {
      "cell_type": "code",
      "metadata": {
        "colab": {
          "base_uri": "https://localhost:8080/"
        },
        "id": "hHrk1Ql5a0kd",
        "outputId": "293a5dcb-e0df-49ed-a4ec-054539257550"
      },
      "source": [
        "data['MISSING_DATA'].unique()"
      ],
      "execution_count": 48,
      "outputs": [
        {
          "output_type": "execute_result",
          "data": {
            "text/plain": [
              "array([False])"
            ]
          },
          "metadata": {},
          "execution_count": 48
        }
      ]
    },
    {
      "cell_type": "markdown",
      "metadata": {
        "id": "8jGKGT__p-nE"
      },
      "source": [
        "After dropping the rows with missing data, the column 'MISSING_DATA' have only value 'False'. So dopping the column as it has only one unique value for the whole data set."
      ]
    },
    {
      "cell_type": "code",
      "metadata": {
        "id": "dWBsubRTa6AN"
      },
      "source": [
        "data.drop('MISSING_DATA', inplace=True, axis=1)"
      ],
      "execution_count": 49,
      "outputs": []
    },
    {
      "cell_type": "code",
      "metadata": {
        "colab": {
          "base_uri": "https://localhost:8080/",
          "height": 206
        },
        "id": "Z1_LHj8DbFX2",
        "outputId": "98f2cb57-0f3d-4ab9-d7ed-df9e919d727a"
      },
      "source": [
        "data.head(5)"
      ],
      "execution_count": 50,
      "outputs": [
        {
          "output_type": "execute_result",
          "data": {
            "text/html": [
              "<div>\n",
              "<style scoped>\n",
              "    .dataframe tbody tr th:only-of-type {\n",
              "        vertical-align: middle;\n",
              "    }\n",
              "\n",
              "    .dataframe tbody tr th {\n",
              "        vertical-align: top;\n",
              "    }\n",
              "\n",
              "    .dataframe thead th {\n",
              "        text-align: right;\n",
              "    }\n",
              "</style>\n",
              "<table border=\"1\" class=\"dataframe\">\n",
              "  <thead>\n",
              "    <tr style=\"text-align: right;\">\n",
              "      <th></th>\n",
              "      <th>TRIP_ID</th>\n",
              "      <th>CALL_TYPE</th>\n",
              "      <th>ORIGIN_CALL</th>\n",
              "      <th>ORIGIN_STAND</th>\n",
              "      <th>TAXI_ID</th>\n",
              "      <th>TIMESTAMP</th>\n",
              "      <th>POLYLINE</th>\n",
              "      <th>year</th>\n",
              "      <th>month</th>\n",
              "      <th>month_day</th>\n",
              "      <th>hour</th>\n",
              "      <th>week_day</th>\n",
              "    </tr>\n",
              "  </thead>\n",
              "  <tbody>\n",
              "    <tr>\n",
              "      <th>577</th>\n",
              "      <td>1372636853620000380</td>\n",
              "      <td>C</td>\n",
              "      <td>NaN</td>\n",
              "      <td>NaN</td>\n",
              "      <td>20000380</td>\n",
              "      <td>1372636853</td>\n",
              "      <td>[[-8.610291,41.140746],[-8.6103,41.140755],[-8...</td>\n",
              "      <td>2013</td>\n",
              "      <td>7</td>\n",
              "      <td>1</td>\n",
              "      <td>0</td>\n",
              "      <td>0</td>\n",
              "    </tr>\n",
              "    <tr>\n",
              "      <th>3</th>\n",
              "      <td>1372636854620000520</td>\n",
              "      <td>C</td>\n",
              "      <td>NaN</td>\n",
              "      <td>NaN</td>\n",
              "      <td>20000520</td>\n",
              "      <td>1372636854</td>\n",
              "      <td>[[-8.574678,41.151951],[-8.574705,41.151942],[...</td>\n",
              "      <td>2013</td>\n",
              "      <td>7</td>\n",
              "      <td>1</td>\n",
              "      <td>0</td>\n",
              "      <td>0</td>\n",
              "    </tr>\n",
              "    <tr>\n",
              "      <th>0</th>\n",
              "      <td>1372636858620000589</td>\n",
              "      <td>C</td>\n",
              "      <td>NaN</td>\n",
              "      <td>NaN</td>\n",
              "      <td>20000589</td>\n",
              "      <td>1372636858</td>\n",
              "      <td>[[-8.618643,41.141412],[-8.618499,41.141376],[...</td>\n",
              "      <td>2013</td>\n",
              "      <td>7</td>\n",
              "      <td>1</td>\n",
              "      <td>0</td>\n",
              "      <td>0</td>\n",
              "    </tr>\n",
              "    <tr>\n",
              "      <th>10</th>\n",
              "      <td>1372636875620000233</td>\n",
              "      <td>C</td>\n",
              "      <td>NaN</td>\n",
              "      <td>NaN</td>\n",
              "      <td>20000233</td>\n",
              "      <td>1372636875</td>\n",
              "      <td>[[-8.619894,41.148009],[-8.620164,41.14773],[-...</td>\n",
              "      <td>2013</td>\n",
              "      <td>7</td>\n",
              "      <td>1</td>\n",
              "      <td>0</td>\n",
              "      <td>0</td>\n",
              "    </tr>\n",
              "    <tr>\n",
              "      <th>64</th>\n",
              "      <td>1372636896620000360</td>\n",
              "      <td>C</td>\n",
              "      <td>NaN</td>\n",
              "      <td>NaN</td>\n",
              "      <td>20000360</td>\n",
              "      <td>1372636896</td>\n",
              "      <td>[[-8.617599,41.146137],[-8.617581,41.14593],[-...</td>\n",
              "      <td>2013</td>\n",
              "      <td>7</td>\n",
              "      <td>1</td>\n",
              "      <td>0</td>\n",
              "      <td>0</td>\n",
              "    </tr>\n",
              "  </tbody>\n",
              "</table>\n",
              "</div>"
            ],
            "text/plain": [
              "                 TRIP_ID CALL_TYPE  ORIGIN_CALL  ...  month_day  hour  week_day\n",
              "577  1372636853620000380         C          NaN  ...          1     0         0\n",
              "3    1372636854620000520         C          NaN  ...          1     0         0\n",
              "0    1372636858620000589         C          NaN  ...          1     0         0\n",
              "10   1372636875620000233         C          NaN  ...          1     0         0\n",
              "64   1372636896620000360         C          NaN  ...          1     0         0\n",
              "\n",
              "[5 rows x 12 columns]"
            ]
          },
          "metadata": {},
          "execution_count": 50
        }
      ]
    },
    {
      "cell_type": "code",
      "metadata": {
        "colab": {
          "base_uri": "https://localhost:8080/"
        },
        "id": "LM8lPpl4bIYu",
        "outputId": "e0960a0d-d9b5-4b1e-cdfa-0fbc87990c5e"
      },
      "source": [
        "data[data['POLYLINE'] =='[]']['POLYLINE'].value_counts()"
      ],
      "execution_count": 51,
      "outputs": [
        {
          "output_type": "execute_result",
          "data": {
            "text/plain": [
              "[]    5901\n",
              "Name: POLYLINE, dtype: int64"
            ]
          },
          "metadata": {},
          "execution_count": 51
        }
      ]
    },
    {
      "cell_type": "markdown",
      "metadata": {
        "id": "seTRXfO0qxTe"
      },
      "source": [
        "The data points are missing in the column 'POLYLINE'. removing all the rows with some mising data."
      ]
    },
    {
      "cell_type": "code",
      "metadata": {
        "id": "3bZ2ZpbvbOqG"
      },
      "source": [
        "data.drop(data[data['POLYLINE'] == '[]']['POLYLINE'].index,inplace=True)"
      ],
      "execution_count": 52,
      "outputs": []
    },
    {
      "cell_type": "code",
      "metadata": {
        "colab": {
          "base_uri": "https://localhost:8080/"
        },
        "id": "GenQ2A08bw5X",
        "outputId": "0bac6a65-55f2-4d06-fd57-ed92079b831a"
      },
      "source": [
        "data[data['POLYLINE']=='[]']['POLYLINE'].value_counts()"
      ],
      "execution_count": 53,
      "outputs": [
        {
          "output_type": "execute_result",
          "data": {
            "text/plain": [
              "Series([], Name: POLYLINE, dtype: int64)"
            ]
          },
          "metadata": {},
          "execution_count": 53
        }
      ]
    },
    {
      "cell_type": "code",
      "metadata": {
        "colab": {
          "base_uri": "https://localhost:8080/"
        },
        "id": "J0cz9ap9rTRd",
        "outputId": "b5dca4ce-5907-4ba7-b700-50e89a88d86e"
      },
      "source": [
        "data.shape"
      ],
      "execution_count": 54,
      "outputs": [
        {
          "output_type": "execute_result",
          "data": {
            "text/plain": [
              "(1704759, 12)"
            ]
          },
          "metadata": {},
          "execution_count": 54
        }
      ]
    },
    {
      "cell_type": "code",
      "metadata": {
        "id": "9-70OVQ5cVFd"
      },
      "source": [
        "data['Polyline Length'] = data['POLYLINE'].apply(lambda x: len(eval(x))-1)"
      ],
      "execution_count": 55,
      "outputs": []
    },
    {
      "cell_type": "code",
      "metadata": {
        "colab": {
          "base_uri": "https://localhost:8080/",
          "height": 206
        },
        "id": "lDOL2pLYdUQ3",
        "outputId": "c6bf56d5-8cac-4d46-dcbd-342c027e572b"
      },
      "source": [
        "data.head(5)"
      ],
      "execution_count": 105,
      "outputs": [
        {
          "output_type": "execute_result",
          "data": {
            "text/html": [
              "<div>\n",
              "<style scoped>\n",
              "    .dataframe tbody tr th:only-of-type {\n",
              "        vertical-align: middle;\n",
              "    }\n",
              "\n",
              "    .dataframe tbody tr th {\n",
              "        vertical-align: top;\n",
              "    }\n",
              "\n",
              "    .dataframe thead th {\n",
              "        text-align: right;\n",
              "    }\n",
              "</style>\n",
              "<table border=\"1\" class=\"dataframe\">\n",
              "  <thead>\n",
              "    <tr style=\"text-align: right;\">\n",
              "      <th></th>\n",
              "      <th>TRIP_ID</th>\n",
              "      <th>CALL_TYPE</th>\n",
              "      <th>ORIGIN_CALL</th>\n",
              "      <th>ORIGIN_STAND</th>\n",
              "      <th>TAXI_ID</th>\n",
              "      <th>TIMESTAMP</th>\n",
              "      <th>POLYLINE</th>\n",
              "      <th>year</th>\n",
              "      <th>month</th>\n",
              "      <th>month_day</th>\n",
              "      <th>hour</th>\n",
              "      <th>week_day</th>\n",
              "      <th>Polyline Length</th>\n",
              "    </tr>\n",
              "  </thead>\n",
              "  <tbody>\n",
              "    <tr>\n",
              "      <th>577</th>\n",
              "      <td>1372636853620000380</td>\n",
              "      <td>C</td>\n",
              "      <td>NaN</td>\n",
              "      <td>NaN</td>\n",
              "      <td>20000380</td>\n",
              "      <td>1372636853</td>\n",
              "      <td>[[-8.610291,41.140746],[-8.6103,41.140755],[-8...</td>\n",
              "      <td>2013</td>\n",
              "      <td>7</td>\n",
              "      <td>1</td>\n",
              "      <td>0</td>\n",
              "      <td>0</td>\n",
              "      <td>24</td>\n",
              "    </tr>\n",
              "    <tr>\n",
              "      <th>3</th>\n",
              "      <td>1372636854620000520</td>\n",
              "      <td>C</td>\n",
              "      <td>NaN</td>\n",
              "      <td>NaN</td>\n",
              "      <td>20000520</td>\n",
              "      <td>1372636854</td>\n",
              "      <td>[[-8.574678,41.151951],[-8.574705,41.151942],[...</td>\n",
              "      <td>2013</td>\n",
              "      <td>7</td>\n",
              "      <td>1</td>\n",
              "      <td>0</td>\n",
              "      <td>0</td>\n",
              "      <td>42</td>\n",
              "    </tr>\n",
              "    <tr>\n",
              "      <th>0</th>\n",
              "      <td>1372636858620000589</td>\n",
              "      <td>C</td>\n",
              "      <td>NaN</td>\n",
              "      <td>NaN</td>\n",
              "      <td>20000589</td>\n",
              "      <td>1372636858</td>\n",
              "      <td>[[-8.618643,41.141412],[-8.618499,41.141376],[...</td>\n",
              "      <td>2013</td>\n",
              "      <td>7</td>\n",
              "      <td>1</td>\n",
              "      <td>0</td>\n",
              "      <td>0</td>\n",
              "      <td>22</td>\n",
              "    </tr>\n",
              "    <tr>\n",
              "      <th>10</th>\n",
              "      <td>1372636875620000233</td>\n",
              "      <td>C</td>\n",
              "      <td>NaN</td>\n",
              "      <td>NaN</td>\n",
              "      <td>20000233</td>\n",
              "      <td>1372636875</td>\n",
              "      <td>[[-8.619894,41.148009],[-8.620164,41.14773],[-...</td>\n",
              "      <td>2013</td>\n",
              "      <td>7</td>\n",
              "      <td>1</td>\n",
              "      <td>0</td>\n",
              "      <td>0</td>\n",
              "      <td>21</td>\n",
              "    </tr>\n",
              "    <tr>\n",
              "      <th>64</th>\n",
              "      <td>1372636896620000360</td>\n",
              "      <td>C</td>\n",
              "      <td>NaN</td>\n",
              "      <td>NaN</td>\n",
              "      <td>20000360</td>\n",
              "      <td>1372636896</td>\n",
              "      <td>[[-8.617599,41.146137],[-8.617581,41.14593],[-...</td>\n",
              "      <td>2013</td>\n",
              "      <td>7</td>\n",
              "      <td>1</td>\n",
              "      <td>0</td>\n",
              "      <td>0</td>\n",
              "      <td>42</td>\n",
              "    </tr>\n",
              "  </tbody>\n",
              "</table>\n",
              "</div>"
            ],
            "text/plain": [
              "                 TRIP_ID CALL_TYPE  ...  week_day  Polyline Length\n",
              "577  1372636853620000380         C  ...         0               24\n",
              "3    1372636854620000520         C  ...         0               42\n",
              "0    1372636858620000589         C  ...         0               22\n",
              "10   1372636875620000233         C  ...         0               21\n",
              "64   1372636896620000360         C  ...         0               42\n",
              "\n",
              "[5 rows x 13 columns]"
            ]
          },
          "metadata": {},
          "execution_count": 105
        }
      ]
    },
    {
      "cell_type": "markdown",
      "metadata": {
        "id": "ORJP4V5T651D"
      },
      "source": [
        "Converting 'POLYLINE' to travel time. FORMULA = (number of points-1)* 15 (in sec)"
      ]
    },
    {
      "cell_type": "code",
      "metadata": {
        "id": "6R5eNRLOddjc"
      },
      "source": [
        "data['Trip time in sec'] = data['Polyline Length'].apply(lambda x: x*15)"
      ],
      "execution_count": 56,
      "outputs": []
    },
    {
      "cell_type": "code",
      "metadata": {
        "colab": {
          "base_uri": "https://localhost:8080/",
          "height": 206
        },
        "id": "sXyRNHladx3G",
        "outputId": "7c585fdd-a795-495e-a1ab-61922a6f08c5"
      },
      "source": [
        "data.head(5)"
      ],
      "execution_count": 57,
      "outputs": [
        {
          "output_type": "execute_result",
          "data": {
            "text/html": [
              "<div>\n",
              "<style scoped>\n",
              "    .dataframe tbody tr th:only-of-type {\n",
              "        vertical-align: middle;\n",
              "    }\n",
              "\n",
              "    .dataframe tbody tr th {\n",
              "        vertical-align: top;\n",
              "    }\n",
              "\n",
              "    .dataframe thead th {\n",
              "        text-align: right;\n",
              "    }\n",
              "</style>\n",
              "<table border=\"1\" class=\"dataframe\">\n",
              "  <thead>\n",
              "    <tr style=\"text-align: right;\">\n",
              "      <th></th>\n",
              "      <th>TRIP_ID</th>\n",
              "      <th>CALL_TYPE</th>\n",
              "      <th>ORIGIN_CALL</th>\n",
              "      <th>ORIGIN_STAND</th>\n",
              "      <th>TAXI_ID</th>\n",
              "      <th>TIMESTAMP</th>\n",
              "      <th>POLYLINE</th>\n",
              "      <th>year</th>\n",
              "      <th>month</th>\n",
              "      <th>month_day</th>\n",
              "      <th>hour</th>\n",
              "      <th>week_day</th>\n",
              "      <th>Polyline Length</th>\n",
              "      <th>Trip time in sec</th>\n",
              "    </tr>\n",
              "  </thead>\n",
              "  <tbody>\n",
              "    <tr>\n",
              "      <th>577</th>\n",
              "      <td>1372636853620000380</td>\n",
              "      <td>C</td>\n",
              "      <td>NaN</td>\n",
              "      <td>NaN</td>\n",
              "      <td>20000380</td>\n",
              "      <td>1372636853</td>\n",
              "      <td>[[-8.610291,41.140746],[-8.6103,41.140755],[-8...</td>\n",
              "      <td>2013</td>\n",
              "      <td>7</td>\n",
              "      <td>1</td>\n",
              "      <td>0</td>\n",
              "      <td>0</td>\n",
              "      <td>24</td>\n",
              "      <td>360</td>\n",
              "    </tr>\n",
              "    <tr>\n",
              "      <th>3</th>\n",
              "      <td>1372636854620000520</td>\n",
              "      <td>C</td>\n",
              "      <td>NaN</td>\n",
              "      <td>NaN</td>\n",
              "      <td>20000520</td>\n",
              "      <td>1372636854</td>\n",
              "      <td>[[-8.574678,41.151951],[-8.574705,41.151942],[...</td>\n",
              "      <td>2013</td>\n",
              "      <td>7</td>\n",
              "      <td>1</td>\n",
              "      <td>0</td>\n",
              "      <td>0</td>\n",
              "      <td>42</td>\n",
              "      <td>630</td>\n",
              "    </tr>\n",
              "    <tr>\n",
              "      <th>0</th>\n",
              "      <td>1372636858620000589</td>\n",
              "      <td>C</td>\n",
              "      <td>NaN</td>\n",
              "      <td>NaN</td>\n",
              "      <td>20000589</td>\n",
              "      <td>1372636858</td>\n",
              "      <td>[[-8.618643,41.141412],[-8.618499,41.141376],[...</td>\n",
              "      <td>2013</td>\n",
              "      <td>7</td>\n",
              "      <td>1</td>\n",
              "      <td>0</td>\n",
              "      <td>0</td>\n",
              "      <td>22</td>\n",
              "      <td>330</td>\n",
              "    </tr>\n",
              "    <tr>\n",
              "      <th>10</th>\n",
              "      <td>1372636875620000233</td>\n",
              "      <td>C</td>\n",
              "      <td>NaN</td>\n",
              "      <td>NaN</td>\n",
              "      <td>20000233</td>\n",
              "      <td>1372636875</td>\n",
              "      <td>[[-8.619894,41.148009],[-8.620164,41.14773],[-...</td>\n",
              "      <td>2013</td>\n",
              "      <td>7</td>\n",
              "      <td>1</td>\n",
              "      <td>0</td>\n",
              "      <td>0</td>\n",
              "      <td>21</td>\n",
              "      <td>315</td>\n",
              "    </tr>\n",
              "    <tr>\n",
              "      <th>64</th>\n",
              "      <td>1372636896620000360</td>\n",
              "      <td>C</td>\n",
              "      <td>NaN</td>\n",
              "      <td>NaN</td>\n",
              "      <td>20000360</td>\n",
              "      <td>1372636896</td>\n",
              "      <td>[[-8.617599,41.146137],[-8.617581,41.14593],[-...</td>\n",
              "      <td>2013</td>\n",
              "      <td>7</td>\n",
              "      <td>1</td>\n",
              "      <td>0</td>\n",
              "      <td>0</td>\n",
              "      <td>42</td>\n",
              "      <td>630</td>\n",
              "    </tr>\n",
              "  </tbody>\n",
              "</table>\n",
              "</div>"
            ],
            "text/plain": [
              "                 TRIP_ID CALL_TYPE  ...  Polyline Length  Trip time in sec\n",
              "577  1372636853620000380         C  ...               24               360\n",
              "3    1372636854620000520         C  ...               42               630\n",
              "0    1372636858620000589         C  ...               22               330\n",
              "10   1372636875620000233         C  ...               21               315\n",
              "64   1372636896620000360         C  ...               42               630\n",
              "\n",
              "[5 rows x 14 columns]"
            ]
          },
          "metadata": {},
          "execution_count": 57
        }
      ]
    },
    {
      "cell_type": "code",
      "metadata": {
        "colab": {
          "base_uri": "https://localhost:8080/"
        },
        "id": "9aNAyc8Ld11F",
        "outputId": "575a3a4d-7c17-44c4-845d-fcf8aabf6041"
      },
      "source": [
        "data['Trip time in sec'].describe()"
      ],
      "execution_count": 58,
      "outputs": [
        {
          "output_type": "execute_result",
          "data": {
            "text/plain": [
              "count    1.704759e+06\n",
              "mean     7.189021e+02\n",
              "std      6.846122e+02\n",
              "min      0.000000e+00\n",
              "25%      4.050000e+02\n",
              "50%      6.000000e+02\n",
              "75%      8.700000e+02\n",
              "max      5.820000e+04\n",
              "Name: Trip time in sec, dtype: float64"
            ]
          },
          "metadata": {},
          "execution_count": 58
        }
      ]
    },
    {
      "cell_type": "code",
      "metadata": {
        "colab": {
          "base_uri": "https://localhost:8080/"
        },
        "id": "lXATOp6QeBHk",
        "outputId": "dd79a60d-cfdb-47cc-de9b-37bf71086dc6"
      },
      "source": [
        "print('before dropping duplicates',data.shape)\n",
        "data = data.drop_duplicates()\n",
        "print('after dropping duplicates',data.shape)"
      ],
      "execution_count": 59,
      "outputs": [
        {
          "output_type": "stream",
          "name": "stdout",
          "text": [
            "before dropping duplicates (1704759, 14)\n",
            "after dropping duplicates (1704757, 14)\n"
          ]
        }
      ]
    },
    {
      "cell_type": "markdown",
      "metadata": {
        "id": "YS9e9HmOwocL"
      },
      "source": [
        "**One Hot Encoding for CALL_TYPE**"
      ]
    },
    {
      "cell_type": "code",
      "metadata": {
        "id": "jMT8aFDHwJcW"
      },
      "source": [
        "data = pd.get_dummies(data, columns=['CALL_TYPE'])"
      ],
      "execution_count": 60,
      "outputs": []
    },
    {
      "cell_type": "code",
      "metadata": {
        "colab": {
          "base_uri": "https://localhost:8080/"
        },
        "id": "G2a6-IMkwN_7",
        "outputId": "0d22856f-e2e0-4002-81eb-c803f68c2b36"
      },
      "source": [
        "data.shape"
      ],
      "execution_count": 61,
      "outputs": [
        {
          "output_type": "execute_result",
          "data": {
            "text/plain": [
              "(1704757, 16)"
            ]
          },
          "metadata": {},
          "execution_count": 61
        }
      ]
    },
    {
      "cell_type": "code",
      "metadata": {
        "colab": {
          "base_uri": "https://localhost:8080/",
          "height": 310
        },
        "id": "4c3TcdiewYmD",
        "outputId": "09223df2-8305-4213-f250-036ac971eb3f"
      },
      "source": [
        "data.head(5)"
      ],
      "execution_count": 62,
      "outputs": [
        {
          "output_type": "execute_result",
          "data": {
            "text/html": [
              "<div>\n",
              "<style scoped>\n",
              "    .dataframe tbody tr th:only-of-type {\n",
              "        vertical-align: middle;\n",
              "    }\n",
              "\n",
              "    .dataframe tbody tr th {\n",
              "        vertical-align: top;\n",
              "    }\n",
              "\n",
              "    .dataframe thead th {\n",
              "        text-align: right;\n",
              "    }\n",
              "</style>\n",
              "<table border=\"1\" class=\"dataframe\">\n",
              "  <thead>\n",
              "    <tr style=\"text-align: right;\">\n",
              "      <th></th>\n",
              "      <th>TRIP_ID</th>\n",
              "      <th>ORIGIN_CALL</th>\n",
              "      <th>ORIGIN_STAND</th>\n",
              "      <th>TAXI_ID</th>\n",
              "      <th>TIMESTAMP</th>\n",
              "      <th>POLYLINE</th>\n",
              "      <th>year</th>\n",
              "      <th>month</th>\n",
              "      <th>month_day</th>\n",
              "      <th>hour</th>\n",
              "      <th>week_day</th>\n",
              "      <th>Polyline Length</th>\n",
              "      <th>Trip time in sec</th>\n",
              "      <th>CALL_TYPE_A</th>\n",
              "      <th>CALL_TYPE_B</th>\n",
              "      <th>CALL_TYPE_C</th>\n",
              "    </tr>\n",
              "  </thead>\n",
              "  <tbody>\n",
              "    <tr>\n",
              "      <th>577</th>\n",
              "      <td>1372636853620000380</td>\n",
              "      <td>NaN</td>\n",
              "      <td>NaN</td>\n",
              "      <td>20000380</td>\n",
              "      <td>1372636853</td>\n",
              "      <td>[[-8.610291,41.140746],[-8.6103,41.140755],[-8...</td>\n",
              "      <td>2013</td>\n",
              "      <td>7</td>\n",
              "      <td>1</td>\n",
              "      <td>0</td>\n",
              "      <td>0</td>\n",
              "      <td>24</td>\n",
              "      <td>360</td>\n",
              "      <td>0</td>\n",
              "      <td>0</td>\n",
              "      <td>1</td>\n",
              "    </tr>\n",
              "    <tr>\n",
              "      <th>3</th>\n",
              "      <td>1372636854620000520</td>\n",
              "      <td>NaN</td>\n",
              "      <td>NaN</td>\n",
              "      <td>20000520</td>\n",
              "      <td>1372636854</td>\n",
              "      <td>[[-8.574678,41.151951],[-8.574705,41.151942],[...</td>\n",
              "      <td>2013</td>\n",
              "      <td>7</td>\n",
              "      <td>1</td>\n",
              "      <td>0</td>\n",
              "      <td>0</td>\n",
              "      <td>42</td>\n",
              "      <td>630</td>\n",
              "      <td>0</td>\n",
              "      <td>0</td>\n",
              "      <td>1</td>\n",
              "    </tr>\n",
              "    <tr>\n",
              "      <th>0</th>\n",
              "      <td>1372636858620000589</td>\n",
              "      <td>NaN</td>\n",
              "      <td>NaN</td>\n",
              "      <td>20000589</td>\n",
              "      <td>1372636858</td>\n",
              "      <td>[[-8.618643,41.141412],[-8.618499,41.141376],[...</td>\n",
              "      <td>2013</td>\n",
              "      <td>7</td>\n",
              "      <td>1</td>\n",
              "      <td>0</td>\n",
              "      <td>0</td>\n",
              "      <td>22</td>\n",
              "      <td>330</td>\n",
              "      <td>0</td>\n",
              "      <td>0</td>\n",
              "      <td>1</td>\n",
              "    </tr>\n",
              "    <tr>\n",
              "      <th>10</th>\n",
              "      <td>1372636875620000233</td>\n",
              "      <td>NaN</td>\n",
              "      <td>NaN</td>\n",
              "      <td>20000233</td>\n",
              "      <td>1372636875</td>\n",
              "      <td>[[-8.619894,41.148009],[-8.620164,41.14773],[-...</td>\n",
              "      <td>2013</td>\n",
              "      <td>7</td>\n",
              "      <td>1</td>\n",
              "      <td>0</td>\n",
              "      <td>0</td>\n",
              "      <td>21</td>\n",
              "      <td>315</td>\n",
              "      <td>0</td>\n",
              "      <td>0</td>\n",
              "      <td>1</td>\n",
              "    </tr>\n",
              "    <tr>\n",
              "      <th>64</th>\n",
              "      <td>1372636896620000360</td>\n",
              "      <td>NaN</td>\n",
              "      <td>NaN</td>\n",
              "      <td>20000360</td>\n",
              "      <td>1372636896</td>\n",
              "      <td>[[-8.617599,41.146137],[-8.617581,41.14593],[-...</td>\n",
              "      <td>2013</td>\n",
              "      <td>7</td>\n",
              "      <td>1</td>\n",
              "      <td>0</td>\n",
              "      <td>0</td>\n",
              "      <td>42</td>\n",
              "      <td>630</td>\n",
              "      <td>0</td>\n",
              "      <td>0</td>\n",
              "      <td>1</td>\n",
              "    </tr>\n",
              "  </tbody>\n",
              "</table>\n",
              "</div>"
            ],
            "text/plain": [
              "                 TRIP_ID  ORIGIN_CALL  ...  CALL_TYPE_B  CALL_TYPE_C\n",
              "577  1372636853620000380          NaN  ...            0            1\n",
              "3    1372636854620000520          NaN  ...            0            1\n",
              "0    1372636858620000589          NaN  ...            0            1\n",
              "10   1372636875620000233          NaN  ...            0            1\n",
              "64   1372636896620000360          NaN  ...            0            1\n",
              "\n",
              "[5 rows x 16 columns]"
            ]
          },
          "metadata": {},
          "execution_count": 62
        }
      ]
    },
    {
      "cell_type": "markdown",
      "metadata": {
        "id": "HfHfZHM87Naz"
      },
      "source": [
        "Dropping the columns 'ORGIN_CALL', 'ORIGIN_STAND', 'TAXI_ID', 'TRIP_ID' these columns are just unique identifiers for the trip"
      ]
    },
    {
      "cell_type": "code",
      "metadata": {
        "id": "Jq41iY7ZycIW"
      },
      "source": [
        "data.drop('ORIGIN_CALL', inplace=True, axis=1)"
      ],
      "execution_count": 63,
      "outputs": []
    },
    {
      "cell_type": "code",
      "metadata": {
        "id": "gy7cIr_-z2FV"
      },
      "source": [
        "data.drop('ORIGIN_STAND', inplace=True, axis=1)"
      ],
      "execution_count": 64,
      "outputs": []
    },
    {
      "cell_type": "code",
      "metadata": {
        "id": "aQg5GR9lz-RC"
      },
      "source": [
        "data.drop('TAXI_ID', inplace=True, axis=1)"
      ],
      "execution_count": 65,
      "outputs": []
    },
    {
      "cell_type": "code",
      "metadata": {
        "id": "H8rYNJSS0Dx0"
      },
      "source": [
        "data.drop('TRIP_ID', inplace=True, axis=1)"
      ],
      "execution_count": 66,
      "outputs": []
    },
    {
      "cell_type": "code",
      "metadata": {
        "id": "zOpIlo8j0JgH"
      },
      "source": [
        "data.drop('POLYLINE', inplace=True, axis=1)"
      ],
      "execution_count": 67,
      "outputs": []
    },
    {
      "cell_type": "markdown",
      "metadata": {
        "id": "4_kNVN6W8B6u"
      },
      "source": [
        "DATA Preparation for building model"
      ]
    },
    {
      "cell_type": "code",
      "metadata": {
        "colab": {
          "base_uri": "https://localhost:8080/"
        },
        "id": "5hHd97uOw1eq",
        "outputId": "837963fb-c485-4977-ca1b-d55be5585fc7"
      },
      "source": [
        "X = data.drop(['Trip time in sec'], axis='columns')\n",
        "X.shape"
      ],
      "execution_count": 68,
      "outputs": [
        {
          "output_type": "execute_result",
          "data": {
            "text/plain": [
              "(1704757, 10)"
            ]
          },
          "metadata": {},
          "execution_count": 68
        }
      ]
    },
    {
      "cell_type": "code",
      "metadata": {
        "colab": {
          "base_uri": "https://localhost:8080/"
        },
        "id": "gDsNAy8HxpnW",
        "outputId": "d99d7596-af3e-436e-bcdd-e2d711053ac6"
      },
      "source": [
        "Y = data['Trip time in sec']\n",
        "len(Y)"
      ],
      "execution_count": 69,
      "outputs": [
        {
          "output_type": "execute_result",
          "data": {
            "text/plain": [
              "1704757"
            ]
          },
          "metadata": {},
          "execution_count": 69
        }
      ]
    },
    {
      "cell_type": "markdown",
      "metadata": {
        "id": "Buxc2Ken76Kg"
      },
      "source": [
        "Train and test splits"
      ]
    },
    {
      "cell_type": "code",
      "metadata": {
        "id": "2oaY19JDxw1b"
      },
      "source": [
        "X_train, X_test, Y_train, Y_test = train_test_split(X,Y,test_size=0.2,random_state=10)"
      ],
      "execution_count": 70,
      "outputs": []
    },
    {
      "cell_type": "code",
      "metadata": {
        "colab": {
          "base_uri": "https://localhost:8080/"
        },
        "id": "GYP4_X8k0qyT",
        "outputId": "5345789b-cf14-4663-8336-4e4aca569131"
      },
      "source": [
        "from sklearn.model_selection import GridSearchCV\n",
        "depth  =list(range(3,30))\n",
        "param_grid =dict(max_depth =depth)\n",
        "tree =GridSearchCV(DecisionTreeRegressor(),param_grid,cv =10)\n",
        "tree.fit(X_train,Y_train)"
      ],
      "execution_count": 74,
      "outputs": [
        {
          "output_type": "execute_result",
          "data": {
            "text/plain": [
              "GridSearchCV(cv=10, error_score=nan,\n",
              "             estimator=DecisionTreeRegressor(ccp_alpha=0.0, criterion='mse',\n",
              "                                             max_depth=None, max_features=None,\n",
              "                                             max_leaf_nodes=None,\n",
              "                                             min_impurity_decrease=0.0,\n",
              "                                             min_impurity_split=None,\n",
              "                                             min_samples_leaf=1,\n",
              "                                             min_samples_split=2,\n",
              "                                             min_weight_fraction_leaf=0.0,\n",
              "                                             presort='deprecated',\n",
              "                                             random_state=None,\n",
              "                                             splitter='best'),\n",
              "             iid='deprecated', n_jobs=None,\n",
              "             param_grid={'max_depth': [3, 4, 5, 6, 7, 8, 9, 10, 11, 12, 13, 14,\n",
              "                                       15, 16, 17, 18, 19, 20, 21, 22, 23, 24,\n",
              "                                       25, 26, 27, 28, 29]},\n",
              "             pre_dispatch='2*n_jobs', refit=True, return_train_score=False,\n",
              "             scoring=None, verbose=0)"
            ]
          },
          "metadata": {},
          "execution_count": 74
        }
      ]
    },
    {
      "cell_type": "code",
      "metadata": {
        "id": "ztWf9LxO0r4U"
      },
      "source": [
        "Y_train_pred =tree.predict(X_train) ##Predict train result\n",
        "Y_test_pred =tree.predict(X_test) ##Predict test result"
      ],
      "execution_count": 75,
      "outputs": []
    },
    {
      "cell_type": "code",
      "metadata": {
        "colab": {
          "base_uri": "https://localhost:8080/"
        },
        "id": "4u3ibrra1CMq",
        "outputId": "937e4b8f-e45e-4991-cc20-48abdecdf24e"
      },
      "source": [
        "print(\"Decision Tree Regressor Model:\")\n",
        "print(\"Root mean squared error value: \", sqrt(mse(Y_test, Y_test_pred)))\n",
        "print(\"R-squared value : \", r2_score(Y_test, Y_test_pred))"
      ],
      "execution_count": 76,
      "outputs": [
        {
          "output_type": "stream",
          "name": "stdout",
          "text": [
            "Decision Tree Regressor Model:\n",
            "Root mean squared error value:  4.874590157432484\n",
            "R-squared value :  0.9999487642503715\n"
          ]
        }
      ]
    },
    {
      "cell_type": "markdown",
      "metadata": {
        "id": "ZgcUFPRm6VDz"
      },
      "source": [
        "For the model to perfectly fit the RMSE value should be between 0.2 and 0.5, and for r2 square the value should be 1. The model built has a r2 square value almost equal to 1, but according to the RMSE value the model is not a perfect fit.\n"
      ]
    }
  ]
}